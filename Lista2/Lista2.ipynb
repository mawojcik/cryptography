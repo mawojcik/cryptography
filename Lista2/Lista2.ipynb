{
 "cells": [
  {
   "cell_type": "markdown",
   "metadata": {},
   "source": [
    "# Lista 2 (7 pkt.)"
   ]
  },
  {
   "cell_type": "code",
   "execution_count": 2,
   "metadata": {},
   "outputs": [],
   "source": [
    "import string\n",
    "from PIL import Image\n",
    "import numpy as np\n",
    "import matplotlib.pyplot as plt\n",
    "from matplotlib.colors import LogNorm"
   ]
  },
  {
   "cell_type": "markdown",
   "metadata": {},
   "source": [
    "## Zadanie 1. (1 pkt)"
   ]
  },
  {
   "cell_type": "markdown",
   "metadata": {},
   "source": [
    "To zadanie należy wykonać ręcznie, bez używania komputera, korzystając z instrukcji z **one_time_pad.pdf**. Zaszyfruj wiadomość o treści: \"NEW 15 HELICOPTERS.\", za pomocą klucza: 68496 47757 10126 36660 25066. Do słów, które są w tabeli poniżej użyj odpowiednio ich kodów. Uwaga: w wiadomości jest liczba mnoga \"helicopterS\"."
   ]
  },
  {
   "cell_type": "markdown",
   "metadata": {},
   "source": [
    "$\\begin{array}{|c|c|c|c|c|c|c|c|c|c|}\n",
    "\\hline\n",
    "CODE&A&E&I&N&O&T&&\\\\\n",
    "0&1&2&3&4&5&6&&&\\\\\n",
    "\\hline\n",
    "B&C&D&F&G&H&J&K&L&M\\\\\n",
    "70&71&72&73&74&75&76&77&78&79\\\\\n",
    "\\hline\n",
    "P&Q&R&S&U&V&W&X&Y&Z\\\\\n",
    "80&81&82&83&84&85&86&87&88&89\\\\\n",
    "\\hline\n",
    "FIG&.&:&,/'&(/)&+&-&=&REG/?&SPC\\\\\n",
    "90&91&92&93&94&95&96&97&98&99\\\\\n",
    "\\hline\n",
    "\\end{array}$"
   ]
  },
  {
   "cell_type": "markdown",
   "metadata": {},
   "source": [
    "$\\begin{array}{|cc|cc|cc|cc|}\n",
    "\\hline\n",
    "000&ABORT&253&DECODE&505&MILITARY&758&STREET\\\\\n",
    "\\hline\n",
    "019&ACCEPT&262&DELAY&514&MONEY&767&SUBWAY\\\\\n",
    "\\hline\n",
    "028&ACCESS&271&DIFFICULT&523&MONTH&776&SUCCESS\\\\\n",
    "\\hline\n",
    "037&ADDRESS&280&DOCUMENT&532&MORNING&785&SUPPLY\\\\\n",
    "\\hline\n",
    "046&AFFIRMATIVE&299&ENCODE&541&MORSE&794&SUPPORT\\\\\n",
    "\\hline\n",
    "055&AGENT&307&EVENING&550&NEGATIVE&802&TELEPHONE\\\\\n",
    "\\hline\n",
    "064&AIRPLANE&316&EXECUTE&569&NIGHT&811&TODAY\\\\\n",
    "\\hline\n",
    "073&AIRPORT&325&FACTORY&578&OBSERVATION&820&TOMORROW\\\\\n",
    "\\hline\n",
    "082&ANSWER&334&FAILED&587&PASSPORT&839&TRAIN\\\\\n",
    "\\hline\n",
    "091&AUTHORITY&343&FERRY&596&PERSON&848&TRANSFER\\\\\n",
    "\\hline\n",
    "109&BETWEEN&352&FLIGHT&604&PHOTOGRAPH&857&TRANSMIT\\\\\n",
    "\\hline\n",
    "118&BORDER&361&FREQUENCY&613&POSITIVE&866&TRAVEL\\\\\n",
    "\\hline\n",
    "127&BUILDING&370&HARBOUR&622&POSSIBLE&875&TRUCK\\\\\n",
    "\\hline\n",
    "136&CANCEL&389&HELICOPTER&631&POWER&884&UNABLE TO\\\\\n",
    "\\hline\n",
    "145&CHANGE&398&HIGHWAY&640&PRIORITY&893&URGENT\\\\\n",
    "\\hline\n",
    "154&CIVILIAN&406&IDENTITY&659&PROBLEM&901&VERIFY\\\\\n",
    "\\hline\n",
    "163&COMPROMISE&415&IMMEDIATE&668&QUESTION&910&WEEK\\\\\n",
    "\\hline\n",
    "172&COMPUTER&424&IMPOSSIBLE&677&RADIO&929&WITHIN\\\\\n",
    "\\hline\n",
    "181&CONFIRM&433&INFORMATION&686&RECEIVE&938&YESTERDAY\\\\\n",
    "\\hline\n",
    "190&CONTACT&442&INSTRUCTIONS&695&RENDEZVOUS&&\\\\\n",
    "\\hline\n",
    "208&COORDINATE&451&LOCATE&703&REPEAT&&\\\\\n",
    "\\hline\n",
    "217&COUNTRY&460&LOCATION&712&RESERVATION&&\\\\\n",
    "\\hline\n",
    "226&COVERT&479&MAIL&721&ROUTINE&\\\\\n",
    "\\hline\n",
    "235&CURRENT&488&MEETING&730&SATELLITE&\\\\\n",
    "\\hline\n",
    "244&DANGER&497&MESSAGE&749&SHIP&\\\\\n",
    "\\hline\n",
    "\\end{array}$"
   ]
  },
  {
   "cell_type": "markdown",
   "source": [
    "N   E     W        1    5          HELICOPTER     S\n",
    "4   2   86  90  111  555    90      0389       83\n",
    "\n",
    "Message: KEYID 42869 01115 55900 38983 \n",
    "KEY:     68496 47757 10126 36660 25066\n",
    "CIPHER:  68496 05112 91099 29340 13927"
   ],
   "metadata": {
    "collapsed": false
   }
  },
  {
   "cell_type": "markdown",
   "metadata": {},
   "source": [
    "## Zadanie 2 (1 pkt)"
   ]
  },
  {
   "cell_type": "markdown",
   "metadata": {},
   "source": [
    "To zadanie również jest do zrobienia ręcznie. Na stronie internetowej kursu akapit tekstu w sekcji \"Wykład\" (*Wykład będzie ...*) oraz akapit w sekcji \"Labolatorium\" (*Na tej ...*) zawiera wiadomość zakodowaną metodą WPS (Words Per Sentence). Odkoduj ją przy użyciu klucza otrzymanego na zajęciach. Wykorzystaj instrukcje z **one_time_pad.pdf**\n",
    "\n",
    "Uwaga: W tym przypadku numer identyfikujący klucz jest trzycyfrowy."
   ]
  },
  {
   "cell_type": "markdown",
   "metadata": {},
   "source": [
    "## Zadanie 3. (1 pkt)"
   ]
  },
  {
   "cell_type": "markdown",
   "metadata": {},
   "source": [
    "Wczytaj obrazki 'miki.png' oraz 'quest.png'."
   ]
  },
  {
   "cell_type": "code",
   "execution_count": 3,
   "metadata": {},
   "outputs": [
    {
     "data": {
      "image/png": "[encoded data removed]",
      "text/plain": [
       "<PIL.Image.Image image mode=L size=200x207>"
      ]
     },
     "execution_count": 3,
     "metadata": {},
     "output_type": "execute_result"
    }
   ],
   "source": [
    "img1 = Image.open('miki.png').convert('L')\n",
    "img1"
   ]
  },
  {
   "cell_type": "code",
   "execution_count": 4,
   "metadata": {},
   "outputs": [
    {
     "data": {
      "image/png": "[encoded data removed]",
      "text/plain": [
       "<PIL.Image.Image image mode=L size=200x207>"
      ]
     },
     "execution_count": 4,
     "metadata": {},
     "output_type": "execute_result"
    }
   ],
   "source": [
    "img2 = Image.open('quest.png').convert('L')\n",
    "img2"
   ]
  },
  {
   "cell_type": "markdown",
   "metadata": {},
   "source": [
    "Napisz funkcję **add_pic(img1, img2)**, która przyjmuje dwa obrazki i je dodaje piksel po pikselu za pomocą XOR, czyli **biały+biały=czarny, biały+czarny=biały, czarny+czarny=czarny**. Warto wykorzystać to, że **np.array(img)** zwraca tablicę, z wartościami 255 dla białych pikseli i 0 dla czarnych, aby zamienić tablicę z powrotem na obraz należy użyc **Image.fromarray()** przy czym tablica musi być typu **np.uint8** czyli tworząc tablicę podajemy typ: **np.array([1,2,3,4], dtype=np.uint8)**. Funkcja ma zwracać obrazek."
   ]
  },
  {
   "cell_type": "code",
   "execution_count": 5,
   "metadata": {},
   "outputs": [],
   "source": [
    "def add_pic(img1, img2):\n",
    "    pass"
   ]
  },
  {
   "cell_type": "markdown",
   "metadata": {},
   "source": [
    "Wygeneruj (pseudo)losowy klucz, czyli obrazek z losowymi białymi i czarnymi pikselami, użyj **np.random**. Następnie zaszyfruj tym kluczem, za pomocą **add_pic**, oba obrazki **img1** i **img2**. Zauważ, że oba obrazki wyglądają na dobrze zaszyfrowane, zobacz jednak co się wydarzy kiedy dodasz do siebie te zaszyfrowane obrazki."
   ]
  },
  {
   "cell_type": "markdown",
   "metadata": {},
   "source": [
    "## Zadanie 4 (2 pkt.)"
   ]
  },
  {
   "cell_type": "markdown",
   "metadata": {},
   "source": [
    "Zmienne ***msg1_enc*** oraz ***msg2_enc*** zawierają dwie zaszyfrowane wiadomości, w języku angielskim."
   ]
  },
  {
   "cell_type": "code",
   "execution_count": 6,
   "metadata": {},
   "outputs": [],
   "source": [
    "msg1_enc = '\\x1e\\x17\\x0c\\x12\\x1b\\x08\\x0cf\\x0e\\x11x\\x1a\\x1c\\x12o\\x06\\x18\\x1f\\x17\\x03\\x10\\x01fkh\\x1f\\x08'\n",
    "msg2_enc = '\\x0b\\ni\\x07\\x1c\\x02k\\x1f\\x16e\\x01\\x0b\\x07\\x03\\n\\x15\\x15\\x0c\\x1el\\x07\\x03\\x03\\x16\\x01\\x01\\x02'"
   ]
  },
  {
   "cell_type": "markdown",
   "metadata": {},
   "source": [
    "Wiadomo, że zostały zaszyfrowane tym samym kluczem, możemy to wykorzystać do odszyfrowania ich. W tym zadaniu konwencja zamiany liter na liczby i ich dodawania jest inna, niż w poprzednich. Znaki zamieniamy na liczby kodujące te znaki w **Unicode**, czyli za pomocą **ord()**, następnie dodajemy je do siebie za pomocą XOR na poziomie bitów, czyli za pomocą **^**. Napisz funkcję **add_str(msg1, msg2)**, które przyjmuje dwa teksty i zwraca tekst będący sumą tych tekstów zgodnie z powyższą konwencją."
   ]
  },
  {
   "cell_type": "code",
   "execution_count": 7,
   "metadata": {},
   "outputs": [],
   "source": [
    "def add_str(msg1, msg2):\n",
    "    pass"
   ]
  },
  {
   "cell_type": "markdown",
   "metadata": {},
   "source": [
    "Zauważmy, że jeżeli dwie wiadomości są zaszyfrowane tym samym kluczem to dodanie ich do siebie sprawia, że dostaniemy sumę wiadomości bez klucza. Poza tym zauważmy, że jeżeli znamy jakieś słowo występujące w którejś z wiadomości i je dodamy do sumy tych wiadomości w odpowiednim miejscu to w wyniku dostaniemy poprawne słowo z drugiej wiadomości. Zatem metoda łamania tych wiadomości jest następująca, zgadujemy jakie słowo może być w którejś z wiadomości, dodajemy je w różnych miejscach sumy wiadomości i patrzymy czy powstaje coś co może być fragmentem poprawnego tekstu, następnie na podstawie tego fragmentu zgadujemy większą pozostałą część słowa i teraz to słowo używamy do odczytania kolejnego fragmentu z pierwszej wiadomości.\n",
    "\n",
    "Pierwsze słowo wybieramy z pośród najpopularniejszych słów w danym języku.\n",
    "\n",
    "Najpopularniejsze angielskie słowa:\n",
    "1. THE\n",
    "2. BE\n",
    "3. TO\n",
    "4. OF\n",
    "5. AND\n",
    "\n",
    "Uwaga 1: Słowa zapisane są drukowanymi literami.\n",
    "\n",
    "Uwaga 2: Słowa oddzialane są spacjami, zatem biorąc np. słowo THE należy sprawdzać ciąg znaków \"&nbsp; THE &nbsp;\", ze spacjami na początku i końcu, dzięki temu odszyfrujemy więcej znaków."
   ]
  },
  {
   "cell_type": "markdown",
   "metadata": {},
   "source": [
    "## Zadanie 5 (2 pkt.)"
   ]
  },
  {
   "cell_type": "markdown",
   "metadata": {},
   "source": [
    "W poprzednim zadaniu korzystaliśmu z faktu, że obie wiadomości były zaszyfrowane przy użyciu tego samego klucza. Jednka w praktyce nie wiemy, które i czy w ogóle, wiadomosci były zaszyfrowane przy użyciu tego samego klucza. Możemy to wykryć dokonując analizy statystycznej. Załóżmy, że dodajemy do siebie dwie wiadomości zaszyfrowane tymi samymi kluczami. Wtedy miejsca w których dostaniemy 0 (w konwencji użytej w tym zadaniu znak odpowiadający 0 w Unicode, czyli chr(0)) są miejscami w których w obu wiadomościach była ta sama litera. Jeżeli natomiast dodajemy wiadomości o różnych kluczach będziemy dostawać 0 w losowych miejscach. Zatem w pierwszym przypadku otrzymamy więcej 0.\n",
    "\n",
    "Zatem należy wczytać wszystkie wiadomości msg1.txt, msg2.txt itd. a następnie dodać je do siebie parami, każda z każdą i policzyć odsetek 0 (tzn. znaków chr(0)) w otrzymanych sumach. Para wiadomości o wyższym niż inne odsetku będzie tą zaszyfrowaną przy u życiu tego samego klucza. Aby łatwiej zauważyć taką parę warto zilustrować sobie wyniki (odsetki 0) za pomocą **plt.imshow(X ,norm=LogNorm())** i użyć skali logarytmicznej, gdzie **X** to tablica 10 na 10 zawierająca odsetki 0 dla każdej pary wiadomości."
   ]
  }
 ],
 "metadata": {
  "kernelspec": {
   "display_name": "Python 3.10.4 ('QSVM')",
   "language": "python",
   "name": "python3"
  },
  "language_info": {
   "codemirror_mode": {
    "name": "ipython",
    "version": 3
   },
   "file_extension": ".py",
   "mimetype": "text/x-python",
   "name": "python",
   "nbconvert_exporter": "python",
   "pygments_lexer": "ipython3",
   "version": "3.10.4"
  },
  "vscode": {
   "interpreter": {
    "hash": "96ad6c7fd9d06889208fc918e485ee5403ac6f6c27ad3f857e9a26d0c3a3092d"
   }
  }
 },
 "nbformat": 4,
 "nbformat_minor": 2
}
