{
 "cells": [
  {
   "cell_type": "markdown",
   "metadata": {},
   "source": [
    "# Lista 1 (9 pkt.)"
   ]
  },
  {
   "cell_type": "code",
   "execution_count": 1,
   "metadata": {},
   "outputs": [],
   "source": [
    "import string\n",
    "import matplotlib.pyplot as plt\n",
    "import numpy as np"
   ]
  },
  {
   "cell_type": "markdown",
   "metadata": {},
   "source": [
    "## Zadanie 1 (1 pkt.)"
   ]
  },
  {
   "cell_type": "markdown",
   "metadata": {},
   "source": [
    "Zaimplementuj szyfr Cezara. Napisz funkcję **Cezar(tekst, klucz)** tak aby jako argumenty przyjmowała tekst do zaszyfrowania oraz klucz a zwracała zaszyfrowany tekst. Funkcja ta dostając jako argumenty zaszyfrowany tekst oraz **-klucz** (klucz, ktorym zaszyfrowano tekst ze znakiem minus) będzie zwracała odszyfrowany tekst. Funkcja powinna przejść testy, czyli powinna 8 razy zwrócić **True**.\n",
    "\n",
    "Pamiętaj o polskich znakach. Szyfrujemy tylko litery, natomiast cyfry, znaki interpunkcyjne i białe znaki zostają bez zmian. Wielkie litery po zaszyfrowaniu są również wielkie. Użyj poniższego alfabetu."
   ]
  },
  {
   "cell_type": "code",
   "execution_count": 2,
   "metadata": {},
   "outputs": [],
   "source": [
    "alfabet = ['a','ą', 'b', 'c', 'ć', 'd', 'e', 'ę', 'f', 'g', 'h', 'i', 'j', 'k', 'l', 'ł', 'm', \n",
    "           'n', 'ń', 'o','ó', 'p', 'q','r', 's', 'ś', 't', 'u','v', 'w', 'x','y', 'z','ź','ż']"
   ]
  },
  {
   "cell_type": "markdown",
   "metadata": {},
   "source": [
    "Przy implementacji mogą być przydatne takie elementy biblioteki string jak: **string.punctuation, string.whitespace, string.digits, upper(), lower(), isupper()**"
   ]
  },
  {
   "cell_type": "code",
   "execution_count": 3,
   "metadata": {},
   "outputs": [
    {
     "data": {
      "text/plain": [
       "True"
      ]
     },
     "execution_count": 3,
     "metadata": {},
     "output_type": "execute_result"
    }
   ],
   "source": [
    "'C'.isupper()"
   ]
  },
  {
   "cell_type": "code",
   "execution_count": 4,
   "metadata": {},
   "outputs": [],
   "source": [
    "def Cezar(tekst,klucz):\n",
    "    pass"
   ]
  },
  {
   "cell_type": "code",
   "execution_count": 5,
   "metadata": {},
   "outputs": [
    {
     "name": "stdout",
     "output_type": "stream",
     "text": [
      "False\n",
      "False\n",
      "False\n",
      "False\n",
      "False\n",
      "False\n",
      "False\n",
      "False\n"
     ]
    }
   ],
   "source": [
    "print(Cezar('Ala ma kota.',3)=='Cnc oc mqwc.')\n",
    "print(Cezar('Ala ma kota.',20)=='Óżó ąó źćió.')\n",
    "print(Cezar('Ala ma 2 koty.',5)=='Dod pd 2 ńsyą.')\n",
    "print(Cezar('Daremne żale, próżny trud,\\nBezsilne złorzeczenia!\\nPrzeżytych kształtów żaden cud\\nNie wróci do istnienia.',7)\n",
    "                  =='Jęxkrsk eępk, vxuesc źxżj,\\nGkćyńpsk ćqtxćkhćksńę!\\nVxćkecźchn óyćźęqźuą eęjks hżj\\nSńk ąxuhń jt ńyźsńksńę.')\n",
    "print(Cezar('Cnc oc mqwc.',-3)=='Ala ma kota.')\n",
    "print(Cezar('Óżó ąó źćió.',-20)=='Ala ma kota.')\n",
    "print(Cezar('Dod pd 2 ńsyą.',-5)=='Ala ma 2 koty.')\n",
    "print(Cezar('Jęxkrsk eępk, vxuesc źxżj,\\nGkćyńpsk ćqtxćkhćksńę!\\nVxćkecźchn óyćźęqźuą eęjks hżj\\nSńk ąxuhń jt ńyźsńksńę.',-7)\n",
    "                  =='Daremne żale, próżny trud,\\nBezsilne złorzeczenia!\\nPrzeżytych kształtów żaden cud\\nNie wróci do istnienia.')"
   ]
  },
  {
   "cell_type": "markdown",
   "metadata": {},
   "source": [
    "## Zadanie 2 (1 pkt.)"
   ]
  },
  {
   "cell_type": "markdown",
   "metadata": {},
   "source": [
    "Wiedząc, że poniższy tekst zaszyfrowano metodą Cezara, odszyfruj go metodą \"brute force\". Co to za cytat?"
   ]
  },
  {
   "cell_type": "code",
   "execution_count": 6,
   "metadata": {},
   "outputs": [],
   "source": [
    "tekst = 'Hćcrek okyź hćęy? Okzpń sńóź rsńk t źt sńk vcźę, ąńkr. Okzpń vcźęofhkrż żyńqżol ącźqżręhćci, sńk ąńkr.'"
   ]
  },
  {
   "cell_type": "markdown",
   "metadata": {},
   "source": [
    "## Zadanie 3 (2 pkt.)"
   ]
  },
  {
   "cell_type": "markdown",
   "metadata": {},
   "source": [
    "Plik **'ksiazka1.txt'** zawiera tekst pewnej książki zaszyfrowany metodą Cezara. Dokonaj analizy statystycznej liter i na tej podstawie znajdź klucz oraz odszyfruj tekst. Jaka to książka?\n",
    "\n",
    "Do wczytania pliku możesz użyć poniższego kodu."
   ]
  },
  {
   "cell_type": "code",
   "execution_count": 7,
   "metadata": {},
   "outputs": [],
   "source": [
    "plik=open('ksiazka1.txt', encoding='utf8')\n",
    "ksiazka=plik.read()\n",
    "plik.close()"
   ]
  },
  {
   "cell_type": "markdown",
   "metadata": {},
   "source": [
    "Słownik **czestoliwosc** zawiera częstotliwości występowania liter w języku polskim."
   ]
  },
  {
   "cell_type": "code",
   "execution_count": 8,
   "metadata": {},
   "outputs": [],
   "source": [
    "czestotliwosc = {'a':0.0891,'ą':0.0099, 'b':0.0147, 'c':0.0396, 'ć':0.004, 'd':0.0325, 'e':0.0766, 'ę':0.0111, 'f':0.003, \n",
    "                 'g':0.0142, 'h':0.0108, 'i':0.0821, 'j':0.0228, 'k':0.0351, 'l':0.021, 'ł':0.0182,'m':0.028, 'n':0.0552, \n",
    "                 'ń':0.002, 'o':0.0775,'ó':0.0085, 'p':0.0313, 'q':0.0014, 'r':0.0469, 's':0.0432,'ś':0.0066, 't':0.0398,\n",
    "                 'u':0.025, 'v': 0.0004, 'w':0.0465 ,'x':0.0002,'y':0.0376, 'z':0.0564,'ź':0.0006,'ż':0.0083}"
   ]
  },
  {
   "cell_type": "code",
   "execution_count": 9,
   "metadata": {},
   "outputs": [
    {
     "data": {
      "text/plain": [
       "<BarContainer object of 35 artists>"
      ]
     },
     "execution_count": 9,
     "metadata": {},
     "output_type": "execute_result"
    },
    {
     "data": {
      "image/png": "[encoded data removed]",
      "text/plain": [
       "<Figure size 640x480 with 1 Axes>"
      ]
     },
     "metadata": {},
     "output_type": "display_data"
    }
   ],
   "source": [
    "plt.bar(czestotliwosc.keys(),czestotliwosc.values())"
   ]
  },
  {
   "cell_type": "markdown",
   "metadata": {},
   "source": [
    "## Zadanie 4 (2 pkt.)"
   ]
  },
  {
   "cell_type": "markdown",
   "metadata": {},
   "source": [
    "Napisz dwie funkcje, szyfrującą i deszyfrującą, dla szyfru Vignere'a. Funkcja **Vignere_zaszyfruj(tekst, klucz)** przyjmuje jako argumenty tekst do zaszyfrowania oraz klucz w postaci słowa. Podobnie funkcja **Vignere_odszyfruj(tekst, klucz)** przyjmuje jako argumenty tekst zaszyfrowany oraz klucz w postaci słowa. Może być przydatne skorzystanie z zamiany liter na liczby (tzn. na liczby określające pozycję litery w alfabecie):"
   ]
  },
  {
   "cell_type": "code",
   "execution_count": 10,
   "metadata": {},
   "outputs": [],
   "source": [
    "liczb_do_lit=dict()\n",
    "lit_do_liczb=dict()\n",
    "for i,l in enumerate(alfabet):\n",
    "    liczb_do_lit[i]=l\n",
    "    lit_do_liczb[l]=i"
   ]
  },
  {
   "cell_type": "code",
   "execution_count": 11,
   "metadata": {},
   "outputs": [],
   "source": [
    "def Vignere_zaszyfruj(tekst,klucz):\n",
    "    pass"
   ]
  },
  {
   "cell_type": "code",
   "execution_count": 12,
   "metadata": {},
   "outputs": [],
   "source": [
    "def Vignere_odszyfruj(tekst,klucz):\n",
    "    pass"
   ]
  },
  {
   "cell_type": "code",
   "execution_count": 13,
   "metadata": {},
   "outputs": [
    {
     "name": "stdout",
     "output_type": "stream",
     "text": [
      "False\n",
      "False\n",
      "False\n",
      "False\n",
      "False\n",
      "False\n",
      "False\n",
      "False\n"
     ]
    }
   ],
   "source": [
    "print(Vignere_zaszyfruj('Ala ma kota.','ela')=='Eva ql kśda.')\n",
    "print(Vignere_zaszyfruj('Ala ma kota.','tygrys')=='Thg ćy bhqg.')\n",
    "print(Vignere_zaszyfruj('Ala ma 2 koty.','indywidualistyczny')=='Iyd jw 2 ssńy.')\n",
    "print(Vignere_zaszyfruj('Daremne żale, próżny trud,\\nBezsilne złorzeczenia!\\nPrzeżytych kształtów żaden cud\\nNie wróci do istnienia.','asnyk')\n",
    "                  =='Dsdbwnx myue, hdmjnó fodd,\\nTrvbicżb hłfdvocprksa!\\nHdvożófumh bevćaćfmę żsqbx cmq\\nKse ńdmmi wą ębtevbxis.')\n",
    "print(Vignere_odszyfruj('Eva ql kśda.','ela')=='Ala ma kota.')\n",
    "print(Vignere_odszyfruj('Thg ćy bhqg.','tygrys')=='Ala ma kota.')\n",
    "print(Vignere_odszyfruj('Iyd jw 2 ssńy.','indywidualistyczny')=='Ala ma 2 koty.')\n",
    "print(Vignere_odszyfruj('Dsdbwnx myue, hdmjnó fodd,\\nTrvbicżb hłfdvocprksa!\\nHdvożófumh bevćaćfmę żsqbx cmq\\nKse ńdmmi wą ębtevbxis.','asnyk')\n",
    "                  =='Daremne żale, próżny trud,\\nBezsilne złorzeczenia!\\nPrzeżytych kształtów żaden cud\\nNie wróci do istnienia.')"
   ]
  },
  {
   "cell_type": "markdown",
   "metadata": {},
   "source": [
    "## Zadanie 5 (3 pkt.)"
   ]
  },
  {
   "cell_type": "markdown",
   "metadata": {},
   "source": [
    "Plik **'ksiazka2.txt'** zawiera tekst pewnej książki zaszyfrowany metodą Vignere'a. Dokonaj analizy statystycznej liter i na tej podstawie znajdź klucz oraz odszyfruj tekst. Jaka to książka?\n",
    "\n",
    "Wskazówka I: Zauważ, że w metodzie Vignere'a co $n$-ta litera (gdzie $n$ to długość klucza) jest zaszyfrowana metodą Cezara.\n",
    "\n",
    "Wskazówka II: Najpierw ustal długość klucza $n$.\n",
    "\n",
    "Do wczytania pliku możesz użyć poniższego kodu."
   ]
  },
  {
   "cell_type": "code",
   "execution_count": 14,
   "metadata": {},
   "outputs": [],
   "source": [
    "plik=open('ksiazka2.txt', encoding='utf8')\n",
    "ksiazka=plik.read()\n",
    "plik.close()"
   ]
  }
 ],
 "metadata": {
  "kernelspec": {
   "display_name": "Python 3 (ipykernel)",
   "language": "python",
   "name": "python3"
  },
  "language_info": {
   "codemirror_mode": {
    "name": "ipython",
    "version": 3
   },
   "file_extension": ".py",
   "mimetype": "text/x-python",
   "name": "python",
   "nbconvert_exporter": "python",
   "pygments_lexer": "ipython3",
   "version": "3.9.18"
  },
  "vscode": {
   "interpreter": {
    "hash": "96ad6c7fd9d06889208fc918e485ee5403ac6f6c27ad3f857e9a26d0c3a3092d"
   }
  }
 },
 "nbformat": 4,
 "nbformat_minor": 4
}
