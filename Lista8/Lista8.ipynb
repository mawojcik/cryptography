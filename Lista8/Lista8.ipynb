{
 "cells": [
  {
   "cell_type": "markdown",
   "metadata": {},
   "source": [
    "# Lista 8 (10 pkt.)"
   ]
  },
  {
   "cell_type": "code",
   "execution_count": 3,
   "metadata": {
    "ExecuteTime": {
     "end_time": "2024-11-29T10:17:53.685941Z",
     "start_time": "2024-11-29T10:17:53.057987Z"
    }
   },
   "outputs": [],
   "source": [
    "import numpy as np\n",
    "import matplotlib.pyplot as plt"
   ]
  },
  {
   "cell_type": "markdown",
   "metadata": {},
   "source": [
    "## Zadanie 1 (2 pkt.)"
   ]
  },
  {
   "cell_type": "markdown",
   "metadata": {},
   "source": [
    "Napisz funkcję **gen(a,b,p)**, która generuje listę punktów reprezentujących krzywą eliptyczną nad $\\mathbb{Z}_p$ o równaniu $y^2=(x^3+ax+b)\\mod p$."
   ]
  },
  {
   "cell_type": "code",
   "execution_count": 4,
   "metadata": {
    "ExecuteTime": {
     "end_time": "2024-11-29T10:17:53.704416Z",
     "start_time": "2024-11-29T10:17:53.688886Z"
    }
   },
   "outputs": [],
   "source": [
    "def gen(a, b, p):\n",
    "    result = []\n",
    "    for x in range(p):\n",
    "        y_squared = (x**3 + a*x + b) % p\n",
    "        for y in range(p):\n",
    "            if (y**2) % p == y_squared:\n",
    "                result.append([x, y])\n",
    "    return result"
   ]
  },
  {
   "cell_type": "code",
   "execution_count": 5,
   "metadata": {
    "ExecuteTime": {
     "end_time": "2024-11-29T10:17:53.705100Z",
     "start_time": "2024-11-29T10:17:53.694504Z"
    }
   },
   "outputs": [
    {
     "name": "stdout",
     "output_type": "stream",
     "text": [
      "True\n",
      "True\n",
      "True\n",
      "True\n"
     ]
    }
   ],
   "source": [
    "print(gen(-1,0,7)==[[0, 0], [1, 0], [4, 2], [4, 5], [5, 1], [5, 6], [6, 0]])\n",
    "print(gen(-1,0,11)==[[0, 0], [1, 0], [4, 4], [4, 7], [6, 1], [6, 10], [8, 3], [8, 8], [9, 4], [9, 7], [10, 0]])\n",
    "print(gen(-1,1,7)==[[0, 1], [0, 6], [1, 1], [1, 6], [2, 0], [3, 2], [3, 5], [5, 3], [5, 4], [6, 1], [6, 6]])\n",
    "print(gen(0,2,5)==[[2, 0], [3, 2], [3, 3], [4, 1], [4, 4]])"
   ]
  },
  {
   "cell_type": "markdown",
   "metadata": {},
   "source": [
    "## Zadanie 2 (2 pkt.)"
   ]
  },
  {
   "cell_type": "markdown",
   "metadata": {},
   "source": [
    "Napisz funkcję **add(P,Q,a,p)**, która dodaje do siebie punkty $P$ i $Q$ na krzywej eliptycznej nad ciałem $\\mathbb{Z}_p$ z parametrem $a$. Wykorzystaj wzory z wykładu.\n",
    "\n",
    "$$x_3 = \\left(s^2-x_1-x_2\\right) \\mod p$$\n",
    "$$y_3 = \\left(s\\left(x_1-x_3\\right)-y_1 \\right) \\mod p$$\n",
    "\n",
    "$$s=\\frac{y_2-y_1}{x_2-x_1} \\mod p \\quad P\\neq Q$$\n",
    "$$s=\\frac{3x_1^2+a}{2y_1} \\mod p \\quad P=Q$$\n",
    "\n",
    "$(x_3, y_3)$ to współrzędne punktu będącego sumą punktów $(x_1, y_1)$ i $(x_2, y_2)$. Natomiast $a$ to współczynnik z równania krzywej.\n",
    "\n",
    "Uwaga 1: wszystkie operacje w tych wzorach są na ciele $\\mathbb{Z}_p$ zatem tam gdzie mamy dzielenie mamy tak naprawdę mnożenie przez odwrotność w tym ciele, wykorzystaj tutaj funkcję **inv** z poprzedniej listy, może być potrzeba ją nieco zmodyfikować, ponieważ może się tu pojawić dzielenie przez zero, które daje nam punkt \"w nieskończości\" (na wykładzie: $\\mathcal{O}$).\n",
    "\n",
    "Uwaga 2: Uwzględnij również, że zarówno w wyniku dodawania jak i w argumentach dodawanie może pojawić się punkt \"w nieskończoności\", zwracaj go jako **nan**, tj. za pomocą **float('nan')**, do sprawdzania czy coś jest **nan** użyj **np.isnan()**."
   ]
  },
  {
   "cell_type": "code",
   "execution_count": 6,
   "outputs": [],
   "source": [
    "def inv(p, n):\n",
    "    if p == 0:\n",
    "        return float('nan')\n",
    "\n",
    "    s0, s1 = 1, 0\n",
    "    t0, t1 = 0, 1\n",
    "\n",
    "    while n != 0:\n",
    "        div = p // n\n",
    "        s0, s1 = s1, s0 - (div * s1)\n",
    "        t0, t1 = t1, t0 - (div * t1)\n",
    "        p, n = n, p % n\n",
    "\n",
    "    return s0 + s1 if s0 < 0 else s0"
   ],
   "metadata": {
    "collapsed": false,
    "ExecuteTime": {
     "end_time": "2024-11-29T10:17:53.767885Z",
     "start_time": "2024-11-29T10:17:53.710166Z"
    }
   }
  },
  {
   "cell_type": "code",
   "execution_count": 7,
   "metadata": {
    "ExecuteTime": {
     "end_time": "2024-11-29T10:17:53.777643Z",
     "start_time": "2024-11-29T10:17:53.719396Z"
    }
   },
   "outputs": [],
   "source": [
    "def add(P, Q, a, p):\n",
    "    x1, y1 = P\n",
    "    x2, y2 = Q\n",
    "\n",
    "    if P == Q:\n",
    "        if y1 != 0:\n",
    "            s = (x1**2 * 3 + a) * inv(2 * y1, p) % p\n",
    "        else:\n",
    "            return [float('nan'), float('nan')]\n",
    "    elif np.isnan(x1) and np.isnan(y1):\n",
    "        return Q\n",
    "    elif np.isnan(x2) and np.isnan(y2):\n",
    "        return P\n",
    "    else:\n",
    "        diff = x2 - x1\n",
    "        if diff != 0:\n",
    "            s = (y2 - y1) * inv(diff, p) % p\n",
    "        else:\n",
    "            return [float('nan'), float('nan')]\n",
    "\n",
    "    x3 = (s ** 2 - x1 - x2) % p\n",
    "    y3 = (s * (x1 - x3) - y1) % p\n",
    "\n",
    "    return [x3, y3]"
   ]
  },
  {
   "cell_type": "code",
   "execution_count": 8,
   "metadata": {
    "ExecuteTime": {
     "end_time": "2024-11-29T10:17:53.780045Z",
     "start_time": "2024-11-29T10:17:53.728322Z"
    }
   },
   "outputs": [
    {
     "name": "stdout",
     "output_type": "stream",
     "text": [
      "True\n",
      "True\n",
      "True\n",
      "True\n",
      "[ True  True]\n",
      "[ True  True]\n",
      "True\n",
      "[ True  True]\n"
     ]
    }
   ],
   "source": [
    "print(add([4,2],[5,1],-1,7)==[6,0])\n",
    "print(add([4,2],[4,2],-1,7)==[1,0])\n",
    "print(add([4,2],[5,1],-1,7)==[6,0])\n",
    "print(add([4,2],[float('nan'),float('nan')],-1,7)==[4,2])\n",
    "print(np.isnan(add([float('nan'),float('nan')],[float('nan'),float('nan')],-1,7)))\n",
    "print(np.isnan(add([0,0],[0,0],-1,7)))\n",
    "print(add([2,0],[3,2],0,5)==[4,1])\n",
    "print(np.isnan(add([2,0],[2,0],0,5)))"
   ]
  },
  {
   "cell_type": "markdown",
   "metadata": {},
   "source": [
    "W oparciu o poprzednią funkcję napisz funkcję **multiply(n,P,a,p)**, która mnoży punkt $P$ razy liczbę naturalną $n$ na krzywej eliptycznej nad ciałem $\\mathbb{Z}_p$ z parametrem $a$, tzn. dodaje ten punkt do siebie $n$ razy."
   ]
  },
  {
   "cell_type": "code",
   "execution_count": 9,
   "metadata": {
    "ExecuteTime": {
     "end_time": "2024-11-29T10:17:53.780317Z",
     "start_time": "2024-11-29T10:17:53.735885Z"
    }
   },
   "outputs": [],
   "source": [
    "def multiply(n, P, a, p):\n",
    "    result = P\n",
    "\n",
    "    if np.isnan(P[0]) and np.isnan(P[1]):\n",
    "        return result\n",
    "\n",
    "    for _ in range(n - 1):\n",
    "        result = add(result, P, a, p)\n",
    "\n",
    "    return result"
   ]
  },
  {
   "cell_type": "code",
   "execution_count": 10,
   "metadata": {
    "ExecuteTime": {
     "end_time": "2024-11-29T10:17:53.780682Z",
     "start_time": "2024-11-29T10:17:53.744283Z"
    }
   },
   "outputs": [
    {
     "name": "stdout",
     "output_type": "stream",
     "text": [
      "True\n",
      "True\n",
      "True\n",
      "[ True  True]\n",
      "[ True  True]\n",
      "True\n",
      "True\n"
     ]
    }
   ],
   "source": [
    "print(multiply(1,[4,2],-1,7)==[4,2])\n",
    "print(multiply(1,[4,2],-1,7)==[4,2])\n",
    "print(multiply(3,[4,2],-1,7)==[4,5])\n",
    "print(np.isnan(multiply(4,[4,2],-1,7)))\n",
    "print(np.isnan(multiply(2,[float('nan'),float('nan')],-1,7)))\n",
    "print(multiply(5,[2,0],0,5)==[2,0])\n",
    "print(multiply(5,[3,3],0,5)==[3,2])"
   ]
  },
  {
   "cell_type": "markdown",
   "metadata": {},
   "source": [
    "## Zadanie 3 (2 pkt.)"
   ]
  },
  {
   "cell_type": "markdown",
   "metadata": {},
   "source": [
    "Narysuj na wykresie punkty (**plt.scatter()**) reprezentujące krzywą eliptyczną. Stosując funkcję **multiply()** przeanalizuj jaką grupę generuje każdy z punktów tej krzywej, wypisz te grupy. Nie automatyzuj tego, tzn. operacje na punktach wykonuj stosując wcześniejsze funkcje ale analizę poszczególnych grup przeprowadź ręcznie.\n",
    "\n",
    "Na przykład dla krzywej $y^2=x^3-5x$ nad ciałem $\\mathbb{Z}_5$ mamy 5 punktów (łącznie z punktem w nieskończoności, którego nie ma na wykresie, 6 punktów):\n",
    "\n",
    "<img src=\"fig.png\" width=\"500\"/>\n",
    "\n",
    "Punkt $P_0$ generuje dwuelementową grupę:\n",
    "\n",
    "{$P_0,\\mathcal{O}$},\n",
    "\n",
    "bo $2P_0=\\mathcal{O}$,\n",
    "\n",
    "punkt $P_1$ generuje pięcioelementową grupę:\n",
    "\n",
    "{$P_1,P_3,P_4,P_2,\\mathcal{O}$}\n",
    "\n",
    "bo $2P_1=P_3,3P_1=P_4,4P_1=P_2,5P_1=\\mathcal{O}$\n",
    "\n",
    "pozostałe elementy $P_2,P_3,P_4$ generują dokładnie tą samą grupę, zatem na tej krzywej mamy określone dwie grupy jedną dwuelementową i jedną pięcioelementową.\n",
    "\n",
    "Przeprowadź podobną analizę dla przykładów:\n",
    "1. krzywa nad ciałem $\\mathbb{Z}_7$ o równaniu $y^2=x^3-x$\n",
    "2. krzywa nad ciałem $\\mathbb{Z}_5$ o równaniu $y^2=x^3-2x+1$"
   ]
  },
  {
   "cell_type": "markdown",
   "metadata": {},
   "source": [
    "## Zadanie 4 (1 pkt)"
   ]
  },
  {
   "cell_type": "markdown",
   "metadata": {},
   "source": [
    "Sprawdź numerycznie, korzystając z funkcji **gen()**, twierdzenie Hassego. Sprawdź, że ze wzrostem liczby pierwszej $p$ dla krzywej o parametrach $a=-1$, $b=0$ liczba punktów na krzywej podąża za oszacowaniem $p+1-2\\sqrt{p}\\leq\\#E\\leq p+1+2\\sqrt{p}$. Narysuj wykres $\\#E(p)$ i proste o równaniach $p+1-2\\sqrt{p}$ oraz $p+1+2\\sqrt{p}$.\n",
    "\n",
    "Uwaga: Możesz wygenerować liczby pierwsze, np. w zakresie od 0 do 1000, za pomocą:"
   ]
  },
  {
   "cell_type": "code",
   "execution_count": 11,
   "metadata": {
    "ExecuteTime": {
     "end_time": "2024-11-29T10:17:53.780872Z",
     "start_time": "2024-11-29T10:17:53.751390Z"
    }
   },
   "outputs": [],
   "source": [
    "from sympy import primerange\n",
    "prime = list(primerange(0, 1000))"
   ]
  },
  {
   "cell_type": "markdown",
   "metadata": {},
   "source": [
    "lub jakkolwiek inaczej."
   ]
  },
  {
   "cell_type": "code",
   "execution_count": 29,
   "outputs": [
    {
     "data": {
      "text/plain": "<Figure size 1000x800 with 1 Axes>",
      "image/png": "[encoded data removed]"
     },
     "metadata": {},
     "output_type": "display_data"
    }
   ],
   "source": [
    "a = -1\n",
    "b = 0\n",
    "\n",
    "num_points = []\n",
    "lower = []\n",
    "upper = []\n",
    "\n",
    "for p in prime:\n",
    "    points = gen(a, b, p)\n",
    "    num_points.append(len(points))\n",
    "\n",
    "y_range = range(0, 1010, 10)\n",
    "for x in y_range:\n",
    "    lower.append(x + 1 - 2 * np.sqrt(x))\n",
    "    upper.append(x + 1 + 2 * np.sqrt(x))\n",
    "\n",
    "plt.figure(figsize=(10, 8))\n",
    "plt.scatter(prime, num_points, color='r', s=5, label='#E(p)')\n",
    "plt.plot(y_range, lower, label='p + 1 - 2*sqrt(p)')\n",
    "plt.plot(y_range, upper, label='p + 1 + 2*sqrt(p)')\n",
    "\n",
    "plt.title('Twierdzenie Hassego dla krzywej eliptycznej')\n",
    "plt.xlabel('Liczba pierwsza p')\n",
    "plt.ylabel('Liczba punktów na krzywej')\n",
    "plt.legend()\n",
    "plt.show()"
   ],
   "metadata": {
    "collapsed": false,
    "ExecuteTime": {
     "end_time": "2024-11-29T10:27:04.163195Z",
     "start_time": "2024-11-29T10:26:46.102540Z"
    }
   }
  },
  {
   "cell_type": "markdown",
   "metadata": {},
   "source": [
    "## Zadanie 5 (2 pkt.)"
   ]
  },
  {
   "cell_type": "markdown",
   "metadata": {},
   "source": [
    "Napisz funkcję **ord(G,a,p)** znajdującą rząd punktu $G$ na krzywej o parametrach $a$, $p$ (oznaczenia jak w poprzednich zadaniach). Rząd elementu to $n$ takie, że $nG=\\mathcal{O}$. Znajdź punkt na krzywej o parametrach $a=-1$,$b=0$,$p=97$ o największym rzędzie, moze ich być więcej niż jeden, wybierz którykolwiek."
   ]
  },
  {
   "cell_type": "code",
   "execution_count": 31,
   "metadata": {
    "ExecuteTime": {
     "end_time": "2024-11-29T11:18:07.789780Z",
     "start_time": "2024-11-29T11:18:07.769025Z"
    }
   },
   "outputs": [],
   "source": [
    "def ord(G, a, p):\n",
    "    result = G\n",
    "    n = 1\n",
    "\n",
    "    while not (np.isnan(result[0]) and np.isnan(result[1])):\n",
    "        result = add(result, G, a, p)\n",
    "        n += 1\n",
    "\n",
    "    return n"
   ]
  },
  {
   "cell_type": "code",
   "execution_count": 32,
   "metadata": {
    "ExecuteTime": {
     "end_time": "2024-11-29T11:18:08.695515Z",
     "start_time": "2024-11-29T11:18:08.686071Z"
    }
   },
   "outputs": [
    {
     "name": "stdout",
     "output_type": "stream",
     "text": [
      "True\n",
      "True\n",
      "True\n",
      "True\n",
      "True\n",
      "True\n"
     ]
    }
   ],
   "source": [
    "print(ord([4,4],-1,11)==3)\n",
    "print(ord([8,8],-1,11)==6)\n",
    "print(ord([3,2],-1,7)==3)\n",
    "print(ord([3,5],-1,7)==3)\n",
    "print(ord([3,2],0,5)==3)\n",
    "print(ord([0,0],0,5)==2)"
   ]
  },
  {
   "cell_type": "markdown",
   "metadata": {},
   "source": [
    "## Zadanie 6 (1 pkt)"
   ]
  },
  {
   "cell_type": "markdown",
   "metadata": {},
   "source": [
    "Prześledź działanie protokołu Diffiego-Helmana, jednak tym razem opertego o krzywe eliptyczne, i uzupełnij poszczególne kroki.\n",
    "\n",
    "Alicja i Bob ustalają publicznie krzywą eliptyczą (czyli parametry $a$, $b$, $p$) w której będą działać oraz punkt na tej krzywej $G$. Weź krzywą z poprzedniego zadania oraz znaleziony w nim punkt."
   ]
  },
  {
   "cell_type": "code",
   "execution_count": 15,
   "metadata": {
    "ExecuteTime": {
     "end_time": "2024-11-29T10:18:12.165137Z",
     "start_time": "2024-11-29T10:18:12.157364Z"
    }
   },
   "outputs": [],
   "source": [
    "a = None\n",
    "b = None\n",
    "G = None\n",
    "p = None"
   ]
  },
  {
   "cell_type": "markdown",
   "metadata": {},
   "source": [
    "Alicja wybiera losową liczbę naturalną $n$ z przedziału $[2,\\#E-1]$, $\\#E$ to liczba punktów na krzywej:"
   ]
  },
  {
   "cell_type": "code",
   "execution_count": 16,
   "metadata": {
    "ExecuteTime": {
     "end_time": "2024-11-29T10:18:12.166530Z",
     "start_time": "2024-11-29T10:18:12.161500Z"
    }
   },
   "outputs": [],
   "source": [
    "n=None"
   ]
  },
  {
   "cell_type": "markdown",
   "metadata": {},
   "source": [
    "Następnie oblicza $A=nG$ zgodnie z zasadami mnożenia punktów na krzywej przez liczbe naturalną:"
   ]
  },
  {
   "cell_type": "code",
   "execution_count": 17,
   "metadata": {
    "ExecuteTime": {
     "end_time": "2024-11-29T10:18:12.294721Z",
     "start_time": "2024-11-29T10:18:12.165729Z"
    }
   },
   "outputs": [],
   "source": [
    "A=None"
   ]
  },
  {
   "cell_type": "markdown",
   "metadata": {},
   "source": [
    "To samo robi Bob, wybiera losową liczbę naturalną $m$ i oblicza $B=mG$:"
   ]
  },
  {
   "cell_type": "code",
   "execution_count": 18,
   "metadata": {
    "ExecuteTime": {
     "end_time": "2024-11-29T10:18:12.295872Z",
     "start_time": "2024-11-29T10:18:12.169709Z"
    }
   },
   "outputs": [],
   "source": [
    "m=None\n",
    "B=None"
   ]
  },
  {
   "cell_type": "markdown",
   "metadata": {},
   "source": [
    "Liczby $n$ i $m$ są znane tylko, odpowiednio, Alicji i Bobowi, natomiast $A$ oraz $B$ są wymieniane publicznym kanałem. Bob otrzymuje $A$ i wykonuje operację $k_B=mA$, z kolei Alicja otrzymuje $B$ i wykonuje operację $k_A=nB$:"
   ]
  },
  {
   "cell_type": "code",
   "execution_count": 19,
   "metadata": {
    "ExecuteTime": {
     "end_time": "2024-11-29T10:18:12.296136Z",
     "start_time": "2024-11-29T10:18:12.173163Z"
    }
   },
   "outputs": [],
   "source": [
    "k_B=None\n",
    "k_A=None"
   ]
  },
  {
   "cell_type": "code",
   "execution_count": 20,
   "metadata": {
    "ExecuteTime": {
     "end_time": "2024-11-29T10:18:12.311600Z",
     "start_time": "2024-11-29T10:18:12.176793Z"
    }
   },
   "outputs": [
    {
     "data": {
      "text/plain": "True"
     },
     "execution_count": 20,
     "metadata": {},
     "output_type": "execute_result"
    }
   ],
   "source": [
    "k_A==k_B"
   ]
  },
  {
   "cell_type": "markdown",
   "metadata": {},
   "source": [
    "Zawuażmy, że $k_A=k_B$, wynika to z tego, że $k_A=nB=nmG$ oraz $k_B=mA=mnG$ a oczywiście $nm=mn$. Zatem Alicja i Bob dysponują tą samą liczbą, którą mogą użyć jako klucz do szyfrowania. Publicznie znane są wartości $a$, $b$, $p$, $G$, $nG$ oraz $mG$, jednak odzyskanie z nich $n$ i $m$ jest bardzo trudne przy odpwiednim doborze krzywej i punktu na niej."
   ]
  }
 ],
 "metadata": {
  "kernelspec": {
   "display_name": "Python 3 (ipykernel)",
   "language": "python",
   "name": "python3"
  },
  "language_info": {
   "codemirror_mode": {
    "name": "ipython",
    "version": 3
   },
   "file_extension": ".py",
   "mimetype": "text/x-python",
   "name": "python",
   "nbconvert_exporter": "python",
   "pygments_lexer": "ipython3",
   "version": "3.9.18"
  },
  "vscode": {
   "interpreter": {
    "hash": "96ad6c7fd9d06889208fc918e485ee5403ac6f6c27ad3f857e9a26d0c3a3092d"
   }
  }
 },
 "nbformat": 4,
 "nbformat_minor": 4
}
