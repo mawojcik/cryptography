{
 "cells": [
  {
   "cell_type": "markdown",
   "metadata": {},
   "source": [
    "# Lista 9 (9 pkt.)"
   ]
  },
  {
   "cell_type": "code",
   "execution_count": 1,
   "metadata": {
    "ExecuteTime": {
     "end_time": "2024-12-01T19:02:23.215937Z",
     "start_time": "2024-12-01T19:02:21.299878Z"
    }
   },
   "outputs": [],
   "source": [
    "import numpy as np\n",
    "import hashlib\n",
    "import matplotlib.pyplot as plt"
   ]
  },
  {
   "cell_type": "markdown",
   "metadata": {},
   "source": [
    "## Zadanie 1 (1 pkt.)"
   ]
  },
  {
   "cell_type": "markdown",
   "metadata": {},
   "source": [
    "Wczytaj dwa obrazki: 'Campin_Boze_Narodzenie1.png' oraz 'Campin_Boze_Narodzenie2.png' jeden z nich jest zgodny z oryginałem obrazu Roberta Campin a drugi jest lekko zmodyfikowany, rozponaj prawdziwy obraz obliczając jego funkcję skrótu SHA-256 i porównując ją do skrótu podanego poniżej (w postaci szesnastkowej), który odpowiada oryginałowi:"
   ]
  },
  {
   "cell_type": "code",
   "execution_count": 59,
   "metadata": {
    "ExecuteTime": {
     "end_time": "2024-11-30T16:51:08.376568Z",
     "start_time": "2024-11-30T16:51:08.190093Z"
    }
   },
   "outputs": [],
   "source": [
    "hash_original='2d08246bbb3a8f6b0c16b8d8effd2c783233a6a174496731dfff887bb41bc7e7'"
   ]
  },
  {
   "cell_type": "markdown",
   "metadata": {},
   "source": [
    "Obrazek wczytaj za pomocą:"
   ]
  },
  {
   "cell_type": "code",
   "execution_count": 60,
   "metadata": {
    "ExecuteTime": {
     "end_time": "2024-11-30T16:51:08.579681Z",
     "start_time": "2024-11-30T16:51:08.198143Z"
    }
   },
   "outputs": [],
   "source": [
    "file = open('Campin_Boze_Narodzenie1.png','rb')\n",
    "obraz1=file.read()\n",
    "file.close()"
   ]
  },
  {
   "cell_type": "markdown",
   "metadata": {},
   "source": [
    "'rb' w powyższej funkcji oznacza, że odczytujemy binarną postać obrazu. Podobnie wczytaj drugi obraz. Do policzenia funkcji skrótu użyj biblioteki hashlib: https://docs.python.org/3/library/hashlib.html"
   ]
  },
  {
   "cell_type": "code",
   "execution_count": 61,
   "outputs": [],
   "source": [
    "file = open('Campin_Boze_Narodzenie2.png','rb')\n",
    "obraz2 = file.read()\n",
    "file.close()"
   ],
   "metadata": {
    "collapsed": false,
    "ExecuteTime": {
     "end_time": "2024-11-30T16:51:08.650674Z",
     "start_time": "2024-11-30T16:51:08.206859Z"
    }
   }
  },
  {
   "cell_type": "code",
   "execution_count": 62,
   "outputs": [],
   "source": [
    "h1 = hashlib.sha256()\n",
    "h1.update(obraz1)\n",
    "\n",
    "h2 = hashlib.sha256()\n",
    "h2.update(obraz2)"
   ],
   "metadata": {
    "collapsed": false,
    "ExecuteTime": {
     "end_time": "2024-11-30T16:51:08.702810Z",
     "start_time": "2024-11-30T16:51:08.218715Z"
    }
   }
  },
  {
   "cell_type": "code",
   "execution_count": 63,
   "outputs": [
    {
     "name": "stdout",
     "output_type": "stream",
     "text": [
      "Oryginalny obraz: Campin_Boze_Narodzenie1.png\n"
     ]
    }
   ],
   "source": [
    "if h1.hexdigest() == hash_original:\n",
    "    print(\"Oryginalny obraz: Campin_Boze_Narodzenie1.png\")\n",
    "elif h2.hexdigest() == hash_original:\n",
    "    print(\"Oryginalny obraz: Campin_Boze_Narodzenie2.png\")"
   ],
   "metadata": {
    "collapsed": false,
    "ExecuteTime": {
     "end_time": "2024-11-30T16:51:08.726986Z",
     "start_time": "2024-11-30T16:51:08.236690Z"
    }
   }
  },
  {
   "cell_type": "markdown",
   "metadata": {},
   "source": [
    "## Zadanie 2 (2 pkt.)"
   ]
  },
  {
   "cell_type": "markdown",
   "metadata": {},
   "source": [
    "Zaimplementuj funkcję **rho_pollard()** znajdującą kolizje w funkcji skrótu za pomocą agorytmu rho Pollarda. Wypisz przykładowe pary argumentów, które mają taki sam skrót dla funkcji **simple_hash()**, która przyjmuje liczbę zapisaną szesnastkowo w postaci stringu i zwraca hash w postaci stringu z zapisem szesnastkowym."
   ]
  },
  {
   "cell_type": "code",
   "execution_count": 129,
   "metadata": {
    "ExecuteTime": {
     "end_time": "2024-12-01T15:58:53.902471Z",
     "start_time": "2024-12-01T15:58:53.881380Z"
    }
   },
   "outputs": [],
   "source": [
    "def rho_pollard():\n",
    "    h1 = hex(np.random.randint(1000, 10000))[2:]\n",
    "    h1_prim = h1\n",
    "    print(f\"Random hash: {h1}\")\n",
    "\n",
    "    i = 0\n",
    "    while True:\n",
    "        i += 1\n",
    "        h2 = simple_hash(h1)\n",
    "        h2_prim = simple_hash(simple_hash(h1_prim))\n",
    "\n",
    "        if h2 == h2_prim:\n",
    "            break\n",
    "\n",
    "        h1 = h2\n",
    "        h1_prim = h2_prim\n",
    "\n",
    "    print(f\"Arguments with the same hash: |{h1}| |{h1_prim}|\")"
   ]
  },
  {
   "cell_type": "code",
   "execution_count": 130,
   "metadata": {
    "ExecuteTime": {
     "end_time": "2024-12-01T15:58:54.058633Z",
     "start_time": "2024-12-01T15:58:54.052347Z"
    }
   },
   "outputs": [],
   "source": [
    "def simple_hash(str: object) -> object:\n",
    "    m = hashlib.sha256()\n",
    "    m.update(bytes(int(str,16)))\n",
    "    return m.hexdigest()[:2]"
   ]
  },
  {
   "cell_type": "code",
   "execution_count": 131,
   "outputs": [
    {
     "name": "stdout",
     "output_type": "stream",
     "text": [
      "Random hash: 12fb\n",
      "Arguments with the same hash: |17| |11|\n"
     ]
    }
   ],
   "source": [
    "rho_pollard()"
   ],
   "metadata": {
    "collapsed": false,
    "ExecuteTime": {
     "end_time": "2024-12-01T15:58:54.822310Z",
     "start_time": "2024-12-01T15:58:54.810253Z"
    }
   }
  },
  {
   "cell_type": "markdown",
   "metadata": {},
   "source": [
    "## Zadanie 3 (2 pkt.)"
   ]
  },
  {
   "cell_type": "markdown",
   "metadata": {},
   "source": [
    "Napisz funkcję **HMAC(K,M)**, która przyjmuje klucz oraz wiadomość a zwraca kod HMAC, wszystko w postaci stringu bitów. Funkcja **hash()** to funkcja SHA256 ale przyjmująca i zwracająca dane w postaci stringu bitów. Przyjmij długość bloku 64 bity (przypadek DESa)."
   ]
  },
  {
   "cell_type": "code",
   "execution_count": 132,
   "metadata": {
    "ExecuteTime": {
     "end_time": "2024-12-01T16:52:17.963970Z",
     "start_time": "2024-12-01T16:52:17.945200Z"
    }
   },
   "outputs": [],
   "source": [
    "def xor(bin1, bin2):\n",
    "    result = int(bin1, 2) ^ int(bin2, 2)\n",
    "    return bin(result)[2:].zfill(len(bin1))"
   ]
  },
  {
   "cell_type": "code",
   "execution_count": 134,
   "outputs": [],
   "source": [
    "def HMAC(K, M):\n",
    "    ipad_part = '36'\n",
    "    opad_part = '5c'\n",
    "\n",
    "    ipad = bin(int(ipad_part, 16))[2:].zfill(8) * 8\n",
    "    opad = bin(int(opad_part, 16))[2:].zfill(8) * 8\n",
    "\n",
    "    k_ipad = xor(K, ipad)\n",
    "    k_opad = xor(K, opad)\n",
    "\n",
    "    return hash(k_opad + hash(k_ipad + M))\n"
   ],
   "metadata": {
    "collapsed": false,
    "ExecuteTime": {
     "end_time": "2024-12-01T16:52:42.052035Z",
     "start_time": "2024-12-01T16:52:42.048850Z"
    }
   }
  },
  {
   "cell_type": "code",
   "execution_count": 135,
   "metadata": {
    "ExecuteTime": {
     "end_time": "2024-12-01T16:52:43.020606Z",
     "start_time": "2024-12-01T16:52:43.017687Z"
    }
   },
   "outputs": [],
   "source": [
    "def hash(i):\n",
    "    m = hashlib.sha256()\n",
    "    m.update(int(i,2).to_bytes(len(i),'little'))\n",
    "    return format(int(m.hexdigest(),16),'0256b')"
   ]
  },
  {
   "cell_type": "code",
   "execution_count": 136,
   "metadata": {
    "ExecuteTime": {
     "end_time": "2024-12-01T16:52:45.258041Z",
     "start_time": "2024-12-01T16:52:45.254414Z"
    }
   },
   "outputs": [
    {
     "name": "stdout",
     "output_type": "stream",
     "text": [
      "True\n",
      "True\n",
      "True\n"
     ]
    }
   ],
   "source": [
    "print(HMAC('0010111000111100100000001100001000110000100011001110011110010000','0100011001010010011011010100100100011101011101111011010000101010')\n",
    "    == '1101011010010010001001010001100000001011000100001100101110111010000001000000110000001111011111110101011101111010110111001111001001001010000011110101110101010000100011110100101000111001000111000011111000011111001001110000110001111100110011110010100110000100')\n",
    "print(HMAC('1000110000100011001111011101000000010001110101110011101011000110','1100110101011010110010110011001001010000000000111000011011000011')\n",
    "    == '0100010101000110011101000100111010101111011110001010001001011000010001011100010100000000010010110000100010010101011011000010111000001110000101100011101100111111001000101101110011101100001111000000011111011111100001010111010011010010101100010101011100111010')\n",
    "print(HMAC('0010100101111010101111100000101110110001011111100101000010001010','1110001110111101101100001010001110011101011111101010110011000000')\n",
    "    == '1101010101011101110011000000111100111100100100011001011000001011101001100011011011010100110100010110101100000011010100000100111100111111100001110100000100100111100011111011000110101010000101110001110111101110011001000010001001001010010011000000111000011111')"
   ]
  },
  {
   "cell_type": "markdown",
   "metadata": {},
   "source": [
    "Zmienne **msg_enc1** oraz **msg_enc2** zawierają dwie wiadomości. Jedna z nich jest poprawna druga ma zmieniony jeden bit. Wiemy, że wiadomośc zaszyfrowano za pomocą DESa z kluczem **key** i nadawca dodał do niej kod HMAC zawarty w zmiennej $hmac$. Sprawdź, która z otrzymanych wiadomości jest poprawna."
   ]
  },
  {
   "cell_type": "code",
   "execution_count": 69,
   "metadata": {
    "ExecuteTime": {
     "end_time": "2024-11-30T16:51:08.750702Z",
     "start_time": "2024-11-30T16:51:08.280485Z"
    }
   },
   "outputs": [],
   "source": [
    "msg_enc1 = '0110011010100110101010011000011111010000110111011011110110110101'\n",
    "msg_enc2 = '0110011010100110101010011000011111010000110111010011110110110101'\n",
    "key = '0001101100001110010010101101001101101010000100100000100001101100'"
   ]
  },
  {
   "cell_type": "code",
   "execution_count": 70,
   "metadata": {
    "ExecuteTime": {
     "end_time": "2024-11-30T16:51:08.750784Z",
     "start_time": "2024-11-30T16:51:08.285884Z"
    }
   },
   "outputs": [],
   "source": [
    "hmac = '1010011101011000110010101011100100001001110111010000110100110111001001110010001101001010000011010001001101010100000010100111110010101011001101001010101100110110000101101110100000010001101011011011110011110111011100110000011010110001110000011000011100101001'"
   ]
  },
  {
   "cell_type": "code",
   "execution_count": 137,
   "outputs": [
    {
     "name": "stdout",
     "output_type": "stream",
     "text": [
      "msg_enc1 is original\n"
     ]
    }
   ],
   "source": [
    "if HMAC(key, msg_enc1) == hmac:\n",
    "    print(\"msg_enc1 is original\")\n",
    "elif HMAC(key, msg_enc2) == hmac:\n",
    "    print(\"msg_enc2 is original\")"
   ],
   "metadata": {
    "collapsed": false,
    "ExecuteTime": {
     "end_time": "2024-12-01T16:55:34.993562Z",
     "start_time": "2024-12-01T16:55:34.977108Z"
    }
   }
  },
  {
   "cell_type": "markdown",
   "metadata": {},
   "source": [
    "## Zadanie 4 (2 pkt.)"
   ]
  },
  {
   "cell_type": "markdown",
   "metadata": {},
   "source": [
    "Napisz funkcję **sign(file_name, e, n)** generującą podpis elektroniczny pliku, gdzie **file_name** to nazwa pliku, $e$ i $n$ to klucz prywatny algorymtu RSA, oznaczenia jak na liście 7., funkcja ma zwracać podpis w postaci stringu z zapisem szesnastkowym."
   ]
  },
  {
   "cell_type": "code",
   "execution_count": 139,
   "outputs": [],
   "source": [
    "def inv(p, n):\n",
    "    s0, s1 = 1, 0\n",
    "    t0, t1 = 0, 1\n",
    "\n",
    "    while n != 0:\n",
    "        div = p // n\n",
    "        s0, s1 = s1, s0 - (div * s1)\n",
    "        t0, t1 = t1, t0 - (div * t1)\n",
    "        p, n = n, p % n\n",
    "\n",
    "    return s0 + s1 if s0 < 0 else s0\n",
    "\n",
    "def key_gen(p, q):\n",
    "    e = 65537\n",
    "    n = p * q\n",
    "    euler = (q - 1) * (p - 1)\n",
    "\n",
    "    return n, e, inv(e, euler)\n",
    "\n",
    "def pow_mod(x, n, m):\n",
    "    p = 1\n",
    "    bin_str = bin(n)[2:]\n",
    "\n",
    "    for i in bin_str:\n",
    "        p = (p ** 2) % m\n",
    "        if i == '1':\n",
    "            p = (p * x) % m\n",
    "\n",
    "    return p\n",
    "\n",
    "def enc(x, e, n):\n",
    "    return pow_mod(x, e, n)\n",
    "\n",
    "def dec(y, d, n):\n",
    "    return pow_mod(y, d, n)"
   ],
   "metadata": {
    "collapsed": false,
    "ExecuteTime": {
     "end_time": "2024-12-01T17:41:32.495062Z",
     "start_time": "2024-12-01T17:41:32.477304Z"
    }
   }
  },
  {
   "cell_type": "code",
   "execution_count": 140,
   "metadata": {
    "ExecuteTime": {
     "end_time": "2024-12-01T17:41:32.853422Z",
     "start_time": "2024-12-01T17:41:32.850176Z"
    }
   },
   "outputs": [],
   "source": [
    "def sign(file_name, e, n):\n",
    "    file = open(file_name, 'rb')\n",
    "    data = file.read()\n",
    "    file.close()\n",
    "\n",
    "    h = hashlib.sha256()\n",
    "    h.update(data)\n",
    "\n",
    "    hash_value = int(h.hexdigest(), base=16)\n",
    "    enc_value = enc(hash_value, e, n)\n",
    "\n",
    "    return hex(enc_value)[2:]"
   ]
  },
  {
   "cell_type": "markdown",
   "metadata": {},
   "source": [
    "Napisz funkcję **check_sign(file_name, d, n, sign)** weryfikującą autentyczność podpisu, gdzie **file_name** to nazwa pliku $d$ i $n$ to klucz publiczny autora podpisu a $sign$ to podpis, funkcja ma zwracać **True** lub **False**."
   ]
  },
  {
   "cell_type": "code",
   "execution_count": 141,
   "metadata": {
    "ExecuteTime": {
     "end_time": "2024-12-01T17:42:13.833887Z",
     "start_time": "2024-12-01T17:42:13.807014Z"
    }
   },
   "outputs": [],
   "source": [
    "def check_sign(file_name, d, n, sign):\n",
    "    file = open(file_name, 'rb')\n",
    "    data = file.read()\n",
    "    file.close()\n",
    "\n",
    "    h = hashlib.sha256()\n",
    "    h.update(data)\n",
    "    hash_value = int(h.hexdigest(), base=16)\n",
    "\n",
    "    sign_value = int(sign, base=16)\n",
    "    dec_value = dec(sign_value, d, n)\n",
    "\n",
    "    if hash_value == dec_value:\n",
    "        return True\n",
    "    else:\n",
    "        return False"
   ]
  },
  {
   "cell_type": "markdown",
   "metadata": {},
   "source": [
    "Wygeneruj klucze RSA z liczb pierwszych $p$ i $q$ i użyj ich w testach."
   ]
  },
  {
   "cell_type": "code",
   "execution_count": 142,
   "metadata": {
    "ExecuteTime": {
     "end_time": "2024-12-01T17:42:23.428738Z",
     "start_time": "2024-12-01T17:42:23.403033Z"
    }
   },
   "outputs": [],
   "source": [
    "p=24130780476900131841553779066939443255102203937160657723394451174808141403858935238883126295228560935516885174421847238379397184900972008801015315248328437\n",
    "q=26660613491521684005574100352062919789979599401844483402246984186988668019447679726081352452799126206997555710356464145743285983450292024894053538317854159"
   ]
  },
  {
   "cell_type": "code",
   "execution_count": 146,
   "outputs": [],
   "source": [
    "n, e, d = key_gen(p, q)"
   ],
   "metadata": {
    "collapsed": false,
    "ExecuteTime": {
     "end_time": "2024-12-01T17:42:53.303726Z",
     "start_time": "2024-12-01T17:42:53.286195Z"
    }
   }
  },
  {
   "cell_type": "code",
   "execution_count": 147,
   "metadata": {
    "ExecuteTime": {
     "end_time": "2024-12-01T17:42:53.685879Z",
     "start_time": "2024-12-01T17:42:53.668529Z"
    }
   },
   "outputs": [
    {
     "name": "stdout",
     "output_type": "stream",
     "text": [
      "True\n",
      "True\n"
     ]
    }
   ],
   "source": [
    "print(sign('correlation.png',e,n)=='1d5e7cd47f75b13159a37c8ffb3ba7d9f43a21f4758ae06e856da0a468fd1772f7b8b52d0f948fd02610e0e05a54c0fff12d7bd27575583cfdf53b124e9c0e95df1de156aa0af52239f1329ab69000b4a6a61d3d45f190c4b9df4ca4b7d30904162727353a8fb09c9faf847eeb0f6f65394d92cb57ced2cdcff36c444394e3fff')\n",
    "print(sign('Campin_Boze_Narodzenie1.png',e,n)=='1c6097177871bb4873fcd0ae658d28f46fcc54e4b0e595954a57c0008f8b86c7427cecf28296240025941fe2a019b80fcc5f43c4cae6b1d2163cecf8438336d3da6e33ae326dfa2c0e5ea7bbad511dd140bc7b0cd34829623bfd02bc66bc9b43d57443b7fd950bea5cb5f5df99d8611eeb0d4458b19809e3ff86abf6538c3e453')"
   ]
  },
  {
   "cell_type": "code",
   "execution_count": 148,
   "metadata": {
    "ExecuteTime": {
     "end_time": "2024-12-01T17:43:07.754222Z",
     "start_time": "2024-12-01T17:43:07.689853Z"
    }
   },
   "outputs": [
    {
     "name": "stdout",
     "output_type": "stream",
     "text": [
      "True\n",
      "True\n",
      "True\n",
      "True\n"
     ]
    }
   ],
   "source": [
    "print(check_sign('correlation.png',d,n,'1d5e7cd47f75b13159a37c8ffb3ba7d9f43a21f4758ae06e856da0a468fd1772f7b8b52d0f948fd02610e0e05a54c0fff12d7bd27575583cfdf53b124e9c0e95df1de156aa0af52239f1329ab69000b4a6a61d3d45f190c4b9df4ca4b7d30904162727353a8fb09c9faf847eeb0f6f65394d92cb57ced2cdcff36c444394e3fff')==True)\n",
    "print(check_sign('correlation.png',d,n,'1d5e7cd47f75b13159a37c8ffb3ba7d9f43a21f4758ae06e856ba0a468fd1772f7b8b52d0f948fd02610e0e05a54c0fff12d7bd27575583cfdf53b124e9c0e95df1de156aa0af52239f1329ab69000b4a6a61d3d45f190c4b9df4ca4b7d30904162727353a8fb09c9faf847eeb0f6f65394d92cb57ced2cdcff36c444394e3fff')==False)\n",
    "print(check_sign('Campin_Boze_Narodzenie1.png',d,n,'1c6097177871bb4873fcd0ae658d28f46fcc54e4b0e595954a57c0008f8b86c7427cecf28296240025941fe2a019b80fcc5f43c4cae6b1d2163cecf8438336d3da6e33ae326dfa2c0e5ea7bbad511dd140bc7b0cd34829623bfd02bc66bc9b43d57443b7fd950bea5cb5f5df99d8611eeb0d4458b19809e3ff86abf6538c3e453')==True)\n",
    "print(check_sign('Campin_Boze_Narodzenie1.png',d,n,'1c6097177871bb4873fcd0ae658d28f46fec54e4b0e595954a57c0008f8b86c7427cecf28296240025941fe2a019b80fcc5f43c4cae6b1d2163cecf8438336d3da6e33ae326dfa2c0e5ea7bbad511dd140bc7b0cd34829623bfd02bc66bc9b43d57443b7fd950bea5cb5f5df99d8611eeb0d4458b19809e3ff86abf6538c3e453')==False)"
   ]
  },
  {
   "cell_type": "markdown",
   "metadata": {},
   "source": [
    "## Zadanie 5 (2 pkt.)"
   ]
  },
  {
   "cell_type": "markdown",
   "metadata": {},
   "source": [
    "\"Kopanie\" Bitcoina polega w uproszczeniu na szukaniu liczby dla której funkcja skrótu zwraca wartość mniejszą niż pewien próg, tzn. wartośc funkcji skrótu musi zaczynać się odpowiednią liczbą zer w zapisie bitowym. Jako, że funkcja skrótu ma właściwości pseudolosowe, szukamy tej liczby sprawdzając po kolei wszystkie liczby. Napisz funkcję **mine(d)**, szukającą takiej liczby $i$ dla której **SHA256(i)** zaczyna się w zapisie bitowym $d$ zerami. Podstawiaj kolejno liczby $0,1,2,3,...$. Funkcja ma zwracać liczbę dla której udało się spełnić warunek.\n",
    "\n",
    "Uwaga: aby podać zmienną typu **int** jako argument do hashlib.sha256() należy przekonwerstować ją za pomocą **bytes()**"
   ]
  },
  {
   "cell_type": "code",
   "execution_count": 2,
   "metadata": {
    "ExecuteTime": {
     "end_time": "2024-12-01T19:02:33.565384Z",
     "start_time": "2024-12-01T19:02:33.544359Z"
    }
   },
   "outputs": [],
   "source": [
    "def mine(diff):\n",
    "    i = 0\n",
    "    while True:\n",
    "        i_bytes = bytes(i)\n",
    "        hash_result = hashlib.sha256(i_bytes).hexdigest()\n",
    "        binary_representation = bin(int(hash_result, 16))[2:].zfill(256)\n",
    "\n",
    "        if binary_representation.startswith('0' * diff):\n",
    "            return i\n",
    "\n",
    "        i += 1"
   ]
  },
  {
   "cell_type": "code",
   "execution_count": 3,
   "outputs": [],
   "source": [
    "def mine_random(diff):\n",
    "    attempts = 0\n",
    "\n",
    "    while True:\n",
    "        i = np.random.randint(0, 10**5)\n",
    "        attempts += 1\n",
    "\n",
    "        i_bytes = bytes(i)\n",
    "        hash_result = hashlib.sha256(i_bytes).hexdigest()\n",
    "        binary_representation = bin(int(hash_result, 16))[2:].zfill(256)\n",
    "\n",
    "        if binary_representation.startswith('0' * diff):\n",
    "            return attempts"
   ],
   "metadata": {
    "collapsed": false,
    "ExecuteTime": {
     "end_time": "2024-12-01T19:02:33.690234Z",
     "start_time": "2024-12-01T19:02:33.668889Z"
    }
   }
  },
  {
   "cell_type": "markdown",
   "metadata": {},
   "source": [
    "Wykonaj funkcję **mine(d)** dla kilkunastu wartości $d$ i narysuj wykres **plt.scatter()** zależności **i(d)**.\n",
    "\n",
    "Uwaga: użyj skali logarytmicznej **plt.yscale('symlog')**.\n",
    "\n",
    "Zastanów się ile teoretycznie (średnio) należy wykonać prób aby znaleźć funkcję skrótu z $d$ zerami na początku. Narysuj na wykresie linię obrazującą tą zależność i porównaj z punktami uzyskanymi z funkcji **mine()**.\n",
    "\n",
    "Powtórz pomiary, ale zamiast brać kolejne liczby, bierz losowe. Sprawdź czy daje to lepsze rezultaty."
   ]
  },
  {
   "cell_type": "code",
   "execution_count": 6,
   "outputs": [
    {
     "data": {
      "text/plain": "<Figure size 640x480 with 1 Axes>",
      "image/png": "[encoded data removed]"
     },
     "metadata": {},
     "output_type": "display_data"
    }
   ],
   "source": [
    "diffs = []\n",
    "indexes = []\n",
    "theoretical = []\n",
    "\n",
    "for d in range(15):\n",
    "    index = mine(d)\n",
    "    diffs.append(d)\n",
    "    indexes.append(index)\n",
    "\n",
    "plt.scatter(diffs, indexes, label='iteration')\n",
    "\n",
    "diffs = []\n",
    "indexes = []\n",
    "\n",
    "for d in range(15):\n",
    "    index = mine_random(d)\n",
    "    diffs.append(d)\n",
    "    indexes.append(index)\n",
    "\n",
    "for d in range(15):\n",
    "    theoretical.append(2**d)\n",
    "\n",
    "plt.scatter(diffs, indexes, label='random')\n",
    "plt.plot(diffs, theoretical, label='Theoretical Attempts', c='r')\n",
    "\n",
    "plt.xlabel(\"d\")\n",
    "plt.yscale('symlog')\n",
    "plt.ylabel(\"i\")\n",
    "plt.legend()\n",
    "plt.show()"
   ],
   "metadata": {
    "collapsed": false,
    "ExecuteTime": {
     "end_time": "2024-12-01T19:05:17.160802Z",
     "start_time": "2024-12-01T19:05:14.705971Z"
    }
   }
  }
 ],
 "metadata": {
  "kernelspec": {
   "display_name": "Python 3.10.4 ('QSVM')",
   "language": "python",
   "name": "python3"
  },
  "language_info": {
   "codemirror_mode": {
    "name": "ipython",
    "version": 3
   },
   "file_extension": ".py",
   "mimetype": "text/x-python",
   "name": "python",
   "nbconvert_exporter": "python",
   "pygments_lexer": "ipython3",
   "version": "3.10.4"
  },
  "vscode": {
   "interpreter": {
    "hash": "96ad6c7fd9d06889208fc918e485ee5403ac6f6c27ad3f857e9a26d0c3a3092d"
   }
  }
 },
 "nbformat": 4,
 "nbformat_minor": 4
}
