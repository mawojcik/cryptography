{
 "cells": [
  {
   "cell_type": "markdown",
   "metadata": {},
   "source": [
    "# Lista 1 (9 pkt.)"
   ]
  },
  {
   "cell_type": "code",
   "execution_count": 439,
   "metadata": {
    "ExecuteTime": {
     "end_time": "2024-10-04T17:49:22.020716Z",
     "start_time": "2024-10-04T17:49:21.840168Z"
    }
   },
   "outputs": [],
   "source": [
    "import string\n",
    "import matplotlib.pyplot as plt\n",
    "import numpy as np"
   ]
  },
  {
   "cell_type": "markdown",
   "metadata": {},
   "source": [
    "## Zadanie 1 (1 pkt.)"
   ]
  },
  {
   "cell_type": "markdown",
   "metadata": {},
   "source": [
    "Zaimplementuj szyfr Cezara. Napisz funkcję **Cezar(tekst, klucz)** tak aby jako argumenty przyjmowała tekst do zaszyfrowania oraz klucz a zwracała zaszyfrowany tekst. Funkcja ta dostając jako argumenty zaszyfrowany tekst oraz **-klucz** (klucz, ktorym zaszyfrowano tekst ze znakiem minus) będzie zwracała odszyfrowany tekst. Funkcja powinna przejść testy, czyli powinna 8 razy zwrócić **True**.\n",
    "\n",
    "Pamiętaj o polskich znakach. Szyfrujemy tylko litery, natomiast cyfry, znaki interpunkcyjne i białe znaki zostają bez zmian. Wielkie litery po zaszyfrowaniu są również wielkie. Użyj poniższego alfabetu."
   ]
  },
  {
   "cell_type": "code",
   "execution_count": 440,
   "metadata": {
    "ExecuteTime": {
     "end_time": "2024-10-04T17:49:22.021947Z",
     "start_time": "2024-10-04T17:49:21.850526Z"
    }
   },
   "outputs": [],
   "source": [
    "alfabet = ['a','ą', 'b', 'c', 'ć', 'd', 'e', 'ę', 'f', 'g', 'h', 'i', 'j', 'k', 'l', 'ł', 'm', \n",
    "           'n', 'ń', 'o','ó', 'p', 'q','r', 's', 'ś', 't', 'u','v', 'w', 'x','y', 'z','ź','ż']"
   ]
  },
  {
   "cell_type": "markdown",
   "metadata": {},
   "source": [
    "Przy implementacji mogą być przydatne takie elementy biblioteki string jak: **string.punctuation, string.whitespace, string.digits, upper(), lower(), isupper()**"
   ]
  },
  {
   "cell_type": "code",
   "execution_count": 441,
   "metadata": {
    "ExecuteTime": {
     "end_time": "2024-10-04T17:49:22.031994Z",
     "start_time": "2024-10-04T17:49:21.858143Z"
    }
   },
   "outputs": [
    {
     "data": {
      "text/plain": "True"
     },
     "execution_count": 441,
     "metadata": {},
     "output_type": "execute_result"
    }
   ],
   "source": [
    "'C'.isupper()"
   ]
  },
  {
   "cell_type": "code",
   "execution_count": 442,
   "metadata": {
    "ExecuteTime": {
     "end_time": "2024-10-04T17:49:22.034171Z",
     "start_time": "2024-10-04T17:49:21.903167Z"
    }
   },
   "outputs": [
    {
     "data": {
      "text/plain": "'Ala ma kota.'"
     },
     "execution_count": 442,
     "metadata": {},
     "output_type": "execute_result"
    }
   ],
   "source": [
    "def Cezar(tekst,key):\n",
    "    res = \"\"\n",
    "    for char in tekst:\n",
    "        if not char.isalpha():\n",
    "            res += char\n",
    "            continue\n",
    "\n",
    "        char_index = alfabet.index(char.lower())\n",
    "        \n",
    "        shifted_char = alfabet[(char_index + key) % len(alfabet)]\n",
    "        if char.isupper():\n",
    "            res += shifted_char.upper()\n",
    "        else:\n",
    "            res += shifted_char\n",
    "    return res\n",
    "Cezar(\"Cnc oc mqwc.\",-3)"
   ]
  },
  {
   "cell_type": "code",
   "execution_count": 443,
   "metadata": {
    "ExecuteTime": {
     "end_time": "2024-10-04T17:49:22.044148Z",
     "start_time": "2024-10-04T17:49:21.922417Z"
    }
   },
   "outputs": [
    {
     "name": "stdout",
     "output_type": "stream",
     "text": [
      "True\n",
      "True\n",
      "True\n",
      "True\n",
      "True\n",
      "True\n",
      "True\n",
      "True\n"
     ]
    }
   ],
   "source": [
    "print(Cezar('Ala ma kota.',3)=='Cnc oc mqwc.')\n",
    "print(Cezar('Ala ma kota.',20)=='Óżó ąó źćió.')\n",
    "print(Cezar('Ala ma 2 koty.',5)=='Dod pd 2 ńsyą.')\n",
    "print(Cezar('Daremne żale, próżny trud,\\nBezsilne złorzeczenia!\\nPrzeżytych kształtów żaden cud\\nNie wróci do istnienia.',7)\n",
    "                  =='Jęxkrsk eępk, vxuesc źxżj,\\nGkćyńpsk ćqtxćkhćksńę!\\nVxćkecźchn óyćźęqźuą eęjks hżj\\nSńk ąxuhń jt ńyźsńksńę.')\n",
    "print(Cezar('Cnc oc mqwc.',-3)=='Ala ma kota.')\n",
    "print(Cezar('Óżó ąó źćió.',-20)=='Ala ma kota.')\n",
    "print(Cezar('Dod pd 2 ńsyą.',-5)=='Ala ma 2 koty.')\n",
    "print(Cezar('Jęxkrsk eępk, vxuesc źxżj,\\nGkćyńpsk ćqtxćkhćksńę!\\nVxćkecźchn óyćźęqźuą eęjks hżj\\nSńk ąxuhń jt ńyźsńksńę.',-7)\n",
    "                  =='Daremne żale, próżny trud,\\nBezsilne złorzeczenia!\\nPrzeżytych kształtów żaden cud\\nNie wróci do istnienia.')"
   ]
  },
  {
   "cell_type": "markdown",
   "metadata": {},
   "source": [
    "## Zadanie 2 (1 pkt.)"
   ]
  },
  {
   "cell_type": "markdown",
   "metadata": {},
   "source": [
    "Wiedząc, że poniższy tekst zaszyfrowano metodą Cezara, odszyfruj go metodą \"brute force\". Co to za cytat?"
   ]
  },
  {
   "cell_type": "code",
   "execution_count": 444,
   "metadata": {
    "ExecuteTime": {
     "end_time": "2024-10-04T17:49:22.045632Z",
     "start_time": "2024-10-04T17:49:21.927873Z"
    }
   },
   "outputs": [
    {
     "name": "stdout",
     "output_type": "stream",
     "text": [
      "0: Hćcrek okyź hćęy? Okzpń sńóź rsńk t źt sńk vcźę, ąńkr. Okzpń vcźęofhkrż żyńqżol ącźqżręhćci, sńk ąńkr.\n",
      "1: Idćsęl ólzż idfz? Ólźqo śopż sśol u żu śol wćżf, bols. Ólźqo wćżfógilsa azoraół bćżrasfidćj, śol bols.\n",
      "2: Jedśfł płźa jegź? Płżró tóqa śtół v av tół xdag, cółś. Płżró xdagphjłśą ąźósąpm cdasąśgjedk, tół cółś.\n",
      "3: Kęetgm qmżą kęhż? Qmasp uprą tupm w ąw upm yeąh, ćpmt. Qmasp yeąhqikmtb bżpśbqn ćeąśbthkęel, upm ćpmt.\n",
      "4: Lfęuhn rnab lfia? Rnąśq vqsb uvqn x bx vqn zębi, dqnu. Rnąśq zębirjlnuc caqtcrń dębtcuilfęł, vqn dqnu.\n",
      "5: Łgfviń sńąc łgją? Sńbtr wrśc vwrń y cy wrń źfcj, erńv. Sńbtr źfcjskłńvć ćąrućso efcućvjłgfm, wrń erńv.\n",
      "6: Mhgwjo śobć mhkb? Śocus xstć wxso z ćz xso żgćk, ęsow. Śocus żgćkślmowd dbsvdśó ęgćvdwkmhgn, xso ęsow.\n",
      "7: Nihxkó tócd nilc? Tóćvś yśud xyśó ź dź yśó ahdl, fśóx. Tóćvś ahdltłnóxe ecśwetp fhdwexlnihń, yśó fśóx.\n",
      "8: Ńjiylp upće ńjłć? Updwt ztve yztp ż eż ztp ąieł, gtpy. Updwt ąiełumńpyę ęćtxęuq giexęyłńjio, ztp gtpy.\n",
      "9: Okjzłq vqdę okmd? Vqexu źuwę zźuq a ęa źuq bjęm, huqz. Vqexu bjęmvnoqzf fduyfvr hjęyfzmokjó, źuq huqz.\n",
      "10: Ólkźmr wref ólne? Wręyv żvxf źżvr ą fą żvr ckfn, ivrź. Wręyv ckfnwńórźg gevzgws ikfzgźnólkp, żvr ivrź.\n",
      "11: Płlżns xsęg płńę? Xsfzw awyg żaws b gb aws ćlgń, jwsż. Xsfzw ćlgńxopsżh hęwźhxś jlgźhżńpłlq, aws jwsż.\n",
      "12: Qmłańś yśfh qmof? Yśgźx ąxzh aąxś c hc ąxś dłho, kxśa. Yśgźx dłhoyóqśai ifxżiyt kłhżiaoqmłr, ąxś kxśa.\n",
      "13: Rnmąot ztgi rnóg? Zthży byźi ąbyt ć ić byt emió, lytą. Zthży emiózprtąj jgyajzu lmiająórnms, byt lytą.\n",
      "14: Sńnbóu źuhj sńph? Źuiaz czżj bczu d jd czu ęnjp, łzub. Źuiaz ęnjpźqsubk khząkźv łnjąkbpsńnś, czu łzub.\n",
      "15: Śońcpv żvik śoqi? Żvjąź ćźak cćźv e ke ćźv fńkq, mźvc. Żvjąź fńkqżrśvcl liźblżw mńkblcqśońt, ćźv mźvc.\n",
      "16: Tóoćqw awjl tórj? Awkbż dżąl ćdżw ę lę dżw golr, nżwć. Awkbż golrastwćł łjżcłax nolcłćrtóou, dżw nżwć.\n",
      "17: Upódrx ąxkł upsk? Ąxlca eabł deax f łf eax hółs, ńaxd. Ąxlca hółsąśuxdm mkaćmąy ńółćmdsupóv, eax ńaxd.\n",
      "18: Vqpesy bylm vqśl? Byłćą ęącm eęąy g mg ęąy ipmś, oąye. Byłćą ipmśbtvyen nlądnbz opmdneśvqpw, ęąy oąye.\n",
      "19: Wrqęśz człn wrtł? Czmdb fbćn ęfbz h nh fbz jqnt, óbzę. Czmdb jqntcuwzęń ńłbeńcź óqneńętwrqx, fbz óbzę.\n",
      "20: Xsrftź ćźmń xsum? Ćźnec gcdń fgcź i ńi gcź krńu, pcźf. Ćźnec krńućvxźfo omcęoćż prńęofuxsry, gcź pcźf.\n",
      "21: Yśsguż dżno yśvn? Dżńęć hćeo ghćż j oj hćż lsov, qćżg. Dżńęć lsovdwyżgó ónćfóda qsofógvyśsz, hćż qćżg.\n",
      "22: Ztśhva eańó ztwń? Eaofd idęó hida k ók ida łśów, rdah. Eaofd łśówexzahp pńdgpeą rśógphwztśź, ida rdah.\n",
      "23: Źutiwą ęąop źuxo? Ęąóge jefp ijeą l pl jeą mtpx, seąi. Ęąóge mtpxęyźąiq qoehqęb stphqixźutż, jeą seąi.\n",
      "24: Żvujxb fbóq żvyó? Fbphę kęgq jkęb ł qł kęb nuqy, śębj. Fbphę nuqyfzżbjr róęirfc śuqirjyżvua, kęb śębj.\n",
      "25: Awvkyc gcpr awzp? Gcqif lfhr klfc m rm lfc ńvrz, tfck. Gcqif ńvrzgźacks spfjsgć tvrjskzawvą, lfc tfck.\n",
      "26: Ąxwlzć hćqs ąxźq? Hćrjg łgis lłgć n sn łgć owsź, ugćl. Hćrjg owsźhżąćlś śqgkśhd uwskślźąxwb, łgć ugćl.\n",
      "27: Byxłźd idrś byżr? Idskh mhjś łmhd ń śń mhd óxśż, vhdł. Idskh óxśżiabdłt trhltie vxśltłżbyxc, mhd vhdł.\n",
      "28: Czymże jest czas? Jeśli nikt mnie o to nie pyta, wiem. Jeśli pytającemu usiłuję wytłumaczyć, nie wiem.\n",
      "29: Ćźznaę kęśu ćźąś? Kętłj ńjlu nńję ó uó ńję qzuą, xjęn. Kętłj qzuąkbćęnv vśjmvkf xzumvnąćźzd, ńję xjęn.\n",
      "30: Dżźńąf lftv dżbt? Lfumk okłv ńokf p vp okf rźvb, ykfń. Lfumk rźvblcdfńw wtknwlg yźvnwńbdżźe, okf ykfń.\n",
      "31: Eażobg łguw eacu? Łgvnl ólmw oólg q wq ólg sżwc, zlgo. Łgvnl sżwcłćegox xulńxłh zżwńxoceażę, ólg zlgo.\n",
      "32: Ęąaóch mhvx ęąćv? Mhwńł płnx ópłh r xr płh śaxć, źłhó. Mhwńł śaxćmdęhóy yvłoymi źaxoyóćęąaf, płh źłhó.\n",
      "33: Fbąpći niwy fbdw? Nixom qmńy pqmi s ys qmi tąyd, żmip. Nixom tąydnefipz zwmóznj żąyózpdfbąg, qmi żmip.\n",
      "34: Gcbqdj ńjxz gcex? Ńjyón rnoz qrnj ś zś rnj ubze, anjq. Ńjyón ubzeńęgjqź źxnpźńk abzpźqegcbh, rnj anjq.\n"
     ]
    }
   ],
   "source": [
    "tekst = 'Hćcrek okyź hćęy? Okzpń sńóź rsńk t źt sńk vcźę, ąńkr. Okzpń vcźęofhkrż żyńqżol ącźqżręhćci, sńk ąńkr.'\n",
    "\n",
    "for number in range(len(alfabet)):\n",
    "    print(f'{number}: {Cezar(tekst, number)}')\n",
    "    \n",
    "# 28: Czymże jest czas? Jeśli nikt mnie o to nie pyta, wiem. Jeśli pytającemu usiłuję wytłumaczyć, nie wiem."
   ]
  },
  {
   "cell_type": "markdown",
   "metadata": {},
   "source": [
    "## Zadanie 3 (2 pkt.)"
   ]
  },
  {
   "cell_type": "markdown",
   "metadata": {},
   "source": [
    "Plik **'ksiazka1.txt'** zawiera tekst pewnej książki zaszyfrowany metodą Cezara. Dokonaj analizy statystycznej liter i na tej podstawie znajdź klucz oraz odszyfruj tekst. Jaka to książka?\n",
    "\n",
    "Do wczytania pliku możesz użyć poniższego kodu."
   ]
  },
  {
   "cell_type": "code",
   "execution_count": 445,
   "metadata": {
    "ExecuteTime": {
     "end_time": "2024-10-04T17:49:22.410665Z",
     "start_time": "2024-10-04T17:49:21.934209Z"
    }
   },
   "outputs": [
    {
     "name": "stdout",
     "output_type": "stream",
     "text": [
      "CHARACTERS FREQUENCY: {'x': 36716, 'r': 73315, 'ó': 32978, 'ł': 94080, 'ź': 43405, 'v': 45492, 'i': 17920, 'ś': 30232, 's': 10382, 'o': 29423, 'p': 52980, 'ę': 40683, 'l': 12306, 'g': 35196, 'n': 31701, 'd': 13539, 'h': 76056, 'ć': 92346, 'j': 3292, 'u': 42061, 'a': 40933, 'ń': 19690, 'c': 11265, 'k': 15736, 'm': 22710, 'ą': 59628, 'w': 9162, 'y': 21142, 'e': 17853, 'q': 1952, 'f': 5690, 'b': 774, 'ż': 172, 'z': 38, 't': 2}\n",
      "\n",
      "\n",
      "\n",
      "decrypting with most frequent letter: \"ł\"\n",
      "\n",
      "\n",
      "\n",
      "Łfd A\n",
      "\n",
      "\n",
      "\n",
      "Ńkłyh\n",
      "\n",
      "Ń hgćefuef-ńkużfwead bśuax Szjóba cxró Xźahł, fąupópes esąkłsjkpxą uóńacapsuąa ń lńaxuax. Hjpxw łjpxds, upłxjxds, s esńxł hayuafds łókaśusda csł, baxwó ń ljfwbfńxą Xmjfhax fwpasea ń kmjfńx kbgjó tsjtsjpóęuó bjóca kay hf ąskbaeasuż, Xźahł - ąmr hfkaswsć ńókfbś fjźseapsuąy khfćxupeś, jfceaułńf, jpxdafkćs a całxjsłmjy. Eswx ńkpókłbf psl ńóbfeóńsć fctjpódax hjsux aeróeaxjkbax a ńpefkać bfcfkscex tmwfńcx, błgjóuż kpupśłba tmwpś hfwpań ń łxużeabsuż efńfrółeóuż.\n",
      "\n",
      "Xźahł - ąxkł łf rópeó ńśńgp daywpó hmkłóeaś Cataąkbś a Sjstkbś. Źćytfbflv ąxźf ńóefka bacbskxł dxłjgń, wćmźflv kłf łjpówpaxlua dac, ljxweas kpxjfbflv pscxwńf dacy. Fw psużfwm - ćsźfwex, scx esźax ńpźgjps cataąkbax, fw ńkużfwm kłjfdx a hfhybsex kbsćó sjstkbax kś luasesda łxźf bfjółsjps, błgjxźf wexd hćóeax jpxbs - Eac.\n",
      "\n",
      "P taxźaxd jpxba, es hgćefu, luaseó ńśńfpm pearsąś kay, s ń fwcxźćflua wńmwpaxkłm hayuam dac fw Dfjps Ljgwpaxdexźf esźcx jfpużfwpś kay, a Eac, psdaskł hćóeśv uaskeód bfjółsjpxd, jfpcxńs kay bacbfds jsdaf\n",
      "\n",
      "\n",
      "\n",
      "decrypting with second most frequent letter: \"ć\"\n",
      "\n",
      "\n",
      "\n",
      "Tom I\n",
      "\n",
      "\n",
      "\n",
      "Wstęp\n",
      "\n",
      "W północno-wschodnim kącie Afryki leży Egipt, ojczyzna najstarszej cywilizacji w świecie. Przed trzema, czterema, a nawet pięcioma tysiącami lat, kiedy w środkowej Europie odziani w surowe skóry barbarzyńcy kryli się po jaskiniach, Egipt - już posiadał wysoką organizację społeczną, rolnictwo, rzemiosła i literaturę. Nade wszystko zaś wykonywał olbrzymie prace inżynierskie i wznosił kolosalne budowle, których szczątki budzą podziw w technikach nowożytnych.\n",
      "\n",
      "Egipt - jest to żyzny wąwóz między pustynią Libijską i Arabską. Głębokość jego wynosi kilkaset metrów, długość sto trzydzieści mil, średnia szerokość zaledwo milę. Od zachodu - łagodne, ale nagie wzgórza libijskie, od wschodu strome i popękane skały arabskie są ścianami tego korytarza, którego dnem płynie rzeka - Nil.\n",
      "\n",
      "Z biegiem rzeki, na północ, ściany wąwozu zniżają się, a w odległości dwudziestu pięciu mil od Morza Śródziemnego nagle rozchodzą się, i Nil, zamiast płynąć ciasnym korytarzem, rozlewa się kilkoma ramio\n"
     ]
    },
    {
     "data": {
      "text/plain": "<Figure size 640x480 with 1 Axes>",
      "image/png": "[encoded data removed]"
     },
     "metadata": {},
     "output_type": "display_data"
    }
   ],
   "source": [
    "plik=open('ksiazka1.txt', encoding='utf8')\n",
    "ksiazka=plik.read()\n",
    "characters_frequency = {}\n",
    "\n",
    "for char in ksiazka:\n",
    "    if not char.isalpha():\n",
    "        continue\n",
    "    characters_frequency[char.lower()] = characters_frequency.get(char.lower(), 0) + 1    \n",
    "\n",
    "plt.bar(characters_frequency.keys(), characters_frequency.values())\n",
    "\n",
    "max_frequency = 0\n",
    "most_frequent_char = ''\n",
    "for key, value in characters_frequency.items():\n",
    "    if value > max_frequency:\n",
    "        max_frequency = value\n",
    "        most_frequent_char = key\n",
    "print(f'CHARACTERS FREQUENCY: {characters_frequency}')\n",
    "\n",
    "\"\"\" decrypting with the most frequent letter: 'ł' \"\"\"\n",
    "\n",
    "shift = alfabet.index(most_frequent_char)\n",
    "print(f'\\n\\n\\ndecrypting with most frequent letter: \"{most_frequent_char}\"\\n\\n\\n')\n",
    "print(Cezar(ksiazka[0:1000], -shift))\n",
    "\n",
    "\n",
    "\"\"\" this didn't work, lets try second most frequent: 'ć' \"\"\"\n",
    "\n",
    "print(f'\\n\\n\\ndecrypting with second most frequent letter: \"ć\"\\n\\n\\n')\n",
    "shift = alfabet.index('ć')\n",
    "print(Cezar(ksiazka[0:1000], -shift))\n",
    "\n",
    "\n",
    "\n",
    "\"\"\" The book is: Bolesław Prus: Faraon\"\"\"\n",
    "plik.close()"
   ]
  },
  {
   "cell_type": "markdown",
   "metadata": {},
   "source": [
    "Słownik **czestoliwosc** zawiera częstotliwości występowania liter w języku polskim."
   ]
  },
  {
   "cell_type": "code",
   "execution_count": 446,
   "metadata": {
    "ExecuteTime": {
     "end_time": "2024-10-04T17:49:22.418126Z",
     "start_time": "2024-10-04T17:49:22.413373Z"
    }
   },
   "outputs": [],
   "source": [
    "czestotliwosc = {'a':0.0891,'ą':0.0099, 'b':0.0147, 'c':0.0396, 'ć':0.004, 'd':0.0325, 'e':0.0766, 'ę':0.0111, 'f':0.003, \n",
    "                 'g':0.0142, 'h':0.0108, 'i':0.0821, 'j':0.0228, 'k':0.0351, 'l':0.021, 'ł':0.0182,'m':0.028, 'n':0.0552, \n",
    "                 'ń':0.002, 'o':0.0775,'ó':0.0085, 'p':0.0313, 'q':0.0014, 'r':0.0469, 's':0.0432,'ś':0.0066, 't':0.0398,\n",
    "                 'u':0.025, 'v': 0.0004, 'w':0.0465 ,'x':0.0002,'y':0.0376, 'z':0.0564,'ź':0.0006,'ż':0.0083}"
   ]
  },
  {
   "cell_type": "code",
   "execution_count": 447,
   "metadata": {
    "ExecuteTime": {
     "end_time": "2024-10-04T17:49:22.548870Z",
     "start_time": "2024-10-04T17:49:22.431876Z"
    }
   },
   "outputs": [
    {
     "data": {
      "text/plain": "<BarContainer object of 35 artists>"
     },
     "execution_count": 447,
     "metadata": {},
     "output_type": "execute_result"
    },
    {
     "data": {
      "text/plain": "<Figure size 640x480 with 1 Axes>",
      "image/png": "[encoded data removed]"
     },
     "metadata": {},
     "output_type": "display_data"
    }
   ],
   "source": [
    "plt.bar(czestotliwosc.keys(),czestotliwosc.values())"
   ]
  },
  {
   "cell_type": "markdown",
   "metadata": {},
   "source": [
    "## Zadanie 4 (2 pkt.)"
   ]
  },
  {
   "cell_type": "markdown",
   "metadata": {},
   "source": [
    "Napisz dwie funkcje, szyfrującą i deszyfrującą, dla szyfru Vignere'a. Funkcja **Vignere_zaszyfruj(tekst, klucz)** przyjmuje jako argumenty tekst do zaszyfrowania oraz klucz w postaci słowa. Podobnie funkcja **Vignere_odszyfruj(tekst, klucz)** przyjmuje jako argumenty tekst zaszyfrowany oraz klucz w postaci słowa. Może być przydatne skorzystanie z zamiany liter na liczby (tzn. na liczby określające pozycję litery w alfabecie):"
   ]
  },
  {
   "cell_type": "code",
   "execution_count": 448,
   "metadata": {
    "ExecuteTime": {
     "end_time": "2024-10-04T17:49:22.550725Z",
     "start_time": "2024-10-04T17:49:22.546999Z"
    }
   },
   "outputs": [],
   "source": [
    "liczb_do_lit=dict()\n",
    "lit_do_liczb=dict()\n",
    "for i,l in enumerate(alfabet):\n",
    "    liczb_do_lit[i]=l\n",
    "    lit_do_liczb[l]=i"
   ]
  },
  {
   "cell_type": "code",
   "execution_count": 449,
   "metadata": {
    "ExecuteTime": {
     "end_time": "2024-10-04T17:49:22.560575Z",
     "start_time": "2024-10-04T17:49:22.554784Z"
    }
   },
   "outputs": [],
   "source": [
    "def Vignere_zaszyfruj(tekst,klucz):\n",
    "    encrypted_message = \"\"\n",
    "    char_from_key_counter = 0\n",
    "    upper = False\n",
    "    for char_to_encode in tekst:\n",
    "        if char_to_encode.isalpha():\n",
    "            if char_to_encode.isupper():\n",
    "                upper = True\n",
    "                \n",
    "            # choose what char to use for encryption:\n",
    "            key_char = klucz[char_from_key_counter % len(klucz)]\n",
    "            char_from_key_counter += 1\n",
    "            \n",
    "            # encrypt char\n",
    "            encrypted_char = alfabet[(lit_do_liczb[char_to_encode.lower()] + lit_do_liczb[key_char]) % len(alfabet)]\n",
    "            \n",
    "            # set encrypted char to upper if needed:\n",
    "            if upper:\n",
    "                encrypted_char = encrypted_char.upper()\n",
    "                upper = False\n",
    "            \n",
    "            # append encrypted char to whole message\n",
    "            encrypted_message += encrypted_char\n",
    "        else:\n",
    "            # if current char is not in alphabet, just append it\n",
    "            encrypted_message += char_to_encode\n",
    "            \n",
    "    return encrypted_message"
   ]
  },
  {
   "cell_type": "code",
   "execution_count": 450,
   "metadata": {
    "ExecuteTime": {
     "end_time": "2024-10-04T17:49:22.594752Z",
     "start_time": "2024-10-04T17:49:22.560121Z"
    }
   },
   "outputs": [],
   "source": [
    "def Vignere_odszyfruj(tekst,klucz):\n",
    "    decrypted_message = \"\"\n",
    "    char_from_key_counter = 0\n",
    "    upper = False\n",
    "    for char_to_decode in tekst:\n",
    "        if char_to_decode.isalpha():\n",
    "            if char_to_decode.isupper():\n",
    "                upper = True\n",
    "\n",
    "            # choose what char to use for decryption:\n",
    "            key_char = klucz[char_from_key_counter % len(klucz)]\n",
    "            char_from_key_counter += 1\n",
    "\n",
    "            # decrypt char\n",
    "            decrypted_char = alfabet[(lit_do_liczb[char_to_decode.lower()] - lit_do_liczb[key_char]) % len(alfabet)]\n",
    "\n",
    "            # set decrypted char to upper if needed:\n",
    "            if upper:\n",
    "                decrypted_char = decrypted_char.upper()\n",
    "                upper = False\n",
    "\n",
    "            # append decrypted char to whole message\n",
    "            decrypted_message += decrypted_char\n",
    "        else:\n",
    "            # if current char is not in alphabet, just append it\n",
    "            decrypted_message += char_to_decode\n",
    "\n",
    "    return decrypted_message  "
   ]
  },
  {
   "cell_type": "code",
   "execution_count": 451,
   "metadata": {
    "ExecuteTime": {
     "end_time": "2024-10-04T17:49:22.595254Z",
     "start_time": "2024-10-04T17:49:22.568884Z"
    }
   },
   "outputs": [
    {
     "name": "stdout",
     "output_type": "stream",
     "text": [
      "True\n",
      "True\n",
      "True\n",
      "True\n",
      "True\n",
      "True\n",
      "True\n",
      "True\n"
     ]
    }
   ],
   "source": [
    "print(Vignere_zaszyfruj('Ala ma kota.','ela')=='Eva ql kśda.')\n",
    "print(Vignere_zaszyfruj('Ala ma kota.','tygrys')=='Thg ćy bhqg.')\n",
    "print(Vignere_zaszyfruj('Ala ma 2 koty.','indywidualistyczny')=='Iyd jw 2 ssńy.')\n",
    "print(Vignere_zaszyfruj('Daremne żale, próżny trud,\\nBezsilne złorzeczenia!\\nPrzeżytych kształtów żaden cud\\nNie wróci do istnienia.','asnyk')\n",
    "                  =='Dsdbwnx myue, hdmjnó fodd,\\nTrvbicżb hłfdvocprksa!\\nHdvożófumh bevćaćfmę żsqbx cmq\\nKse ńdmmi wą ębtevbxis.')\n",
    "print(Vignere_odszyfruj('Eva ql kśda.','ela')=='Ala ma kota.')\n",
    "print(Vignere_odszyfruj('Thg ćy bhqg.','tygrys')=='Ala ma kota.')\n",
    "print(Vignere_odszyfruj('Iyd jw 2 ssńy.','indywidualistyczny')=='Ala ma 2 koty.')\n",
    "print(Vignere_odszyfruj('Dsdbwnx myue, hdmjnó fodd,\\nTrvbicżb hłfdvocprksa!\\nHdvożófumh bevćaćfmę żsqbx cmq\\nKse ńdmmi wą ębtevbxis.','asnyk')\n",
    "                  =='Daremne żale, próżny trud,\\nBezsilne złorzeczenia!\\nPrzeżytych kształtów żaden cud\\nNie wróci do istnienia.')"
   ]
  },
  {
   "cell_type": "markdown",
   "metadata": {},
   "source": [
    "## Zadanie 5 (3 pkt.)"
   ]
  },
  {
   "cell_type": "markdown",
   "metadata": {},
   "source": [
    "Plik **'ksiazka2.txt'** zawiera tekst pewnej książki zaszyfrowany metodą Vignere'a. Dokonaj analizy statystycznej liter i na tej podstawie znajdź klucz oraz odszyfruj tekst. Jaka to książka?\n",
    "\n",
    "Wskazówka I: Zauważ, że w metodzie Vignere'a co $n$-ta litera (gdzie $n$ to długość klucza) jest zaszyfrowana metodą Cezara.\n",
    "\n",
    "Wskazówka II: Najpierw ustal długość klucza $n$.\n",
    "\n",
    "Do wczytania pliku możesz użyć poniższego kodu.\n",
    "\n",
    "KLUCZ MA MAKSYMALNĄ DŁUGOŚĆ 4"
   ]
  },
  {
   "cell_type": "code",
   "execution_count": 452,
   "metadata": {
    "ExecuteTime": {
     "end_time": "2024-10-04T17:49:22.595359Z",
     "start_time": "2024-10-04T17:49:22.575146Z"
    }
   },
   "outputs": [
    {
     "name": "stdout",
     "output_type": "stream",
     "text": [
      "0: Zźmęeśon Ó. Awkróot Nźvi, elqjchqpth Cćóóńźżfxbaóa, rziłlśeyf ńź sp źwiąih\n",
      "\n",
      "K śvui 1872 ęvx dpl yińł\n",
      "1: Źżnfętóń P. Ąxlspóu Ńżwj, ęłrkćirqui Ćdppożagycąpą, sźjmłtęzg oż śq żxjbji\n",
      "\n",
      "L twvj 1872 fwy eqł zjom\n",
      "2: Żańgfupo Q. Byłśqpv Oaxk, fmsldjsrvj Deqqóaąhzćbqb, śżknmufźh óa tr aykckj\n",
      "\n",
      "Ł uxwk 1872 gxz ęrm źkón\n",
      "3: Aąohgvqó R. Czmtrqw Óąyl, gnśłekśswk Eęrrpąbiźdcrc, talńnvgżi pą us ązlćlk\n",
      "\n",
      "M vyxl 1872 hyź fsn żlpń\n",
      "4: Ąbóihwrp S. Ćźnusrx Pbzł, hńtmęltśxl Ęfssqbcjżećsć, uąłońwhaj qb vś bźłdłl\n",
      "\n",
      "N wzył 1872 izż gśń ałqo\n",
      "5: Bcpjixsq Ś. Dżńvśsy Qcźm, iounfłutył Fgśśrcćkaędśd, vbmóoxiąk rc wt cżmemł\n",
      "\n",
      "Ń xźzm 1872 jźa hto ąmró\n",
      "6: Cćqkjyśr T. Eaowtśz Rćżn, jóvńgmvuzm Ghttsćdląfete, wcnpóyjbl sć xu ćanęnm\n",
      "\n",
      "O yżźn 1872 kżą iuó bnsp\n",
      "7: Ćdrlkzts U. Ęąóxutź Sdań, kpwohnwvźn Hiuuśdełbgęuę, xćńqpzkcł śd yv dąńfńn\n",
      "\n",
      "Ó zażń 1872 lab jvp cńśq\n",
      "8: Desłlźuś V. Fbpyvuż Śeąo, lqxóińxwżń Ijvvteęmchfvf, ydorqźlćm te zw ebogoń\n",
      "\n",
      "P źąao 1872 łąc kwq ćotr\n",
      "9: Eęśmłżvt W. Gcqzwva Tębó, łrypjoyxao Jkwwuęfnćigwg, zeósrżłdn uę źx ęcóhóo\n",
      "\n",
      "Q żbąó 1872 mbć lxr dóus\n",
      "10: Ęftnmawu X. Hćrźxwą Ufcp, mszqkózyąó Klxxvfgńdjhxh, źępśsameń vf ży fćpipó\n",
      "\n",
      "R acbp 1872 ncd łys epvś\n",
      "11: Fguńnąxv Y. Idsżyxb Vgćq, nśźrlpźzbp Lłyywghoekiyi, żfqtśąnęo wg az gdqjqp\n",
      "\n",
      "S ąćcq 1872 ńće mzś ęqwt\n",
      "12: Ghvońbyw Z. Jeśazyc Whdr, ńtżsłqżźcq Łmzzxhióęljzj, agrutbńfó xh ąź herkrq\n",
      "\n",
      "Ś bdćr 1872 odę nźt frxu\n",
      "13: Hiwóoczx Ź. Kętąźzć Xies, ouaśmrażćr Mnźźyijpfłkźk, ąhsvucogp yi bż ięslsr\n",
      "\n",
      "T ceds 1872 óef ńżu gsyv\n",
      "14: Ijxpóćźy Ż. Lfubżźd Yjęś, óvątnsąads Nńżżzjkqgmlżl, biśwvćóhq zj ca jfśłśs\n",
      "\n",
      "U ćęeś 1872 pęg oav hśzw\n",
      "15: Jkyqpdżz A. Łgvcaże Zkft, pwbuńśbąeś Ńoaaźklrhnłał, cjtxwdpir źk ćą kgtmtś\n",
      "\n",
      "V dfęt 1872 qfh óąw itźx\n",
      "16: Klzrqeaź Ą. Mhwćąaę Źlgu, qxcvotcbęt Oóąążlłsińmąm, ćkuyxeqjs żl db lhunut\n",
      "\n",
      "W egfu 1872 rgi pbx juży\n",
      "17: Lłźsręąż B. Nixdbąf Żłhv, ryćwóućcfu Ópbbałmśjonbn, dlvzyęrkś ał ec łivńvu\n",
      "\n",
      "X ęhgv 1872 shj qcy kvaz\n",
      "18: Łmżśsfba C. Ńjyecbg Amiw, szdxpvdćgv Pqccąmntkóńcń, ełwźzfslt ąm ęć mjwowv\n",
      "\n",
      "Y fihw 1872 śik rćz lwąź\n",
      "19: Mnatśgcą Ć. Okzęćch Ąnjx, śźeyqwedhw Qrććbnńulpoćo, ęmxżźgśłu bn fd nkxóxw\n",
      "\n",
      "Z gjix 1872 tjl sdź łxbż\n",
      "20: Nńąuthćb D. Ólźfdći Bńky, tżęzrxęeix Rsddcńovłqódó, fnyażhtmv cń ge ńlypyx\n",
      "\n",
      "Ź hkjy 1872 ukł śeż myca\n",
      "21: Ńobvuidc E. Płżgedj Colz, uafźsyfęjy Sśeećoówmrpep, gńząaiunw ćo hę ołzqzy\n",
      "\n",
      "Ż ilkz 1872 vlm tęa nzćą\n",
      "22: Oócwvjeć Ę. Qmahęek Ćółź, vągżśzgfkz Śtęędópxnsqęq, hoźbąjvńx dó if ómźrźz\n",
      "\n",
      "A jłlź 1872 włn ufą ńźdb\n",
      "23: Ópćxwkęd F. Rnąifęl Dpmż, wbhatźhglź Tuffepqyńśrfr, ióżcbkwoy ep jg pnżsżź\n",
      "\n",
      "Ą kmłż 1872 xmń vgb ożec\n",
      "24: Pqdyxlfe G. Sńbjgfł Eqna, xciąużihłż Uvggęqrzotsgs, jpaćclxóz ęq kh qńaśaż\n",
      "\n",
      "B lnma 1872 yno whc óaęć\n",
      "25: Qrezyłgę H. Śockhgm Ęrńą, yćjbvajima Vwhhfrsźóuśhś, kqądćłypź fr li roątąa\n",
      "\n",
      "C łńną 1872 zńó xić pąfd\n",
      "26: Rsęźzmhf I. Tóćlihn Fsob, zdkcwąkjną Wxiigsśżpvtit, lrbedmzqż gs łj sóbubą\n",
      "\n",
      "Ć mońb 1872 źop yjd qbge\n",
      "27: Sśfżźnig J. Updłjiń Gśóc, źelćxblkńb Xyjjhśtaqwuju, łscęenźra hś mk śpcvcb\n",
      "\n",
      "D nóoc 1872 żóq zke rchę\n",
      "28: Śtgażńjh K. Vqemkjo Htpć, żęłdycłloc Yzkkituąrxvkv, mśćfęńżsą it nl tqćwćc\n",
      "\n",
      "E ńpóć 1872 apr źlę sćif\n",
      "29: Tuhąaoki L. Wręnlkó Iuqd, afmezćmłóć Zźlljuvbsywlw, ntdgfoaśb ju ńł urdxdć\n",
      "\n",
      "Ę oqpd 1872 ąqs żłf śdjg\n",
      "30: Uvibąólj Ł. Xsfńłlp Jvre, ągnęźdnmpd Źżłłkvwcśzxłx, ńuehgóątc kv om vseyed\n",
      "\n",
      "F órqe 1872 brś amg tekh\n",
      "31: Vwjcbpłk M. Yśgomłq Kwsę, bhńfżeńnqe Żammlwxćtźymy, ovęihpbuć lw ón wśęzęe\n",
      "\n",
      "G psrę 1872 cst ąnh uęli\n",
      "32: Wxkćcqml N. Zthónmr Lxśf, ciogaęońrę Aąnnłxydużznz, ówfjiqcvd łx pń xtfźfę\n",
      "\n",
      "H qśsf 1872 ćśu bńi vfłj\n",
      "33: Xyldćrnł Ń. Źuipńns Łytg, ćjóhąfóosf Ąbńńmyzevaźńź, pxgkjrćwe my qo yugżgf\n",
      "\n",
      "I rtśg 1872 dtv coj wgmk\n",
      "34: Yzłedsńm O. Żvjqońś Mzuh, dkpibgpóśg Bcoonzźęwążoż, qyhlksdxę nz ró zvhahg\n",
      "\n",
      "J suth 1872 euw ćók xhnl\n"
     ]
    }
   ],
   "source": [
    "plik=open('ksiazka2.txt', encoding='utf8')\n",
    "ksiazka=plik.read()\n",
    "\n",
    "\"\"\"check if key is of length 1 (Caesar's cipher)\"\"\"\n",
    "\n",
    "for number in range(len(alfabet)):\n",
    "    print(f'{number}: {Cezar(ksiazka[0:100], number)}')"
   ]
  },
  {
   "cell_type": "markdown",
   "source": [
    "Key is not of length 1 - Caesar's decryption didn't work"
   ],
   "metadata": {
    "collapsed": false
   }
  },
  {
   "cell_type": "markdown",
   "source": [
    "Now I need to make statistical analysis.\n",
    "\n",
    "Steps:\n",
    "1) Divide given string into groups -> length of the key is number of groups:\n",
    "    a) each group has corresponding to it letters\n",
    "    b) Group 1 is made of first character, then n+1, 2n+1...\n",
    "        n is length of the key - need do guess untill I find result\n",
    "    c) Second group is made of n, 2n, 3n...\n",
    "2) Check what character is most often in each group, now on each group do Casesar's decryption\n",
    "3) Merge decrypted groups"
   ],
   "metadata": {
    "collapsed": false
   }
  },
  {
   "cell_type": "code",
   "execution_count": 453,
   "outputs": [
    {
     "name": "stdout",
     "output_type": "stream",
     "text": [
      "[('ś', 13287), ('o', 11433), ('ź', 10536), ('c', 10202), ('ó', 10139), ('f', 9971), ('v', 9207), ('ł', 8950), ('l', 8913), ('k', 8776), ('x', 8696), ('d', 8608), ('b', 7854), ('t', 7800), ('p', 7466), ('i', 7169), ('y', 6879), ('g', 6740), ('m', 6382), ('ż', 6021), ('a', 5735), ('h', 5544), ('ą', 5432), ('e', 5210), ('r', 4778), ('q', 4607), ('ę', 4603), ('s', 4440), ('z', 4225), ('w', 4048), ('n', 4008), ('ń', 3771), ('j', 2825), ('u', 2495), ('ć', 2009)]\n"
     ]
    },
    {
     "data": {
      "text/plain": "<Figure size 640x480 with 1 Axes>",
      "image/png": "[encoded data removed]"
     },
     "metadata": {},
     "output_type": "display_data"
    }
   ],
   "source": [
    "# check if key is length 2: (divide characters into 2 separate groups)\n",
    "group_1 = group_2 = \"\"\n",
    "characters_frequency_1 = characters_frequency_2 = {}\n",
    "characters_counter = 0\n",
    "\n",
    "for char in ksiazka:\n",
    "    if char.isalpha():\n",
    "        char = char.lower()\n",
    "        if characters_counter % 2 == 0:\n",
    "            characters_frequency_1[char] = characters_frequency_1.get(char, 0) + 1\n",
    "            group_1 += char\n",
    "        else:\n",
    "            characters_frequency_2[char] = characters_frequency_2.get(char, 0) + 1\n",
    "            group_2 += char\n",
    "        characters_counter += 1\n",
    "        characters_counter %= 2\n",
    "\n",
    "ordered_character_frequency_1 = sorted(characters_frequency_1.items(), key=lambda x:x[1], reverse=True)\n",
    "print(ordered_character_frequency_1)\n",
    "plt.bar(characters_frequency_1.keys(), characters_frequency_1.values())\n",
    "\n",
    "plik.close()"
   ],
   "metadata": {
    "collapsed": false,
    "ExecuteTime": {
     "end_time": "2024-10-04T17:49:22.832055Z",
     "start_time": "2024-10-04T17:49:22.603634Z"
    }
   }
  },
  {
   "cell_type": "markdown",
   "source": [
    "'x' is most often occurring character in first group -> first letter of key\n",
    "\n",
    "Let's see, what is most often occurring character in second group -> second letter of key"
   ],
   "metadata": {
    "collapsed": false
   }
  },
  {
   "cell_type": "code",
   "execution_count": 454,
   "outputs": [
    {
     "name": "stdout",
     "output_type": "stream",
     "text": [
      "[('ś', 13287), ('o', 11433), ('ź', 10536), ('c', 10202), ('ó', 10139), ('f', 9971), ('v', 9207), ('ł', 8950), ('l', 8913), ('k', 8776), ('x', 8696), ('d', 8608), ('b', 7854), ('t', 7800), ('p', 7466), ('i', 7169), ('y', 6879), ('g', 6740), ('m', 6382), ('ż', 6021), ('a', 5735), ('h', 5544), ('ą', 5432), ('e', 5210), ('r', 4778), ('q', 4607), ('ę', 4603), ('s', 4440), ('z', 4225), ('w', 4048), ('n', 4008), ('ń', 3771), ('j', 2825), ('u', 2495), ('ć', 2009)]\n"
     ]
    }
   ],
   "source": [
    "ordered_character_frequency_2 = sorted(characters_frequency_2.items(), key=lambda x:x[1], reverse=True)\n",
    "print(ordered_character_frequency_2)"
   ],
   "metadata": {
    "collapsed": false,
    "ExecuteTime": {
     "end_time": "2024-10-04T17:49:22.832319Z",
     "start_time": "2024-10-04T17:49:22.810747Z"
    }
   }
  },
  {
   "cell_type": "markdown",
   "source": [
    "'b' is most often occurring character in second group -> second letter of key\n",
    "\n",
    "\n",
    "\n",
    "Let's check how far these letters are from most often occuring letter in polish alphabet.\n",
    "\n",
    "I will use Caesar's cipher to decrypt elements in every group, then I will merge both groups."
   ],
   "metadata": {
    "collapsed": false
   }
  },
  {
   "cell_type": "code",
   "execution_count": 455,
   "outputs": [
    {
     "name": "stdout",
     "output_type": "stream",
     "text": [
      "bypdirsłśźżivńssqyźgijuhffuoyffbśńryćeaadńdpbgójxćąerywocumżmfńrźśmdźvhoowmmóaxmaapycjnivtxrźetubtan\n"
     ]
    }
   ],
   "source": [
    "shift_1 = alfabet.index('x')\n",
    "shift_2 = alfabet.index('b')\n",
    "decrypted_group_1 = Cezar(group_1, -shift_1)\n",
    "decrypted_group_2 = Cezar(group_2, -shift_2)\n",
    "\n",
    "\n",
    "decrypted_book = \"\"\n",
    "# merge groups:\n",
    "for i in range(max(len(decrypted_group_1), len(decrypted_group_2))):\n",
    "    if i < len(decrypted_group_1):\n",
    "        decrypted_book += decrypted_group_1[i]\n",
    "    if i < len(decrypted_group_2):\n",
    "        decrypted_book += decrypted_group_2[i]\n",
    "\n",
    "print(decrypted_book[0:100])"
   ],
   "metadata": {
    "collapsed": false,
    "ExecuteTime": {
     "end_time": "2024-10-04T17:49:22.952588Z",
     "start_time": "2024-10-04T17:49:22.880964Z"
    }
   }
  },
  {
   "cell_type": "markdown",
   "source": [
    "I tried every combination with first three most occurring characters - key seems to be longer than two chars.\n",
    "\n",
    "Now I will try key with length 3"
   ],
   "metadata": {
    "collapsed": false
   }
  },
  {
   "cell_type": "code",
   "execution_count": 456,
   "outputs": [
    {
     "name": "stdout",
     "output_type": "stream",
     "text": [
      "group 1\n",
      "[('ś', 4474), ('o', 3894), ('ź', 3551), ('ó', 3410), ('c', 3365), ('f', 3337), ('v', 3103), ('k', 2964), ('l', 2924), ('ł', 2910), ('x', 2896), ('d', 2883), ('b', 2570), ('p', 2537), ('t', 2528), ('i', 2370), ('g', 2292), ('y', 2271), ('m', 2125), ('ż', 1967), ('h', 1842), ('a', 1805), ('ą', 1798), ('e', 1721), ('r', 1576), ('q', 1576), ('ę', 1550), ('s', 1478), ('z', 1452), ('w', 1372), ('n', 1324), ('ń', 1268), ('j', 937), ('u', 843), ('ć', 674)]\n",
      "group 2\n",
      "[('ś', 4438), ('o', 3741), ('ź', 3491), ('ó', 3380), ('c', 3379), ('f', 3326), ('l', 3050), ('v', 3025), ('ł', 3008), ('x', 2911), ('d', 2850), ('k', 2831), ('b', 2666), ('t', 2642), ('p', 2465), ('i', 2360), ('y', 2339), ('g', 2209), ('m', 2105), ('ż', 2054), ('a', 1987), ('h', 1855), ('ą', 1808), ('e', 1791), ('r', 1609), ('ę', 1548), ('q', 1524), ('s', 1485), ('n', 1351), ('z', 1349), ('w', 1324), ('ń', 1280), ('j', 953), ('u', 781), ('ć', 671)]\n",
      "group 3\n",
      "[('ś', 4375), ('o', 3798), ('ź', 3494), ('c', 3458), ('ó', 3349), ('f', 3308), ('v', 3079), ('ł', 3032), ('k', 2981), ('l', 2939), ('x', 2889), ('d', 2875), ('t', 2630), ('b', 2618), ('p', 2464), ('i', 2439), ('y', 2269), ('g', 2239), ('m', 2152), ('ż', 2000), ('a', 1943), ('h', 1847), ('ą', 1826), ('e', 1698), ('r', 1593), ('q', 1507), ('ę', 1505), ('s', 1477), ('z', 1424), ('w', 1352), ('n', 1333), ('ń', 1223), ('j', 935), ('u', 871), ('ć', 664)]\n"
     ]
    }
   ],
   "source": [
    "plik=open('ksiazka2.txt', encoding='utf8')\n",
    "ksiazka=plik.read()\n",
    "\n",
    "\n",
    "# check if key is length 3: (divide characters into 3 separate groups)\n",
    "group_1, group_2, group_3 = \"\", \"\", \"\"\n",
    "characters_frequency_1, characters_frequency_2, characters_frequency_3 = {}, {}, {}\n",
    "characters_counter = 0\n",
    "\n",
    "for char in ksiazka:\n",
    "    if char.isalpha():\n",
    "        char = char.lower()\n",
    "        # take only every second number\n",
    "        if characters_counter % 3 == 0:\n",
    "            characters_frequency_1[char] = characters_frequency_1.get(char, 0) + 1\n",
    "            group_1 += char\n",
    "        elif characters_counter % 3 == 1:\n",
    "            characters_frequency_2[char] = characters_frequency_2.get(char, 0) + 1\n",
    "            group_2 += char\n",
    "        else:\n",
    "            characters_frequency_3[char] = characters_frequency_3.get(char, 0) + 1\n",
    "            group_3 += char\n",
    "        characters_counter += 1\n",
    "        characters_counter %= 3\n",
    "\n",
    "ordered_character_frequency_1 = sorted(characters_frequency_1.items(), key=lambda x:x[1], reverse=True)\n",
    "print(\"group 1\")\n",
    "print(ordered_character_frequency_1)\n",
    "ordered_character_frequency_2 = sorted(characters_frequency_2.items(), key=lambda x:x[1], reverse=True)\n",
    "print(\"group 2\")\n",
    "print(ordered_character_frequency_2)\n",
    "ordered_character_frequency_3 = sorted(characters_frequency_3.items(), key=lambda x:x[1], reverse=True)\n",
    "print(\"group 3\")\n",
    "print(ordered_character_frequency_3)\n",
    "plik.close()"
   ],
   "metadata": {
    "collapsed": false,
    "ExecuteTime": {
     "end_time": "2024-10-04T17:49:23.059843Z",
     "start_time": "2024-10-04T17:49:22.951019Z"
    }
   }
  },
  {
   "cell_type": "markdown",
   "source": [
    "In all groups, the most common letter is 'ś'"
   ],
   "metadata": {
    "collapsed": false
   }
  },
  {
   "cell_type": "code",
   "execution_count": 457,
   "outputs": [
    {
     "name": "stdout",
     "output_type": "stream",
     "text": [
      "ęftnmawuxhćrźxwąufcpmszqkózyąóklxxvfgńdjhxhźępśsameńvfżyfćpipóracbpncdłysepvśjavdjtffsqrźcaacńyćęcdw\n"
     ]
    }
   ],
   "source": [
    "shift_1 = alfabet.index('ś')\n",
    "shift_2 = alfabet.index('ś')\n",
    "shift_3 = alfabet.index('ś')\n",
    "decrypted_group_1 = Cezar(group_1, -shift_1)\n",
    "decrypted_group_2 = Cezar(group_2, -shift_2)\n",
    "decrypted_group_3 = Cezar(group_3, -shift_3)\n",
    "\n",
    "\n",
    "decrypted_book = \"\"\n",
    "# merge groups:\n",
    "for i in range(max(len(decrypted_group_1), len(decrypted_group_2), len(decrypted_group_3))):\n",
    "    if i < len(decrypted_group_1):\n",
    "        decrypted_book += decrypted_group_1[i]\n",
    "    if i < len(decrypted_group_2):\n",
    "        decrypted_book += decrypted_group_2[i]\n",
    "    if i < len(decrypted_group_3):\n",
    "        decrypted_book += decrypted_group_3[i]\n",
    "\n",
    "print(decrypted_book[0:100])"
   ],
   "metadata": {
    "collapsed": false,
    "ExecuteTime": {
     "end_time": "2024-10-04T17:49:23.202462Z",
     "start_time": "2024-10-04T17:49:23.107378Z"
    }
   }
  },
  {
   "cell_type": "markdown",
   "source": [
    "This message is still encrypted!\n",
    "\n",
    "Let's try with key length 4"
   ],
   "metadata": {
    "collapsed": false
   }
  },
  {
   "cell_type": "code",
   "execution_count": 458,
   "outputs": [
    {
     "name": "stdout",
     "output_type": "stream",
     "text": [
      "group 1\n",
      "[('g', 5355), ('ó', 5064), ('v', 4625), ('ł', 4325), ('e', 3492), ('t', 3341), ('c', 2470), ('ź', 2405), ('z', 2400), ('d', 2353), ('l', 2182), ('a', 2142), ('j', 2112), ('x', 2033), ('q', 1673), ('s', 1643), ('ś', 1530), ('ą', 1335), ('ń', 1309), ('r', 1130), ('p', 1120), ('i', 983), ('m', 855), ('h', 681), ('f', 657), ('o', 611), ('ż', 504), ('w', 502), ('k', 333), ('n', 290), ('u', 82), ('ć', 80), ('ę', 54), ('b', 18), ('y', 1)]\n",
      "group 2\n",
      "[('l', 5498), ('ś', 5099), ('ź', 4496), ('ó', 4346), ('i', 3453), ('y', 3310), ('c', 2523), ('f', 2444), ('h', 2366), ('b', 2347), ('o', 2238), ('n', 2143), ('d', 2076), ('a', 2010), ('w', 1586), ('u', 1585), ('x', 1581), ('e', 1410), ('r', 1280), ('t', 1141), ('v', 1115), ('m', 987), ('p', 813), ('k', 692), ('ł', 641), ('s', 640), ('ż', 564), ('ć', 489), ('q', 313), ('ń', 300), ('z', 70), ('g', 62), ('j', 51), ('ę', 19), ('ą', 2)]\n",
      "group 3\n",
      "[('o', 5283), ('x', 5067), ('c', 4490), ('ś', 4353), ('m', 3506), ('ą', 3391), ('f', 2567), ('k', 2553), ('ę', 2331), ('ł', 2309), ('h', 2184), ('s', 2156), ('q', 2112), ('d', 2037), ('z', 1673), ('ż', 1541), ('a', 1521), ('i', 1353), ('v', 1317), ('y', 1172), ('ź', 1142), ('p', 967), ('t', 902), ('ń', 676), ('ó', 661), ('w', 609), ('ć', 515), ('g', 457), ('r', 310), ('u', 303), ('b', 81), ('l', 67), ('n', 54), ('j', 28), ('e', 2)]\n",
      "group 4\n",
      "[('b', 5408), ('k', 5198), ('p', 4566), ('f', 4303), ('ż', 3412), ('o', 3301), ('ź', 2493), ('t', 2416), ('y', 2396), ('ś', 2305), ('ę', 2199), ('v', 2150), ('d', 2142), ('r', 2058), ('ł', 1675), ('n', 1521), ('ń', 1486), ('i', 1380), ('w', 1351), ('l', 1166), ('m', 1034), ('ć', 925), ('g', 866), ('c', 719), ('ą', 704), ('j', 634), ('u', 525), ('q', 509), ('h', 313), ('e', 306), ('z', 82), ('ó', 68), ('a', 62), ('x', 15), ('s', 1)]\n"
     ]
    }
   ],
   "source": [
    "plik=open('ksiazka2.txt', encoding='utf8')\n",
    "ksiazka=plik.read()\n",
    "\n",
    "\n",
    "# check if key is length 4: (divide characters into 4 separate groups)\n",
    "group_1, group_2, group_3, group_4 = \"\", \"\", \"\", \"\"\n",
    "characters_frequency_1, characters_frequency_2, characters_frequency_3, characters_frequency_4 = {}, {}, {}, {}\n",
    "\n",
    "characters_counter = 0\n",
    "\n",
    "for char in ksiazka:\n",
    "    if char.isalpha():\n",
    "        char = char.lower()\n",
    "        if characters_counter % 4 == 0:\n",
    "            characters_frequency_1[char] = characters_frequency_1.get(char, 0) + 1\n",
    "            group_1 += char\n",
    "        elif characters_counter % 4 == 1:\n",
    "            characters_frequency_2[char] = characters_frequency_2.get(char, 0) + 1\n",
    "            group_2 += char\n",
    "        elif characters_counter % 4 == 2:\n",
    "            characters_frequency_3[char] = characters_frequency_3.get(char, 0) + 1\n",
    "            group_3 += char\n",
    "        else:\n",
    "            characters_frequency_4[char] = characters_frequency_4.get(char, 0) + 1\n",
    "            group_4 += char\n",
    "        characters_counter += 1\n",
    "        characters_counter %= 4\n",
    "        \n",
    "ordered_character_frequency_1 = sorted(characters_frequency_1.items(), key=lambda x:x[1], reverse=True)\n",
    "print(\"group 1\")\n",
    "print(ordered_character_frequency_1)\n",
    "ordered_character_frequency_2 = sorted(characters_frequency_2.items(), key=lambda x:x[1], reverse=True)\n",
    "print(\"group 2\")\n",
    "print(ordered_character_frequency_2)\n",
    "ordered_character_frequency_3 = sorted(characters_frequency_3.items(), key=lambda x:x[1], reverse=True)\n",
    "print(\"group 3\")\n",
    "print(ordered_character_frequency_3)\n",
    "ordered_character_frequency_4 = sorted(characters_frequency_4.items(), key=lambda x:x[1], reverse=True)\n",
    "print(\"group 4\")\n",
    "print(ordered_character_frequency_4)\n",
    "plik.close()"
   ],
   "metadata": {
    "collapsed": false,
    "ExecuteTime": {
     "end_time": "2024-10-04T17:49:23.311031Z",
     "start_time": "2024-10-04T17:49:23.200817Z"
    }
   }
  },
  {
   "cell_type": "code",
   "execution_count": 459,
   "outputs": [
    {
     "name": "stdout",
     "output_type": "stream",
     "text": [
      "rozdziałiphileasfoggzachwyconyobieżyświatemprzyjmujegodosłużbywrokudompodnumeremprzysavillerowburlin\n"
     ]
    }
   ],
   "source": [
    "shift_1 = alfabet.index('g')\n",
    "shift_2 = alfabet.index('l')\n",
    "shift_3 = alfabet.index('o')\n",
    "shift_4 = alfabet.index('b')\n",
    "decrypted_group_1 = Cezar(group_1, -shift_1)\n",
    "decrypted_group_2 = Cezar(group_2, -shift_2)\n",
    "decrypted_group_3 = Cezar(group_3, -shift_3)\n",
    "decrypted_group_4 = Cezar(group_4, -shift_4)\n",
    "\n",
    "decrypted_book = \"\"\n",
    "# merge groups:\n",
    "for i in range(len(decrypted_group_1)):\n",
    "    if i < len(decrypted_group_1):\n",
    "        decrypted_book += decrypted_group_1[i]\n",
    "    if i < len(decrypted_group_2):\n",
    "        decrypted_book += decrypted_group_2[i]\n",
    "    if i < len(decrypted_group_3):\n",
    "        decrypted_book += decrypted_group_3[i]\n",
    "    if i < len(decrypted_group_4):\n",
    "        decrypted_book += decrypted_group_4[i]\n",
    "\n",
    "print(decrypted_book[0:100])"
   ],
   "metadata": {
    "collapsed": false,
    "ExecuteTime": {
     "end_time": "2024-10-04T17:49:23.440958Z",
     "start_time": "2024-10-04T17:49:23.385172Z"
    }
   }
  },
  {
   "cell_type": "markdown",
   "source": [
    "This looks like decrypted message!\n",
    "\n",
    "KEY: glob"
   ],
   "metadata": {
    "collapsed": false
   }
  },
  {
   "cell_type": "code",
   "execution_count": 460,
   "outputs": [
    {
     "name": "stdout",
     "output_type": "stream",
     "text": [
      "Rozdział I. Phileas Fogg, zachwycony Obieżyświatem, przyjmuje go do służby\n",
      "\n",
      "W roku 1872 dom pod numerem 7 przy Saville Row, Burlington Gardens, w którym w roku 1814 zmarł Sheridan, był zamieszkany przez Phileasa Fogga, członka londyńskiego klubu \"Reforma\", osobistość wybitną i wielce oryginalną.\n",
      "\n",
      "Będąc synem słynnego mówcy angielskiego, Phileas Fogg był istotą zagadkową, o której, prócz tego, że odznaczał się elegancją i urodą, nic więcej nie wiedziano. Mówiono, że jest podobny do Byrona, naturalnie tylko z budowy głowy. Był to Byron z wąsami i faworytami; Byron niepodlegający żadnym cierpieniom, który mógłby żyć sto lat, zupełnie się nie starzejąc.\n",
      "\n",
      "Anglik od pierwszego rzutu oka, Phileas Fogg nie wyglądał jednakże na londyńczyka. Nie widziano go nigdy ani na giełdzie, ani w banku, ani w żadnym kantorze w City. Nigdy na kanałach lub portach londyńskich nie ukazały się jego statki. Człowiek ten nie należał do żadnego komitetu administracyjnego; nie był ani kupcem, ani przemysłowcem, an\n"
     ]
    }
   ],
   "source": [
    "plik=open('ksiazka2.txt', encoding='utf8')\n",
    "ksiazka=plik.read()\n",
    "\n",
    "print(Vignere_odszyfruj(ksiazka[0:1000], 'glob'))\n",
    "\n",
    "\n",
    "plik.close()"
   ],
   "metadata": {
    "collapsed": false,
    "ExecuteTime": {
     "end_time": "2024-10-04T17:49:23.446699Z",
     "start_time": "2024-10-04T17:49:23.441302Z"
    }
   }
  },
  {
   "cell_type": "markdown",
   "source": [
    "The book is: 'W 80 dni dookoła świata - Juliusz Verne'"
   ],
   "metadata": {
    "collapsed": false
   }
  }
 ],
 "metadata": {
  "kernelspec": {
   "display_name": "Python 3 (ipykernel)",
   "language": "python",
   "name": "python3"
  },
  "language_info": {
   "codemirror_mode": {
    "name": "ipython",
    "version": 3
   },
   "file_extension": ".py",
   "mimetype": "text/x-python",
   "name": "python",
   "nbconvert_exporter": "python",
   "pygments_lexer": "ipython3",
   "version": "3.9.18"
  },
  "vscode": {
   "interpreter": {
    "hash": "96ad6c7fd9d06889208fc918e485ee5403ac6f6c27ad3f857e9a26d0c3a3092d"
   }
  }
 },
 "nbformat": 4,
 "nbformat_minor": 4
}
