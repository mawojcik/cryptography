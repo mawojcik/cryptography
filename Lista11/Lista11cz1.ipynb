{
 "cells": [
  {
   "cell_type": "code",
   "execution_count": 1,
   "metadata": {},
   "outputs": [],
   "source": [
    "from qiskit import transpile, QuantumCircuit, QuantumRegister, ClassicalRegister\n",
    "from qiskit_aer import AerSimulator\n",
    "from qiskit.visualization import plot_histogram\n",
    "import numpy as np"
   ]
  },
  {
   "cell_type": "markdown",
   "metadata": {},
   "source": [
    "# Lista 11 cz. 1 (8 pkt.)"
   ]
  },
  {
   "cell_type": "markdown",
   "metadata": {},
   "source": [
    "## Zadanie 1 (3 pkt.)"
   ]
  },
  {
   "attachments": {},
   "cell_type": "markdown",
   "metadata": {},
   "source": [
    "Napisz funkcję **entropy**, która przyjmuje listę prawdopodobieństw i zwraca jej entropię Shanona."
   ]
  },
  {
   "cell_type": "code",
   "execution_count": 9,
   "metadata": {},
   "outputs": [],
   "source": [
    "def entropy(probs):\n",
    "    pass"
   ]
  },
  {
   "cell_type": "code",
   "execution_count": 10,
   "metadata": {},
   "outputs": [
    {
     "name": "stdout",
     "output_type": "stream",
     "text": [
      "False\n",
      "False\n",
      "False\n",
      "False\n"
     ]
    }
   ],
   "source": [
    "print(entropy([1])==0)\n",
    "print(entropy([1/2,1/2])==1)\n",
    "print(entropy([1/8,1/8,1/8,1/8,1/8,1/8,1/8,1/8])==3)\n",
    "print(entropy([1/3,1/3,1/8,1/9,1/11,5/792])==2.144482095549925)"
   ]
  },
  {
   "attachments": {},
   "cell_type": "markdown",
   "metadata": {},
   "source": [
    "Stwórz obwód kwantowy z $n$ kubitami i bramką Hadamarda na każdym z nich, wykonaj pomiar, z wyników pomiarów utwórz listę prawdopodobieństw i policz jej entropię. Narysuj wyniki pomiarów na histogramie (**plot_histogram** z **qiskit.visualisation**). Zrób to dla kilku wartości $n$. Jak uzyskane entropie mają się do $n$. Poniżej przykład obwodu dla $n=4$:"
   ]
  },
  {
   "cell_type": "code",
   "execution_count": 6,
   "metadata": {},
   "outputs": [
    {
     "data": {
      "image/png": "[encoded data removed]",
      "text/plain": [
       "<Figure size 387.597x325.08 with 1 Axes>"
      ]
     },
     "execution_count": 6,
     "metadata": {},
     "output_type": "execute_result"
    }
   ],
   "source": [
    "n = 4\n",
    "qc = QuantumCircuit(n,n)\n",
    "\n",
    "qc.h(range(n))\n",
    "qc.measure(range(n),range(n))\n",
    "\n",
    "qc.draw(output='mpl')"
   ]
  },
  {
   "attachments": {},
   "cell_type": "markdown",
   "metadata": {},
   "source": [
    "Utwórz obwód kwantowy złożony z 4 kubitów i bramką $R_y$ na każdym z nich z parametrem $\\theta$. (np. **qc.ry(theta,0)** dla obwodu **qc** i pierwszego kubitu). Narysuj wykres zależności entropii wyników pomiaru na takim obwodzie w zależności od kąta $\\theta$. Dla jakich wartości $\\theta$ mamy minimum i maksimum, jakim bramkom kwantowym odpowiada ten kąt."
   ]
  },
  {
   "cell_type": "markdown",
   "metadata": {},
   "source": [
    "## Zadanie 2 (2 pkt.)"
   ]
  },
  {
   "attachments": {},
   "cell_type": "markdown",
   "metadata": {},
   "source": [
    "Zaimplementujemy protokół kwantowej dystrybucji klucza. Mamy Alicję i Boba, chcemy aby oboje ustalili wspólny klucz, który będzie znany tylko im i nikomu innemu. Używając kwantowego protokołu możemy zrobić to w sposób bezpieczny. Zaimplemnentujemy tu algorytm BB84. Najpierw zauważmy, ze w przestrzeni kubitu możemy wprowadzić rózne bazy. Jedną z nich może być baza wektórów własnych operatora $Z$, czyli standardowa baza, w której przebiegają obliczenia składa się ona z wektorów $\\{|0\\rangle,|1\\rangle\\}$. Inną bazą jest baza wektórów własnych operatora $X$, która składa się z wektorów $\\{|+\\rangle=\\frac{1}{\\sqrt{2}}\\left(|0\\rangle+|1\\rangle\\right),|-\\rangle=\\frac{1}{\\sqrt{2}}\\left(|0\\rangle-|1\\rangle\\}\\right)$. Jeżeli naszymi kubitami są fotony to możemy przyjąć, że stan $|0\\rangle$ to foton o polaryzacji poziomej (drgajacy poziomo), stan $|1\\rangle$ to foton o polaryzacji pionowej, stan $|+\\rangle$ to foton o polaryzacji skośnej w jedną stronę a stan $|-\\rangle$ to foton o polaryzacji skośnej w drugą stronę.\n",
    "\n",
    "<img src=\"rysunek.png\" width=\"500\" align=\"center\"/>\n",
    "\n",
    "Alicja moze genrować fotony w dowolnym, ze stanów: $\\{|0\\rangle,|1\\rangle\\,|+\\rangle,|-\\rangle\\}$, np. przepuszczajac fotony przez polaryzator obrócony o odpowiedni kąt. Alicja będzie genować stany losowo. W tym zadaniu dla sprawdzenia poprawności wyników ustawmy ziarno generatora pseudolosowego, aby w każdym uruchomieniu wyniki były takie same."
   ]
  },
  {
   "cell_type": "code",
   "execution_count": 39,
   "metadata": {},
   "outputs": [],
   "source": [
    "np.random.seed(2)"
   ]
  },
  {
   "cell_type": "markdown",
   "metadata": {},
   "source": [
    "Najpierw generuje losowy ciąg bitów o długości powiedzmy 100:"
   ]
  },
  {
   "cell_type": "code",
   "execution_count": 40,
   "metadata": {},
   "outputs": [],
   "source": [
    "Alice_bits=np.random.randint(0,2,100)"
   ]
  },
  {
   "cell_type": "code",
   "execution_count": 41,
   "metadata": {},
   "outputs": [
    {
     "data": {
      "text/plain": [
       "array([0, 1, 1, 0, 0, 1, 0, 1, 0, 1, 0, 1, 1, 1, 1, 1, 1, 1, 0, 0, 0, 0,\n",
       "       1, 1, 1, 0, 0, 0, 1, 1, 1, 0, 0, 1, 0, 0, 1, 1, 1, 0, 0, 0, 0, 1,\n",
       "       1, 1, 1, 0, 0, 0, 0, 0, 0, 0, 0, 1, 1, 1, 1, 1, 0, 0, 0, 1, 0, 1,\n",
       "       1, 1, 0, 1, 1, 0, 0, 0, 1, 1, 1, 1, 0, 0, 0, 0, 1, 0, 1, 0, 0, 0,\n",
       "       0, 0, 0, 0, 0, 0, 0, 1, 0, 1, 0, 0])"
      ]
     },
     "execution_count": 41,
     "metadata": {},
     "output_type": "execute_result"
    }
   ],
   "source": [
    "Alice_bits"
   ]
  },
  {
   "cell_type": "markdown",
   "metadata": {},
   "source": [
    "Następnie musi wygenerować losowy ciąg baz, zatem generuje znowu losowy ciąg bitów, i przyjmuje, że $0$ odpowiada bazie $Z$ a $1$ bazie $X$. Oba losowe ciągi Alicja, póki co, zachowuje wyłacznie dla siebie."
   ]
  },
  {
   "cell_type": "code",
   "execution_count": 42,
   "metadata": {},
   "outputs": [],
   "source": [
    "#wylosuj bazy\n",
    "#Alice_bases="
   ]
  },
  {
   "cell_type": "code",
   "execution_count": 43,
   "metadata": {},
   "outputs": [
    {
     "data": {
      "text/plain": [
       "array([0, 1, 0, 0, 1, 0, 0, 1, 1, 0, 1, 1, 1, 1, 0, 0, 0, 1, 0, 1, 0, 1,\n",
       "       0, 0, 0, 1, 1, 0, 0, 1, 1, 1, 1, 1, 1, 0, 0, 0, 0, 1, 1, 1, 1, 0,\n",
       "       1, 0, 1, 1, 1, 1, 0, 1, 0, 1, 1, 0, 0, 1, 1, 0, 0, 0, 0, 1, 0, 0,\n",
       "       1, 1, 0, 0, 1, 1, 1, 1, 0, 1, 1, 1, 0, 0, 1, 1, 0, 0, 0, 1, 1, 1,\n",
       "       0, 0, 0, 1, 0, 1, 0, 1, 1, 0, 0, 1])"
      ]
     },
     "execution_count": 43,
     "metadata": {},
     "output_type": "execute_result"
    }
   ],
   "source": [
    "Alice_bases"
   ]
  },
  {
   "attachments": {},
   "cell_type": "markdown",
   "metadata": {},
   "source": [
    "Ciag bitów wygląda tak: [0,1,1,...] a ciąg baz tak [0,1,0,..] oznacza to, ze pierwszy foton (nasz kubit) Alicja koduje w bazie $0$ czyli w bazie $Z$ i przypisuje mu bit $0$ czyli stan $|0\\rangle$, drugi foton koduje w bazie $1$ czyli $X$ przypisuje mu bit $1$ czyli stan $|-\\rangle$, trzeci foton w bazie $0$ czyli $Z$ przypsiuje mu bit $1$ czyli stan $|1\\rangle$, itd. Musimy zatem stworzyć obwody kwantowe generujące odpowiednie stany. W rzeczywistości byłyby to fotony  a ich stany byłyby  ustawiane za pomocą polaryzatora, my robimy to na komputerze kwantowym (a właściwie na symulatorze), zamisat fotonów mamy kubity i zmieniamy ich stan aplikując odpowiednie bramki. Napisz funkcję, która jako argumenty przyjmuje listy **bits** i **bases**, a zwraca listę obwodów kwantowych generujących odpowiednie stany, nie dodawaj pomiaru na końcu obwodu, dodaj na końcu barrierę dla lepszej wizualizacji poszczególnych etapów, oraz dodaj jeden bit klasyczny, który bedzie potrzebny do późniejszych pomiarów."
   ]
  },
  {
   "cell_type": "code",
   "execution_count": 44,
   "metadata": {},
   "outputs": [],
   "source": [
    "def prepare_states(bits,bases):\n",
    "    pass"
   ]
  },
  {
   "cell_type": "markdown",
   "metadata": {},
   "source": [
    "Alicja generuje stany:"
   ]
  },
  {
   "cell_type": "code",
   "execution_count": 46,
   "metadata": {},
   "outputs": [],
   "source": [
    "states=prepare_states(Alice_bits,Alice_bases)"
   ]
  },
  {
   "cell_type": "markdown",
   "metadata": {},
   "source": [
    "Tak powinno wyglądać trzy pierwsze stany z listy:"
   ]
  },
  {
   "cell_type": "code",
   "execution_count": 47,
   "metadata": {},
   "outputs": [
    {
     "data": {
      "image/png": "[encoded data removed]",
      "text/plain": [
       "<Figure size 133.526x144.48 with 1 Axes>"
      ]
     },
     "execution_count": 47,
     "metadata": {},
     "output_type": "execute_result"
    }
   ],
   "source": [
    "states[0].draw(output='mpl')"
   ]
  },
  {
   "cell_type": "code",
   "execution_count": 48,
   "metadata": {},
   "outputs": [
    {
     "data": {
      "image/png": "[encoded data removed]",
      "text/plain": [
       "<Figure size 253.926x144.48 with 1 Axes>"
      ]
     },
     "execution_count": 48,
     "metadata": {},
     "output_type": "execute_result"
    }
   ],
   "source": [
    "states[1].draw(output='mpl')"
   ]
  },
  {
   "cell_type": "code",
   "execution_count": 49,
   "metadata": {},
   "outputs": [
    {
     "data": {
      "image/png": "[encoded data removed]",
      "text/plain": [
       "<Figure size 193.726x144.48 with 1 Axes>"
      ]
     },
     "execution_count": 49,
     "metadata": {},
     "output_type": "execute_result"
    }
   ],
   "source": [
    "states[2].draw(output='mpl')"
   ]
  },
  {
   "cell_type": "markdown",
   "metadata": {},
   "source": [
    "Następnie Alicja powinna wysłać tak przygotowane fotony Bobowi, w naszym przypadku mamy do dyspozycji kubity na stałe osadzone w komputerze kwantowym zatem zakladamy, że teraz przejął je Bob i wykonuje na nich operacje. Bob na otrzymanych od Alicji kubitach dokonuje pomiaru, jednak nie wie w jakiej bazie dokonać pomiaru bo Alicja używała losowo wybranych baz. Zatem Bob losuje bazy w których będzie dokonywał pomiaru (oczywiście dostanie inny ciąg baz niż Alicja ale jak się przekonamy to nic nie szkodzi)."
   ]
  },
  {
   "cell_type": "code",
   "execution_count": 50,
   "metadata": {},
   "outputs": [],
   "source": [
    "#wylosuj bazy Boba\n",
    "#Bob_bases="
   ]
  },
  {
   "attachments": {},
   "cell_type": "markdown",
   "metadata": {},
   "source": [
    "Aby dokonać pomiaru w bazie $Z$ nie musimy nic robić, po prostu dokonujemy pomiaru na kubicie, wynik $0$ odpowiada stanowi $|0\\rangle$ a wynik $1$ stanowi $|1\\rangle$. Aby dokonać pomairu w stanie $X$ musimy najpierw obrócić odpowiednio stan za pomocą bramki Hadamarda i dopiero potem dokonać pomiaru, wtedy wynik $0$ będzie odpowiadał stanowi $|+\\rangle$ a wynik $1$ stanowi $|-\\rangle$. Napisz funkcję, która jako argumenty przyjmuje stany **states** otrzymane przez Boba od Alicji i wylosowane przez Boba bazy **Bob_bases** a zwraca bity bądące wynikami pomiarów Boba. Użyj symulatora z pojedyńczym wykonaniem obwodu:\n",
    "\n",
    "**execute(qc, backend, shots=1).result().get_counts()**"
   ]
  },
  {
   "cell_type": "code",
   "execution_count": 51,
   "metadata": {},
   "outputs": [],
   "source": [
    "def measure_states(states,bases):\n",
    "    pass"
   ]
  },
  {
   "cell_type": "code",
   "execution_count": 53,
   "metadata": {},
   "outputs": [],
   "source": [
    "Bob_bits=measure_states(states,Bob_bases)"
   ]
  },
  {
   "attachments": {},
   "cell_type": "markdown",
   "metadata": {},
   "source": [
    "Tutaj wyniki bedą losowe, więc ich nie porównujemy. Zastanówmy się co się stało wyniku tych pomiarów. Zarówno Alicja jak i Bob używali losowo wybranych baz, zatem w niektórych przypadkach baza Alicji i Boba będzie taka sama a w niektórych nie. W przypadku gdy bazy są takie same Bob z pomiaru odczyta z prawdopodobieństwe równym 1 bit taki jaki zakodowała Alicja, tzn. jeżeli np. Alicja użyła bazy $X$ i zakodowała bit $0$ czyli wysłała stan $|+\\rangle$ to Bob, używając bazy $X$ do pomiaru, z pradopodobieństwem równym jeden otrzyma wynik $0$ odpowiadający stanowi $|+\\rangle$, jeżeli natomiast Bob użyje błędnej bazy to z prawdopodobieństwem $\\frac{1}{2}$ odczyta poprawny bit a z prawdopobieństwem $\\frac{1}{2}$ błędny. Jeżeli np. Alicja użyła bazy $X$ i zakodowała bit $0$ czyli wysłała stan $|+\\rangle$ to Bob, używając bazy $Z$ do pomiaru, z prawdopodobieństwem równym $\\frac{1}{2}$ otrzyma wynik $0$ odpowiadający stanowi $|+\\rangle$ i z prawdopodobieństwem równym $\\frac{1}{2}$ otrzyma wynik $1$ odpowiadający stanowi $|-\\rangle$.\n",
    "\n",
    "Następnie Alicja ujawnia bazy w których kodowały stany, czyli ujawnia ciąg **Alice_bases**:"
   ]
  },
  {
   "cell_type": "code",
   "execution_count": 54,
   "metadata": {},
   "outputs": [
    {
     "data": {
      "text/plain": [
       "array([0, 1, 0, 0, 1, 0, 0, 1, 1, 0, 1, 1, 1, 1, 0, 0, 0, 1, 0, 1, 0, 1,\n",
       "       0, 0, 0, 1, 1, 0, 0, 1, 1, 1, 1, 1, 1, 0, 0, 0, 0, 1, 1, 1, 1, 0,\n",
       "       1, 0, 1, 1, 1, 1, 0, 1, 0, 1, 1, 0, 0, 1, 1, 0, 0, 0, 0, 1, 0, 0,\n",
       "       1, 1, 0, 0, 1, 1, 1, 1, 0, 1, 1, 1, 0, 0, 1, 1, 0, 0, 0, 1, 1, 1,\n",
       "       0, 0, 0, 1, 0, 1, 0, 1, 1, 0, 0, 1])"
      ]
     },
     "execution_count": 54,
     "metadata": {},
     "output_type": "execute_result"
    }
   ],
   "source": [
    "Alice_bases"
   ]
  },
  {
   "attachments": {},
   "cell_type": "markdown",
   "metadata": {},
   "source": [
    "Alicja i Bob mogą teraz porównać swój wybór baz **Bob_bases** i **Alice_bases** i odrzucić ze swoich wyników te bity na których ich bazy nie są ze sobą zgodne. Napsiz funkcję, która jako argumenty przyjmuje bazy Boba i Alicji oraz bity kodowane przez Alicję **Alce_bits** oraz zmierzone przez Boba **Bob_bits** i zwraca dwa ciągi bitów, jeden Alicji a drugi Boba, które odpowiadają przypadkom kiedy bazy Alicji i Boba się zgadzały."
   ]
  },
  {
   "cell_type": "code",
   "execution_count": 55,
   "metadata": {},
   "outputs": [],
   "source": [
    "def common_bits(Alice_bases,Bob_bases,Alice_bits,Bob_bits):\n",
    "    pass"
   ]
  },
  {
   "cell_type": "code",
   "execution_count": 57,
   "metadata": {},
   "outputs": [],
   "source": [
    "Alice_key, Bob_key=common_bits(Alice_bases,Bob_bases,Alice_bits,Bob_bits)"
   ]
  },
  {
   "cell_type": "markdown",
   "metadata": {},
   "source": [
    "W ten sposób Alicja i Bob otrzymali pewien klucz, który powinien być wspólny dla nich obu, o ile nie było podsłuchu po drodze (o tym co wtedy za chwilę). Aby Alicja i Bob sprawdzili czy nie było podsłuchu muszą ujawnić jakiś fragment swoich kluczy i go porównać, powiedzmy 15 pierwszych bitów."
   ]
  },
  {
   "cell_type": "code",
   "execution_count": 58,
   "metadata": {},
   "outputs": [
    {
     "data": {
      "text/plain": [
       "True"
      ]
     },
     "execution_count": 58,
     "metadata": {},
     "output_type": "execute_result"
    }
   ],
   "source": [
    "Alice_key[:15]==Bob_key[:15]"
   ]
  },
  {
   "cell_type": "markdown",
   "metadata": {},
   "source": [
    "W ten sposób mają (z pewnym prawdopodobieństwem) przekonanie, że ich klucze są jednakowe i nikt inny ich nie zna. Możemy jeszcze sprawdzić, że rzeczywiście ich klucze są w całości jednakowe:"
   ]
  },
  {
   "cell_type": "code",
   "execution_count": 59,
   "metadata": {},
   "outputs": [
    {
     "data": {
      "text/plain": [
       "True"
      ]
     },
     "execution_count": 59,
     "metadata": {},
     "output_type": "execute_result"
    }
   ],
   "source": [
    "Alice_key==Bob_key"
   ]
  },
  {
   "cell_type": "markdown",
   "metadata": {},
   "source": [
    "Oczywiście w rzeczywistości Alcija i Bob tego nie robią bo musieliby ujawnić całe swoje klucze. Spójrzmy jeszcze na długość uzyskanych kluczy, powinna wynosić ok. 50. Wynika to z tego, że mieliśmy 100 fotonów a Bob miał 0.5 szansy na wylosowanie dobrej bazy."
   ]
  },
  {
   "cell_type": "code",
   "execution_count": 60,
   "metadata": {},
   "outputs": [
    {
     "data": {
      "text/plain": [
       "46"
      ]
     },
     "execution_count": 60,
     "metadata": {},
     "output_type": "execute_result"
    }
   ],
   "source": [
    "len(Alice_key)"
   ]
  },
  {
   "cell_type": "code",
   "execution_count": 61,
   "metadata": {},
   "outputs": [
    {
     "data": {
      "text/plain": [
       "46"
      ]
     },
     "execution_count": 61,
     "metadata": {},
     "output_type": "execute_result"
    }
   ],
   "source": [
    "len(Bob_key)"
   ]
  },
  {
   "cell_type": "markdown",
   "metadata": {},
   "source": [
    "W ten sposób Alicja i Bob mają wspólny ciąg bitów. Zastanówmy się teraz co z bezpieczeństwem takiego protokołu. Załóżmy, że w naszym układzie pojawia się trzecia osoba, Ewa, która chce poznać klucz uzgadniany przez Alicję i Boba. Ewa przechwytuje fotony (kubity) przesyłane przez Alicję do Boba i dokonuje na nich pomiaru, oczywiscie Ewa nie zna ciągu baz w których Alicja zakodowała bity, bo Alicja trzyma je w sekrecia tak długo aż fotony nie dotrą do Boba. Zatem Ewa musi dokonywać pomiaru w losowych bazach. Ewa otrzyma częśc wyników poprawnych a częśc nie ale jednocześnie zniszczy stany kwantowe fotonów. Jak pamiętamy z poprzedniej listy, w wyniku pomiaru stan kwantowy kolapsuje, zatem Ewa dokonując losowych pomiarów sprawi, że skolapsują one w losowy sposób. Ewa po dokonaniu pomiarów odsyła fotony dalej do Boba. Ten dokonuje znowu losowych pomiarów jak przedtem, ale tym razem część stanów na których dokonuje pomiaru będzie zmieniona przez pomiar dokonany przez Ewę, zatem nawet tam gdzie Bob użyje do pomiaru tej samej bazy co Alicja, będzie mógł dostać błędny wynik, z tego powodu, że stan wcześniej zmodyfikowała Ewa. Zatem aby się przekonać czy Ewa podsłuchiwała Alicja i Bob muszą ujawnić część swoich uzgodnionych bitów (powiedzmy 15) i sprawdzić czy się one zgadzają ze sobą."
   ]
  },
  {
   "cell_type": "code",
   "execution_count": 62,
   "metadata": {},
   "outputs": [
    {
     "data": {
      "text/plain": [
       "True"
      ]
     },
     "execution_count": 62,
     "metadata": {},
     "output_type": "execute_result"
    }
   ],
   "source": [
    "Alice_key[:15]==Bob_key[:15]"
   ]
  },
  {
   "cell_type": "markdown",
   "metadata": {},
   "source": [
    "Bity się zgadzają zatem jest wysokie prawdopodobieństwo, że Ewa nie podsłuchiwała i pozostałe bity mogą posłużyć jako wspólny tajny klucz. Zobaczmy teraz co sie dzieje gdy Ewa podsłuchuje. Zacznijmy protokół od nowa, Alicja generuje stany:"
   ]
  },
  {
   "cell_type": "code",
   "execution_count": 63,
   "metadata": {},
   "outputs": [],
   "source": [
    "#Alice_bits="
   ]
  },
  {
   "cell_type": "code",
   "execution_count": 64,
   "metadata": {},
   "outputs": [],
   "source": [
    "#Alice_bases="
   ]
  },
  {
   "cell_type": "code",
   "execution_count": 65,
   "metadata": {},
   "outputs": [],
   "source": [
    "#states="
   ]
  },
  {
   "cell_type": "markdown",
   "metadata": {},
   "source": [
    "Następnie przechwytuje je Ewa i póbuje odczytać informacje:"
   ]
  },
  {
   "cell_type": "code",
   "execution_count": 66,
   "metadata": {},
   "outputs": [],
   "source": [
    "Eve_bases=np.random.randint(0,2,100)"
   ]
  },
  {
   "cell_type": "code",
   "execution_count": 67,
   "metadata": {},
   "outputs": [],
   "source": [
    "Eve_bits=measure_states(states,Eve_bases)"
   ]
  },
  {
   "cell_type": "markdown",
   "metadata": {},
   "source": [
    "Potem odsyła je do Boba, pamiętajmy jednak, że w wyniku pomiaru Ewy część z nich została zmieniona. Teraz Bob dokonuje pomiaru."
   ]
  },
  {
   "cell_type": "code",
   "execution_count": 68,
   "metadata": {},
   "outputs": [],
   "source": [
    "#Bob_bases="
   ]
  },
  {
   "cell_type": "code",
   "execution_count": 69,
   "metadata": {},
   "outputs": [],
   "source": [
    "#Bob_bits="
   ]
  },
  {
   "cell_type": "markdown",
   "metadata": {},
   "source": [
    "teraz Alicja i Bob porównują swoje bazy:"
   ]
  },
  {
   "cell_type": "code",
   "execution_count": 70,
   "metadata": {},
   "outputs": [],
   "source": [
    "#Alice_key, Bob_key="
   ]
  },
  {
   "cell_type": "markdown",
   "metadata": {},
   "source": [
    "następnie ujawniają część ze swoich bitów, jeżeli któreś się nie zgadzają to znaczy, ze Ewa podsłuchiwała."
   ]
  },
  {
   "cell_type": "code",
   "execution_count": 71,
   "metadata": {},
   "outputs": [
    {
     "data": {
      "text/plain": [
       "False"
      ]
     },
     "execution_count": 71,
     "metadata": {},
     "output_type": "execute_result"
    }
   ],
   "source": [
    "Alice_key[:15]==Bob_key[:15]"
   ]
  },
  {
   "cell_type": "markdown",
   "metadata": {},
   "source": [
    "w takiej sytuacji Alicja i Bob odrzucają wszystkie bity jako, że były podsłuchiwane."
   ]
  },
  {
   "cell_type": "markdown",
   "metadata": {},
   "source": [
    "## Zadanie 3 (3 pkt.)"
   ]
  },
  {
   "cell_type": "markdown",
   "metadata": {},
   "source": [
    "W tym zadaniu zaimplementujemy algorytm Grovera. Jako przykład skonstruujemy obwód, który znajduje z pośród wszystkich możliwych ciągów 3 bitowych ciąg postaci $111$.\n",
    "\n",
    "Uwaga!\n",
    "\n",
    "Jest to przykład bardzo prosty, i na jego podstawie algorytm Grovera może wydawać się bezsensowny, bo skoro wiemy, że szukamy $111$ to po co go szukać. Jednak w rzeczywistości wystarczy narzucić warunek, który ma spełniać szukany przez nas ciąg bez jawnej znajomości tego ciągu, np. szukamy ciągu dla którego funkcja hashująca ma określoną wartość. Niestety implementacja takiej wersji byłaby nieco trudniejsza, więc aby nie zaciemniać idei algorytmu rozważamy tu trywialny przypadek kiedy wiemy wprost czego szukamy.\n",
    "\n",
    "Uzupełnij kod generujący kolejne kroki algorytmu. Po każdym kroku dodaj barierę aby lepiej widzieć kolejne etapy.\n",
    "\n",
    "Najpierw musimy zainicjować rejestr kwantowy w superpozycji wszystkich możliwych stanów poprzez zaaplikowanie bramki Hadamarda na każdym kubicie. Nazwijmy sobie generowany w ten sposób stan $|s\\rangle$:\n",
    "\n",
    "$|s\\rangle=H\\otimes H\\otimes H|000\\rangle=\\frac{1}{2\\sqrt{2}}\\left(|000\\rangle+|001\\rangle+|010\\rangle+|011\\rangle+|100\\rangle+|101\\rangle+|110\\rangle+|111\\rangle\\right)$"
   ]
  },
  {
   "cell_type": "code",
   "execution_count": 2,
   "metadata": {},
   "outputs": [
    {
     "data": {
      "image/png": "[encoded data removed]",
      "text/plain": [
       "<Figure size 206.997x264.88 with 1 Axes>"
      ]
     },
     "execution_count": 2,
     "metadata": {},
     "output_type": "execute_result"
    }
   ],
   "source": []
  },
  {
   "attachments": {},
   "cell_type": "markdown",
   "metadata": {},
   "source": [
    "Następne musimy zaimplementować **wyrocznię**, tzn. taki obwód, który przy stanach, które chcemy znaleźć (czyli takich, które spełniją zadany przez nas warunek, np. funkcja hashująca ma dla nich określoną wartość, albo jak w naszym przykładzie mają określony układ bitów) postawi znak minus. Najprościej można to zrobić za pomocą bramki $CCZ$ (control-control-Z, podwójnie kontrolowany Z), działa ona następująco:\n",
    "\n",
    "$CCZ|000\\rangle=|000\\rangle$\n",
    "\n",
    "$CCZ|001\\rangle=|001\\rangle$\n",
    "\n",
    "$CCZ|010\\rangle=|010\\rangle$\n",
    "\n",
    "$CCZ|011\\rangle=|011\\rangle$\n",
    "\n",
    "$CCZ|100\\rangle=|100\\rangle$\n",
    "\n",
    "$CCZ|101\\rangle=|101\\rangle$\n",
    "\n",
    "$CCZ|110\\rangle=|110\\rangle$\n",
    "\n",
    "$CCZ|111\\rangle=-|111\\rangle$\n",
    "\n",
    "Po zaimplementowaniu wyroczni uzyskamy stan:\n",
    "\n",
    "$U_{oracle}|s\\rangle=\\frac{1}{2\\sqrt{2}}\\left(|000\\rangle+|001\\rangle+|010\\rangle+|011\\rangle+|100\\rangle+|101\\rangle+|110\\rangle-|111\\rangle\\right)$\n",
    "\n",
    "czyli ze zmienionym znakiem przy stanie $|111\\rangle$.\n",
    "\n",
    "W Qiskit-ie, nie ma bramki $CCZ$ ale jest bramka $CCX$ (tzw. bramka Toffoliego), a jako, że $Z=HXH$ to $CCZ$ można uzyskać dodając przed i po $CCX$ na ostatnim kubicie bramkę Hadamarda."
   ]
  },
  {
   "cell_type": "code",
   "execution_count": 4,
   "metadata": {},
   "outputs": [
    {
     "data": {
      "image/png": "[encoded data removed]",
      "text/plain": [
       "<Figure size 387.597x264.88 with 1 Axes>"
      ]
     },
     "execution_count": 4,
     "metadata": {},
     "output_type": "execute_result"
    }
   ],
   "source": []
  },
  {
   "attachments": {},
   "cell_type": "markdown",
   "metadata": {},
   "source": [
    "Następnie musimy zaimplementować obwód \"odbijający\" stan $U_{oracle}|s\\rangle$ wokół stanu $|s\\rangle$, nazwijmy go $U_{diffuser}$. Odbicie względem stanu $|s\\rangle$ możemy zapisać jako:\n",
    "\n",
    "$$U_{diffuser}=2|s\\rangle\\langle s|-\\mathbb{I}$$\n",
    "\n",
    "gdzie $\\langle s|$ to stan sprzężony (dualny) do $|s\\rangle$, w zapisie wektorowym byłby to wektor sprzeżony, $\\langle s|s'\\rangle$ to iloczyn sklarny stanów $s$ i $s'$. $\\mathbb{I}$ to identyczność (macierz jednostkowa, operator, który nic nie robi ze stanem kwantowym).\n",
    "\n",
    "\n",
    "=======Wyprowadzenie jak uzyskać ten operator, wynik na końcu================\n",
    "\n",
    "Dlaczego taki operator jest odbiciem względem $|s\\rangle$? Zobaczmy jak działa na stan $|s\\rangle$:\n",
    "\n",
    "$$(2|s\\rangle\\langle s|-\\mathbb{I})|s\\rangle=2|s\\rangle\\langle s|s\\rangle-\\mathbb{I}|s\\rangle=2|s\\rangle*1-|s\\rangle=|s\\rangle$$\n",
    "\n",
    "czyli go nie zmienia. A teraz zobaczmy jak działa na dowolny stan otogonalny do $|s\\rangle$, powiedzmy $|s'\\rangle$:\n",
    "\n",
    "$$(2|s\\rangle\\langle s|-\\mathbb{I})|s'\\rangle=2|s\\rangle\\langle s|s'\\rangle-\\mathbb{I}|s'\\rangle=2|s\\rangle*0-|s'\\rangle=-|s'\\rangle$$\n",
    "\n",
    "czyli zmienia jego znak na przeciwny. Zatem operator $U_{oracle}$ nie zmienia składowych wektora wzdłuż $|s\\rangle$ i zmienia na przeciwne wszystkie pozostałe składowe, zatem dokonuje odbicia.\n",
    "\n",
    "Operator $U_{diffuser}$ możemy zapisać jako (uwaga: tutaj H oznacza operatory Hadamarda działające na wszytskie kubity, niekoniecznie jeden, precyzyjniej należałoby napisać $H^{\\otimes n}$, podobnie $|0\\rangle$ oznacza stan $0$ na wszystkich kubitach niekoniecznie jednym, precyzyjniej $|0\\rangle^{\\otimes n}$):\n",
    "\n",
    "$$U_{diffuser}=2|s\\rangle\\langle s|-\\mathbb{I}=2H|0\\rangle\\langle 0|H^\\dagger-HH^\\dagger=H(2|0\\rangle\\langle 0|-\\mathbb{I})H^\\dagger=H(2|0\\rangle\\langle 0|-\\mathbb{I})H$$\n",
    "\n",
    "bo $H|0\\rangle = |s\\rangle$ oraz $HH^\\dagger=\\mathbb{I}$ oraz $H^\\dagger=H$. Operator $2|0\\rangle\\langle 0|-\\mathbb{I}$ jest podobny do operatora $U_{diffuser}$ ale zamiast $s$ ma  $0$ zatem jest to odbicie względem stanu $|0\\rangle$. Aby to odbicie zaimplmentować potrzebujemy operator, który zmienia znak przy wszystkich stanach poza $|0\\rangle$, ale jako, że globalna faza (a zatem i globalny znak) stanu nie mają znczenia, to równoważnie możemy zmienić znak tylko przy stanie zerowym i efekt będzie taki sam, matematycznie oznacza to, że:\n",
    "\n",
    "$$U_{diffuser}=H(2|0\\rangle\\langle 0|-\\mathbb{I})H=-H(\\mathbb{I}-2|0\\rangle\\langle 0|)H$$\n",
    "\n",
    "i znak minus przed całością można zignorować.\n",
    "\n",
    "Po tych ogólniejszych rozważaniach wróćmy do naszego przykładu z 3 kubitami. Potrzebujemy zatem operator, który zmienia tylko znak przy stanie $|000\\rangle$. Użyjemy do tego bramki $CCZ$, którą już znamy.\n",
    "\n",
    "Bramka ta zmienia znak przy stanie $|111\\rangle$ zatem musimy najpierw stan $|000\\rangle$ przerobić na $|111\\rangle$ za pomocą 3 bramek $X$, potem zaaplikować $CCZ$ a potem powrócić za pomocą 3 bramek $X$ do pierwotnej konfiguracji.\n",
    "\n",
    "================================================================\n",
    "\n",
    "Podsumowując ten długi wywód, w naszym trzykubitowym przypadku operator $U_{diffuser}$ ma postać:\n",
    "\n",
    "$$U_{diffuser}=(H\\otimes H\\otimes H)(X\\otimes X\\otimes X)CCZ(X\\otimes X\\otimes X)(H\\otimes H\\otimes H)$$\n",
    "\n",
    "Ostatecznie operator $U_{diffuser}$ powinien wyglądać następująco (razem z poprzednimi krokami):"
   ]
  },
  {
   "cell_type": "code",
   "execution_count": 5,
   "metadata": {},
   "outputs": [
    {
     "data": {
      "image/png": "[encoded data removed]",
      "text/plain": [
       "<Figure size 929.397x264.88 with 1 Axes>"
      ]
     },
     "execution_count": 5,
     "metadata": {},
     "output_type": "execute_result"
    }
   ],
   "source": []
  },
  {
   "cell_type": "markdown",
   "metadata": {},
   "source": [
    "Wykonajmy pomiar na tym układzie i narysujmy histogram, jakie jest prawdopodobieństwo uzyskania poprawnego wyniku?"
   ]
  },
  {
   "cell_type": "code",
   "execution_count": 12,
   "metadata": {},
   "outputs": [
    {
     "data": {
      "image/png": "[encoded data removed]",
      "text/plain": [
       "<Figure size 1110x264.88 with 1 Axes>"
      ]
     },
     "execution_count": 12,
     "metadata": {},
     "output_type": "execute_result"
    }
   ],
   "source": []
  },
  {
   "cell_type": "markdown",
   "metadata": {},
   "source": [
    "Widzimy, że szukany przez nas stan jest wypikowany. Sprawdźmy co będzie jeżeli blok wyroczni oraz odbicia powtórzymy dwa razy."
   ]
  },
  {
   "cell_type": "code",
   "execution_count": 14,
   "metadata": {},
   "outputs": [
    {
     "data": {
      "image/png": "[encoded data removed]",
      "text/plain": [
       "<Figure size 1591.6x565.88 with 1 Axes>"
      ]
     },
     "execution_count": 14,
     "metadata": {},
     "output_type": "execute_result"
    }
   ],
   "source": []
  },
  {
   "cell_type": "markdown",
   "metadata": {},
   "source": [
    "A teraz powtórzmy 3 razy."
   ]
  },
  {
   "cell_type": "code",
   "execution_count": 16,
   "metadata": {},
   "outputs": [
    {
     "data": {
      "image/png": "[encoded data removed]",
      "text/plain": [
       "<Figure size 1591.6x565.88 with 1 Axes>"
      ]
     },
     "execution_count": 16,
     "metadata": {},
     "output_type": "execute_result"
    }
   ],
   "source": []
  },
  {
   "cell_type": "markdown",
   "metadata": {},
   "source": [
    "Jak zmienia się prawdopodobieństwo uzyskania poprawnego wyniku przy coraz większej liczbie bloków w algorytmie?"
   ]
  }
 ],
 "metadata": {
  "kernelspec": {
   "display_name": "Python 3 (ipykernel)",
   "language": "python",
   "name": "python3"
  },
  "language_info": {
   "codemirror_mode": {
    "name": "ipython",
    "version": 3
   },
   "file_extension": ".py",
   "mimetype": "text/x-python",
   "name": "python",
   "nbconvert_exporter": "python",
   "pygments_lexer": "ipython3",
   "version": "3.13.1"
  },
  "vscode": {
   "interpreter": {
    "hash": "96ad6c7fd9d06889208fc918e485ee5403ac6f6c27ad3f857e9a26d0c3a3092d"
   }
  }
 },
 "nbformat": 4,
 "nbformat_minor": 4
}
