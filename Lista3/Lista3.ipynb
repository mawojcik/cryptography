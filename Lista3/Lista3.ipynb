{
 "cells": [
  {
   "cell_type": "markdown",
   "metadata": {},
   "source": [
    "# Lista 3 (10 pkt.)"
   ]
  },
  {
   "cell_type": "code",
   "execution_count": 2,
   "metadata": {},
   "outputs": [],
   "source": [
    "import numpy as np\n",
    "from PIL import Image"
   ]
  },
  {
   "cell_type": "markdown",
   "metadata": {},
   "source": [
    "Na tej liście zaimplementujemy algorytm DES (Data Encryption Standard)"
   ]
  },
  {
   "cell_type": "markdown",
   "metadata": {},
   "source": [
    "# Zadanie 1 (1 pkt)"
   ]
  },
  {
   "cell_type": "markdown",
   "metadata": {},
   "source": [
    "Napisz funkcję **bin2dec** przyjmującą napis (string) będący liczbą zapisaną w postaci binarnej a zwracającą liczbę zapisaną w postaci dziesiętnej oraz funkcję **dec2bin()** przyjmującą liczbę typu int a zwracającą napis będący liczbą zapisaną w postaci binarnej, funkcja ta ma przyjmować również drugi argument 'pad', który będzie określał do jakiej długości binarna postać będzie uzupełniana zerami z przodu."
   ]
  },
  {
   "cell_type": "code",
   "execution_count": 1,
   "metadata": {},
   "outputs": [],
   "source": [
    "def bin2dec(bin_str):\n",
    "    pass"
   ]
  },
  {
   "cell_type": "code",
   "execution_count": 2,
   "metadata": {},
   "outputs": [],
   "source": [
    "print(bin2dec('0')==0)\n",
    "print(bin2dec('10')==2)\n",
    "print(bin2dec('111')==7)\n",
    "print(bin2dec('1001')==9)\n",
    "print(bin2dec('0001')==1)"
   ]
  },
  {
   "cell_type": "code",
   "execution_count": 3,
   "metadata": {},
   "outputs": [],
   "source": [
    "def dec2bin(dec_str,pad):\n",
    "    pass"
   ]
  },
  {
   "cell_type": "code",
   "execution_count": 4,
   "metadata": {},
   "outputs": [],
   "source": [
    "print(dec2bin(0,1)=='0')\n",
    "print(dec2bin(2,2)=='10')\n",
    "print(dec2bin(7,4)=='0111')\n",
    "print(dec2bin(9,4)=='1001')\n",
    "print(dec2bin(1,4)=='0001')"
   ]
  },
  {
   "cell_type": "markdown",
   "metadata": {},
   "source": [
    "Napisz funkcję **shift_left(tab,n)**, która przyjmuje listę **tab** oraz liczbę całkowitą **n** i zwraca listę, która jest pierwotną listą z elementami przesuniętymi w lewo o **n**."
   ]
  },
  {
   "cell_type": "code",
   "execution_count": 5,
   "metadata": {},
   "outputs": [],
   "source": [
    "def shift_left(tab,n):\n",
    "    pass"
   ]
  },
  {
   "cell_type": "code",
   "execution_count": 6,
   "metadata": {},
   "outputs": [],
   "source": [
    "print(shift_left([1,2,3,4],2)==[3,4,1,2])\n",
    "print(shift_left([1,2,3,4],3)==[4,1,2,3])\n",
    "print(shift_left([1,2,3,4,5,6],2)==[3,4,5,6,1,2])"
   ]
  },
  {
   "cell_type": "markdown",
   "metadata": {},
   "source": [
    "# Zadanie 2 (1 pkt)"
   ]
  },
  {
   "cell_type": "markdown",
   "metadata": {},
   "source": [
    "Napisz funkcję **permute()**, która przyjmuje napis **k** i dokonuje permutacji znaków zgodnie z listą **perm**, w tym równeż tzw. permutację rozszerzoną, która duplikuje niektóre elementy oraz taką, która pomija niektóre elementy, patrz przykłady w testach:"
   ]
  },
  {
   "cell_type": "code",
   "execution_count": 7,
   "metadata": {},
   "outputs": [],
   "source": [
    "def permute(k,perm):\n",
    "    pass    "
   ]
  },
  {
   "cell_type": "code",
   "execution_count": 8,
   "metadata": {},
   "outputs": [],
   "source": [
    "print(permute('abcd',[1,0,2,3])=='bacd')\n",
    "print(permute('abcd',[3,2,1,0])=='dcba')\n",
    "print(permute('abcd',[0,1,2,3,0])=='abcda')\n",
    "print(permute('1100',[0,1,3,2,0,3])=='110010')"
   ]
  },
  {
   "cell_type": "markdown",
   "metadata": {},
   "source": [
    "Napisz funkcję **xor()**, która przyjmuje dwa równej długości napisy **bin_str1** i **bin_str2** będące liczbami zapisanymi w postaci binarnej i dokonuje operacji alternatywy wykluczającej (1+0=1,1+1=0,0+0=0) a następnie zwraca napis z wynikową liczbą w postaci binarnej."
   ]
  },
  {
   "cell_type": "code",
   "execution_count": 9,
   "metadata": {},
   "outputs": [],
   "source": [
    "def xor(bin_str1,bin_str2):\n",
    "    pass"
   ]
  },
  {
   "cell_type": "code",
   "execution_count": 10,
   "metadata": {},
   "outputs": [],
   "source": [
    "print(xor('0','0')=='0')\n",
    "print(xor('1','1')=='0')\n",
    "print(xor('01','11')=='10')\n",
    "print(xor('1101','1111')=='0010')\n",
    "print(xor('11111','11111')=='00000')"
   ]
  },
  {
   "cell_type": "markdown",
   "metadata": {},
   "source": [
    "# Zadanie 3 (2 pkt)"
   ]
  },
  {
   "cell_type": "markdown",
   "metadata": {},
   "source": [
    "Napisz funkcję **key_schedule()**, która przyjmuje napis **key** będący kluczem zapisanym w postaci binarnej o długości 64 bitów i zwraca listę zawierającą 16 wygenerowanych podkluczy w postaci ciągu bitów zapisanych w zmiennej typu string. Generację podkluczy przeprowadź korzystając z poniższego schematu.\n",
    "\n",
    "1. Z klucza 64 bitowego uzyskaj klucz 56 bitowy poprzez permutację zadaną przez **PC1**, tzn. użyj funkcji **permute**.\n",
    "2. Podziel klucz na pół, uzyskując dwa, lewy i prawy, każdy po 28 bitów.\n",
    "3. Wygeneruj 16 podkluczy wykonując następujące operacje: przesuń lewy i prawy klucz za pomocą funkcji **shift_left** o wartość wynikającą z listy **shift_table** (tzn. przy genercji i-tego podklucza przesuń o wartośc z i-tej pozycji w liście), połącz lewy i prawy klucz uzyskując klucz 56 bitowy, uzyskaj z niego klucz 48 bitowy za pomocą funkcji **permute** i **PC2**, w ten sposób dostaniesz jeden z 16 podkluczy.\n",
    "\n",
    "<img src=\"DES_key_shedule.png\" width=\"500\" align=\"left\"/>"
   ]
  },
  {
   "cell_type": "code",
   "execution_count": 11,
   "metadata": {},
   "outputs": [],
   "source": [
    "PC1 = [56, 48, 40, 32, 24, 16,  8,  0, 57, 49, 41, 33, 25, 17,  9,  1, 58,\n",
    "       50, 42, 34, 26, 18, 10,  2, 59, 51, 43, 35, 62, 54, 46, 38, 30, 22,\n",
    "       14,  6, 61, 53, 45, 37, 29, 21, 13,  5, 60, 52, 44, 36, 28, 20, 12,\n",
    "        4, 27, 19, 11,  3] \n",
    "\n",
    "shift_table = [1, 1, 2, 2, 2, 2, 2, 2, 1, 2, 2, 2, 2, 2, 2, 1 ] \n",
    "\n",
    "PC2=[13, 16, 10, 23,  0,  4,  2, 27, 14,  5, 20,  9, 22, 18, 11,  3,\n",
    "     25, 7, 15,  6, 26, 19, 12,  1, 40, 51, 30, 36, 46, 54, 29, 39,\n",
    "     50, 44, 32, 47, 43, 48, 38, 55, 33, 52, 45, 41, 49, 35, 28, 31]"
   ]
  },
  {
   "cell_type": "code",
   "execution_count": 12,
   "metadata": {},
   "outputs": [],
   "source": [
    "def key_schedule(key):\n",
    "    pass   "
   ]
  },
  {
   "cell_type": "code",
   "execution_count": 13,
   "metadata": {},
   "outputs": [],
   "source": [
    "print(key_schedule('1010101010111011000010010001100000100111001101101100110011011101')==\n",
    "      ['000110010100110011010000011100101101111010001100',\n",
    "       '010001010110100001011000000110101011110011001110',\n",
    "       '000001101110110110100100101011001111010110110101',\n",
    "       '110110100010110100000011001010110110111011100011',\n",
    "       '011010011010011000101001111111101100100100010011',\n",
    "       '110000011001010010001110100001110100011101011110',\n",
    "       '011100001000101011010010110111011011001111000000',\n",
    "       '001101001111100000100010111100001100011001101101',\n",
    "       '100001001011101101000100011100111101110011001100',\n",
    "       '000000100111011001010111000010001011010110111111',\n",
    "       '011011010101010101100000101011110111110010100101',\n",
    "       '110000101100000111101001011010100100101111110011',\n",
    "       '100110011100001100010011100101111100100100011111',\n",
    "       '001001010001101110001011110001110001011111010000',\n",
    "       '001100110011000011000101110110011010001101101101',\n",
    "       '000110000001110001011101011101011100011001101101'])"
   ]
  },
  {
   "cell_type": "markdown",
   "metadata": {},
   "source": [
    "# Zadanie 4 (2 pkt)"
   ]
  },
  {
   "cell_type": "markdown",
   "metadata": {},
   "source": [
    "W tym zadaniu zaimplementujemy sieć Feistela, która stanowi trzon wielu algorytmów kryptograficzynch, w tym również DESa.\n",
    "\n",
    "Napisz funkcję **Feistel(message, subkeys, F)**, która przyjmuje napis **message** będący wiadomoscią zapisaną w postaci binarnej o długości 64 bitów, listę **subkeys** zawierającą 16 podkluczy w postaci ciągów bitów reprezentowanycj jako zmienna typu string, a także funkcję **F**. W kolejnym zadaniu zaimplementujemy funkcję **F**, która jest używana w szyfrze DES, tutaj implementujemy sieć Feistela, w której może być użyta dowolna funkcja **F** (patrz testy). Funkcja **F** ma zwracać napis będący zaszyfrowaną wiadomością. Skorzystaj z poniższych wskazówek i diagramu.\n",
    "1. Podziel wiadomość na lewą i prawą część, każda po 32 bity.\n",
    "2. Prawą część użyj jako argument funkcji **F**, drugim argumentem funkcji **F** będzie podklucz odpowiedni dla danej rundy.\n",
    "3. Wynik funkcji **F** dodaj do lewej części za pomocą operacji **XOR**.\n",
    "4. Zamień miejscami lewą i prawą część.\n",
    "5. Powtórz punkty 1,2,3,4 16-krotnie, ale w ostatniej rundzie pomiń punkt 4..\n",
    "\n",
    "<img src=\"Feistel.png\" width=\"500\" align=\"left\"/>"
   ]
  },
  {
   "cell_type": "code",
   "execution_count": 14,
   "metadata": {},
   "outputs": [],
   "source": [
    "def Feistel(message, subkeys, F):\n",
    "    pass   "
   ]
  },
  {
   "cell_type": "code",
   "execution_count": 15,
   "metadata": {},
   "outputs": [],
   "source": [
    "message = '0001001000110100010101101010101111001101000100110010010100110110'\n",
    "\n",
    "subkeys = ['000110010100110011010000011100101101111010001100',\n",
    "       '010001010110100001011000000110101011110011001110',\n",
    "       '000001101110110110100100101011001111010110110101',\n",
    "       '110110100010110100000011001010110110111011100011',\n",
    "       '011010011010011000101001111111101100100100010011',\n",
    "       '110000011001010010001110100001110100011101011110',\n",
    "       '011100001000101011010010110111011011001111000000',\n",
    "       '001101001111100000100010111100001100011001101101',\n",
    "       '100001001011101101000100011100111101110011001100',\n",
    "       '000000100111011001010111000010001011010110111111',\n",
    "       '011011010101010101100000101011110111110010100101',\n",
    "       '110000101100000111101001011010100100101111110011',\n",
    "       '100110011100001100010011100101111100100100011111',\n",
    "       '001001010001101110001011110001110001011111010000',\n",
    "       '001100110011000011000101110110011010001101101101',\n",
    "       '000110000001110001011101011101011100011001101101']\n",
    "\n",
    "#Przykładowe funkcje do testowania, w przypadku DESa, będzie to funkcja z zdania 4.\n",
    "def F1(right,subkey):\n",
    "    return xor(right,subkey[:32])\n",
    "\n",
    "def F2(right,subkey):\n",
    "    return 32*'1'\n",
    "\n",
    "print(Feistel(message,subkeys,F1)=='0101110101010110001010010001100000101111010110001101111110100001')\n",
    "print(Feistel(message,subkeys,F2)=='1100110100010011001001010011011000010010001101000101011010101011')"
   ]
  },
  {
   "cell_type": "markdown",
   "metadata": {},
   "source": [
    "Zaletą sieci Feistela jest to, że aby odszyfrować zaszyfrowany nią ciąg bitów wystarczy użyć jej jeszcze raz z kluczami podanymi w odwrotnej kolejności, niezaleznie od tego czy funkcja F jest odwracalna czy też nie, poniższe testy sprawdzają te własność:"
   ]
  },
  {
   "cell_type": "code",
   "execution_count": 16,
   "metadata": {},
   "outputs": [],
   "source": [
    "print(Feistel(Feistel(message,subkeys,F1),subkeys[::-1],F1)==message)\n",
    "print(Feistel(Feistel(message,subkeys,F2),subkeys[::-1],F2)==message)"
   ]
  },
  {
   "cell_type": "markdown",
   "metadata": {},
   "source": [
    "# Zadanie 5 (2 pkt)"
   ]
  },
  {
   "cell_type": "markdown",
   "metadata": {},
   "source": [
    "W tym zadaniu zaimplementujemy funkcję **F**, która jest funkcją użytą w sieci Feistela w przypadku DESa.\n",
    "\n",
    "Funkcja ta przyjmuje jako argument napis będący ciągiem 32 bitów oraz 48-bitowy podklucz w zmiennej typu string, zwraca natomiast 32-bitowy napis. Operacje, które wykonuje są następujące:\n",
    "\n",
    "1. Ciąg 32 bitów jest poddawany permutacji rozszerzonej **E**, która zwraca ciąg 48 bitów.\n",
    "2. Do tego ciągu jest dodawany klucz za pomocą operacji XOR.\n",
    "3. Następnie ciąg 48 bitów dzielimy na 8 grup po 6 bitów, które trafiają do tzw. S-Boxów. Zmienna **SBox** zwiera listę 8 SBoxów, każdego używamy do innej grupy bitów. SBox jest macierzą z której odczytujemy ciąg 4 bitów odpowiadający wejściowym 6 bitom. Robimy to w następujący sposób. Z grupu 6 bitów bierzemy pierwszy i ostatni (jeżeli naszymi 6 bitami są '101011' to bierzemy '11') i zamieniamy na liczbę dziesiątną (w naszym przykłądzie 3) ta liczba oznacza numer wiersza w macierzy, następnie bierzemy pozostałe, środkowe, 4 bity ('0101') i zamieniamy na liczbę dziesiętną (5), określa ona nam numer kolumny. W ten sposób znaleziony element macierzy zamieniamy na liczbę zapisaną za pomocą 4 bitów. W ten sposób każdy z 8 SBoxów zamienia grupę 6 bitów na grupę 4 bitów.\n",
    "4. Powstałe grupy łaczymy w jeden ciąg 32 bitowy.\n",
    "5. Poddajemy ten ciąg permutacji **P**\n",
    "\n",
    "<img src=\"F.png\" width=\"500\" align=\"left\"/>"
   ]
  },
  {
   "cell_type": "code",
   "execution_count": 17,
   "metadata": {},
   "outputs": [],
   "source": [
    "def F(right, subkey):\n",
    "    pass"
   ]
  },
  {
   "cell_type": "code",
   "execution_count": 18,
   "metadata": {},
   "outputs": [],
   "source": [
    "E = [31,  0,  1,  2,  3,  4,  3,  4,  5,  6,  7,  8,  7,  8,  9, 10, 11,\n",
    "       12, 11, 12, 13, 14, 15, 16, 15, 16, 17, 18, 19, 20, 19, 20, 21, 22,\n",
    "       23, 24, 23, 24, 25, 26, 27, 28, 27, 28, 29, 30, 31,  0]\n",
    "\n",
    "SBox = [[[14, 4, 13, 1, 2, 15, 11, 8, 3, 10, 6, 12, 5, 9, 0, 7], \n",
    "        [ 0, 15, 7, 4, 14, 2, 13, 1, 10, 6, 12, 11, 9, 5, 3, 8], \n",
    "        [ 4, 1, 14, 8, 13, 6, 2, 11, 15, 12, 9, 7, 3, 10, 5, 0], \n",
    "        [15, 12, 8, 2, 4, 9, 1, 7, 5, 11, 3, 14, 10, 0, 6, 13 ]], \n",
    "        \n",
    "        [[15, 1, 8, 14, 6, 11, 3, 4, 9, 7, 2, 13, 12, 0, 5, 10], \n",
    "        [3, 13, 4, 7, 15, 2, 8, 14, 12, 0, 1, 10, 6, 9, 11, 5], \n",
    "        [0, 14, 7, 11, 10, 4, 13, 1, 5, 8, 12, 6, 9, 3, 2, 15], \n",
    "        [13, 8, 10, 1, 3, 15, 4, 2, 11, 6, 7, 12, 0, 5, 14, 9 ]], \n",
    "\n",
    "        [ [10, 0, 9, 14, 6, 3, 15, 5, 1, 13, 12, 7, 11, 4, 2, 8], \n",
    "        [13, 7, 0, 9, 3, 4, 6, 10, 2, 8, 5, 14, 12, 11, 15, 1], \n",
    "        [13, 6, 4, 9, 8, 15, 3, 0, 11, 1, 2, 12, 5, 10, 14, 7], \n",
    "        [1, 10, 13, 0, 6, 9, 8, 7, 4, 15, 14, 3, 11, 5, 2, 12 ]], \n",
    "\n",
    "        [ [7, 13, 14, 3, 0, 6, 9, 10, 1, 2, 8, 5, 11, 12, 4, 15], \n",
    "         [13, 8, 11, 5, 6, 15, 0, 3, 4, 7, 2, 12, 1, 10, 14, 9], \n",
    "         [10, 6, 9, 0, 12, 11, 7, 13, 15, 1, 3, 14, 5, 2, 8, 4], \n",
    "         [3, 15, 0, 6, 10, 1, 13, 8, 9, 4, 5, 11, 12, 7, 2, 14] ], \n",
    "\n",
    "        [ [2, 12, 4, 1, 7, 10, 11, 6, 8, 5, 3, 15, 13, 0, 14, 9], \n",
    "        [14, 11, 2, 12, 4, 7, 13, 1, 5, 0, 15, 10, 3, 9, 8, 6], \n",
    "        [4, 2, 1, 11, 10, 13, 7, 8, 15, 9, 12, 5, 6, 3, 0, 14], \n",
    "        [11, 8, 12, 7, 1, 14, 2, 13, 6, 15, 0, 9, 10, 4, 5, 3 ]], \n",
    "        \n",
    "        [ [12, 1, 10, 15, 9, 2, 6, 8, 0, 13, 3, 4, 14, 7, 5, 11], \n",
    "        [10, 15, 4, 2, 7, 12, 9, 5, 6, 1, 13, 14, 0, 11, 3, 8], \n",
    "         [9, 14, 15, 5, 2, 8, 12, 3, 7, 0, 4, 10, 1, 13, 11, 6], \n",
    "         [4, 3, 2, 12, 9, 5, 15, 10, 11, 14, 1, 7, 6, 0, 8, 13] ],\n",
    "        \n",
    "        [ [4, 11, 2, 14, 15, 0, 8, 13, 3, 12, 9, 7, 5, 10, 6, 1], \n",
    "        [13, 0, 11, 7, 4, 9, 1, 10, 14, 3, 5, 12, 2, 15, 8, 6], \n",
    "        [1, 4, 11, 13, 12, 3, 7, 14, 10, 15, 6, 8, 0, 5, 9, 2], \n",
    "        [6, 11, 13, 8, 1, 4, 10, 7, 9, 5, 0, 15, 14, 2, 3, 12] ], \n",
    "\n",
    "        [ [13, 2, 8, 4, 6, 15, 11, 1, 10, 9, 3, 14, 5, 0, 12, 7], \n",
    "         [1, 15, 13, 8, 10, 3, 7, 4, 12, 5, 6, 11, 0, 14, 9, 2], \n",
    "         [7, 11, 4, 1, 9, 12, 14, 2, 0, 6, 10, 13, 15, 3, 5, 8], \n",
    "         [2, 1, 14, 7, 4, 10, 8, 13, 15, 12, 9, 0, 3, 5, 6, 11] ] ] \n",
    "\n",
    "P = [ 15,  6, 19, 20, 28, 11, 27, 16,  0, 14, 22, 25,  4, 17, 30,  9,  1,\n",
    "        7, 23, 13, 31, 26,  2,  8, 18, 12, 29,  5, 21, 10,  3, 24] "
   ]
  },
  {
   "cell_type": "code",
   "execution_count": 19,
   "metadata": {},
   "outputs": [],
   "source": [
    "print(F('11001101000100110010010100110110','000110010100110011010000011100101101111010001100')\n",
    "      =='00010000110101100001010011011100')\n",
    "print(F('00010010001101000101011010101011','010001010110100001011000000110101011110011001110')\n",
    "      =='10110011111110000011101011101011')"
   ]
  },
  {
   "cell_type": "markdown",
   "metadata": {},
   "source": [
    "# Zadanie 6 (1 pkt)"
   ]
  },
  {
   "cell_type": "markdown",
   "metadata": {},
   "source": [
    "Wykorzystujac funkcje z poprzednich zadań zaimplementuj szyfr DES. Napisz funkcję **DES(message, subkeys)**, która jako argumenty przyjmuje ciąg 64 bitów, oraz listę 16 podkluczy 48-bitowych a zwraca ciąg 64-bitowy po zaszyfrowaniu i wykonuje nastepujące kroki:\n",
    "\n",
    "1. Wykonaj permutację początkową **IP**\n",
    "2. Wykonaj sieć Feistela z funkcją **F** z poprzedniego zadania.\n",
    "3. Wykonaj permutację końcową **FP**"
   ]
  },
  {
   "cell_type": "code",
   "execution_count": 20,
   "metadata": {},
   "outputs": [],
   "source": [
    "IP = [57, 49, 41, 33, 25, 17,  9,  1, 59, 51, 43, 35, 27, 19, 11,  3, 61,\n",
    "       53, 45, 37, 29, 21, 13,  5, 63, 55, 47, 39, 31, 23, 15,  7, 56, 48,\n",
    "       40, 32, 24, 16,  8,  0, 58, 50, 42, 34, 26, 18, 10,  2, 60, 52, 44,\n",
    "       36, 28, 20, 12,  4, 62, 54, 46, 38, 30, 22, 14,  6] \n",
    "\n",
    "FP = [39,  7, 47, 15, 55, 23, 63, 31, 38,  6, 46, 14, 54, 22, 62, 30, 37,\n",
    "        5, 45, 13, 53, 21, 61, 29, 36,  4, 44, 12, 52, 20, 60, 28, 35,  3,\n",
    "       43, 11, 51, 19, 59, 27, 34,  2, 42, 10, 50, 18, 58, 26, 33,  1, 41,\n",
    "        9, 49, 17, 57, 25, 32,  0, 40,  8, 48, 16, 56, 24]"
   ]
  },
  {
   "cell_type": "code",
   "execution_count": 21,
   "metadata": {},
   "outputs": [],
   "source": [
    "def DES(message, subkeys):\n",
    "    pass"
   ]
  },
  {
   "cell_type": "code",
   "execution_count": 22,
   "metadata": {},
   "outputs": [],
   "source": [
    "message = '0001001000110100010101101010101111001101000100110010010100110110'\n",
    "key='1010101010111011000010010001100000100111001101101100110011011101'\n",
    "\n",
    "subkeys=key_schedule(key)\n",
    "\n",
    "print(DES(message,subkeys)=='1100000010110111101010001101000001011111001110101000001010011100')"
   ]
  },
  {
   "cell_type": "markdown",
   "metadata": {},
   "source": [
    "Deszyfracji dokonujemy tym samym algorytmem co szyfracji, czyli funkcją **DES** ale musimy odwrócić kolejność w liście podkluczy, wobec tego powinno zachodzić:"
   ]
  },
  {
   "cell_type": "code",
   "execution_count": 23,
   "metadata": {},
   "outputs": [],
   "source": [
    "print(DES(DES(message,subkeys),subkeys[::-1])==message)"
   ]
  },
  {
   "cell_type": "markdown",
   "metadata": {},
   "source": [
    "# Zadanie 7 (1 pkt)"
   ]
  },
  {
   "cell_type": "markdown",
   "metadata": {},
   "source": [
    "Wczytaj obrazek img_enc.png za pomocą poniższego kodu:"
   ]
  },
  {
   "cell_type": "code",
   "execution_count": 3,
   "metadata": {},
   "outputs": [
    {
     "ename": "NameError",
     "evalue": "name 'dec2bin' is not defined",
     "output_type": "error",
     "traceback": [
      "\u001b[0;31m---------------------------------------------------------------------------\u001b[0m",
      "\u001b[0;31mNameError\u001b[0m                                 Traceback (most recent call last)",
      "Cell \u001b[0;32mIn[3], line 3\u001b[0m\n\u001b[1;32m      1\u001b[0m img_enc\u001b[38;5;241m=\u001b[39mImage\u001b[38;5;241m.\u001b[39mopen(\u001b[38;5;124m'\u001b[39m\u001b[38;5;124mimg_enc.png\u001b[39m\u001b[38;5;124m'\u001b[39m)\n\u001b[1;32m      2\u001b[0m arr\u001b[38;5;241m=\u001b[39mnp\u001b[38;5;241m.\u001b[39marray(img_enc)\u001b[38;5;241m.\u001b[39mravel()\n\u001b[0;32m----> 3\u001b[0m arr_bin\u001b[38;5;241m=\u001b[39m[dec2bin(d,\u001b[38;5;241m8\u001b[39m) \u001b[38;5;28;01mfor\u001b[39;00m d \u001b[38;5;129;01min\u001b[39;00m arr]\n\u001b[1;32m      4\u001b[0m bits_enc\u001b[38;5;241m=\u001b[39m\u001b[38;5;124m'\u001b[39m\u001b[38;5;124m'\u001b[39m\u001b[38;5;241m.\u001b[39mjoin(arr_bin)\n\u001b[1;32m      5\u001b[0m img_enc\n",
      "Cell \u001b[0;32mIn[3], line 3\u001b[0m, in \u001b[0;36m<listcomp>\u001b[0;34m(.0)\u001b[0m\n\u001b[1;32m      1\u001b[0m img_enc\u001b[38;5;241m=\u001b[39mImage\u001b[38;5;241m.\u001b[39mopen(\u001b[38;5;124m'\u001b[39m\u001b[38;5;124mimg_enc.png\u001b[39m\u001b[38;5;124m'\u001b[39m)\n\u001b[1;32m      2\u001b[0m arr\u001b[38;5;241m=\u001b[39mnp\u001b[38;5;241m.\u001b[39marray(img_enc)\u001b[38;5;241m.\u001b[39mravel()\n\u001b[0;32m----> 3\u001b[0m arr_bin\u001b[38;5;241m=\u001b[39m[\u001b[43mdec2bin\u001b[49m(d,\u001b[38;5;241m8\u001b[39m) \u001b[38;5;28;01mfor\u001b[39;00m d \u001b[38;5;129;01min\u001b[39;00m arr]\n\u001b[1;32m      4\u001b[0m bits_enc\u001b[38;5;241m=\u001b[39m\u001b[38;5;124m'\u001b[39m\u001b[38;5;124m'\u001b[39m\u001b[38;5;241m.\u001b[39mjoin(arr_bin)\n\u001b[1;32m      5\u001b[0m img_enc\n",
      "\u001b[0;31mNameError\u001b[0m: name 'dec2bin' is not defined"
     ]
    }
   ],
   "source": [
    "img_enc=Image.open('img_enc.png')\n",
    "arr=np.array(img_enc).ravel()\n",
    "arr_bin=[dec2bin(d,8) for d in arr]\n",
    "bits_enc=''.join(arr_bin)\n",
    "img_enc"
   ]
  },
  {
   "cell_type": "markdown",
   "metadata": {},
   "source": [
    "Napisz funkcję **image_split(bits, k)** dzielącą ciąg bitów **bits** na listę bloków **k**-bitowych. Uzyskany ciąg bitów **bits_enc** podziel na bloki 64-bitowe i każdy z nich odszyfruj wiedząc, że został zaszyfrowany DES-em z kluczem:"
   ]
  },
  {
   "cell_type": "code",
   "execution_count": 25,
   "metadata": {},
   "outputs": [],
   "source": [
    "key = '1010101010111011000010010001100000100111001101101100110011011101'"
   ]
  },
  {
   "cell_type": "markdown",
   "metadata": {},
   "source": [
    "Pamiętaj, że deszyfracji dokomujemy tym samym algorytmem co szyfracji, czyli funkcją **DES** ale musimy odwrócić kolejność w liście podkluczy."
   ]
  },
  {
   "cell_type": "code",
   "execution_count": 26,
   "metadata": {},
   "outputs": [],
   "source": [
    "def image_split(bits, k):\n",
    "  pass\n",
    "    "
   ]
  },
  {
   "cell_type": "markdown",
   "metadata": {},
   "source": [
    "Uzyskane ciagi bitów połącz w jeden ciąg **str_dec** a następnie korzystając z poniższego kodu zamień w obrazek:"
   ]
  },
  {
   "cell_type": "code",
   "execution_count": 28,
   "metadata": {},
   "outputs": [],
   "source": [
    "img=np.array([bin2dec(b) for b in image_split(str_dec,8)]).reshape(np.array(img_enc).shape)\n",
    "Image.fromarray(np.uint8(np.array(img)))"
   ]
  },
  {
   "cell_type": "markdown",
   "metadata": {},
   "source": [
    "Jeśli wszystko pójdzie dobrze powinien pokazać się obraz. Co to za obraz?"
   ]
  }
 ],
 "metadata": {
  "kernelspec": {
   "display_name": "Python 3 (ipykernel)",
   "language": "python",
   "name": "python3"
  },
  "language_info": {
   "codemirror_mode": {
    "name": "ipython",
    "version": 3
   },
   "file_extension": ".py",
   "mimetype": "text/x-python",
   "name": "python",
   "nbconvert_exporter": "python",
   "pygments_lexer": "ipython3",
   "version": "3.9.18"
  },
  "vscode": {
   "interpreter": {
    "hash": "96ad6c7fd9d06889208fc918e485ee5403ac6f6c27ad3f857e9a26d0c3a3092d"
   }
  }
 },
 "nbformat": 4,
 "nbformat_minor": 4
}
