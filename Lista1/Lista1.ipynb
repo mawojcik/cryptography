{
 "cells": [
  {
   "cell_type": "markdown",
   "metadata": {},
   "source": [
    "# Lista 1 (9 pkt.)"
   ]
  },
  {
   "cell_type": "code",
   "execution_count": 7,
   "metadata": {
    "ExecuteTime": {
     "end_time": "2024-10-04T08:18:36.813454Z",
     "start_time": "2024-10-04T08:18:36.423751Z"
    }
   },
   "outputs": [],
   "source": [
    "import string\n",
    "import matplotlib.pyplot as plt\n",
    "import numpy as np"
   ]
  },
  {
   "cell_type": "markdown",
   "metadata": {},
   "source": [
    "## Zadanie 1 (1 pkt.)"
   ]
  },
  {
   "cell_type": "markdown",
   "metadata": {},
   "source": [
    "Zaimplementuj szyfr Cezara. Napisz funkcję **Cezar(tekst, klucz)** tak aby jako argumenty przyjmowała tekst do zaszyfrowania oraz klucz a zwracała zaszyfrowany tekst. Funkcja ta dostając jako argumenty zaszyfrowany tekst oraz **-klucz** (klucz, ktorym zaszyfrowano tekst ze znakiem minus) będzie zwracała odszyfrowany tekst. Funkcja powinna przejść testy, czyli powinna 8 razy zwrócić **True**.\n",
    "\n",
    "Pamiętaj o polskich znakach. Szyfrujemy tylko litery, natomiast cyfry, znaki interpunkcyjne i białe znaki zostają bez zmian. Wielkie litery po zaszyfrowaniu są również wielkie. Użyj poniższego alfabetu."
   ]
  },
  {
   "cell_type": "code",
   "execution_count": 8,
   "metadata": {
    "ExecuteTime": {
     "end_time": "2024-10-04T08:18:36.821362Z",
     "start_time": "2024-10-04T08:18:36.815207Z"
    }
   },
   "outputs": [],
   "source": [
    "alfabet = ['a','ą', 'b', 'c', 'ć', 'd', 'e', 'ę', 'f', 'g', 'h', 'i', 'j', 'k', 'l', 'ł', 'm', \n",
    "           'n', 'ń', 'o','ó', 'p', 'q','r', 's', 'ś', 't', 'u','v', 'w', 'x','y', 'z','ź','ż']"
   ]
  },
  {
   "cell_type": "markdown",
   "metadata": {},
   "source": [
    "Przy implementacji mogą być przydatne takie elementy biblioteki string jak: **string.punctuation, string.whitespace, string.digits, upper(), lower(), isupper()**"
   ]
  },
  {
   "cell_type": "code",
   "execution_count": 9,
   "metadata": {
    "ExecuteTime": {
     "end_time": "2024-10-04T08:18:36.828323Z",
     "start_time": "2024-10-04T08:18:36.819838Z"
    }
   },
   "outputs": [
    {
     "data": {
      "text/plain": "True"
     },
     "execution_count": 9,
     "metadata": {},
     "output_type": "execute_result"
    }
   ],
   "source": [
    "'C'.isupper()"
   ]
  },
  {
   "cell_type": "code",
   "execution_count": 10,
   "metadata": {
    "ExecuteTime": {
     "end_time": "2024-10-04T08:18:36.839423Z",
     "start_time": "2024-10-04T08:18:36.827535Z"
    }
   },
   "outputs": [
    {
     "data": {
      "text/plain": "'Ala ma kota.'"
     },
     "execution_count": 10,
     "metadata": {},
     "output_type": "execute_result"
    }
   ],
   "source": [
    "def Cezar(tekst,key):\n",
    "    res = \"\"\n",
    "    for char in tekst:\n",
    "        if not char.isalpha():\n",
    "            res += char\n",
    "            continue\n",
    "\n",
    "        char_index = alfabet.index(char.lower())\n",
    "        \n",
    "        shifted_char = alfabet[(char_index + key) % len(alfabet)]\n",
    "        if char.isupper():\n",
    "            res += shifted_char.upper()\n",
    "        else:\n",
    "            res += shifted_char\n",
    "    return res\n",
    "Cezar(\"Cnc oc mqwc.\",-3)"
   ]
  },
  {
   "cell_type": "code",
   "execution_count": 11,
   "metadata": {
    "ExecuteTime": {
     "end_time": "2024-10-04T08:18:36.871324Z",
     "start_time": "2024-10-04T08:18:36.833881Z"
    }
   },
   "outputs": [
    {
     "name": "stdout",
     "output_type": "stream",
     "text": [
      "True\n",
      "True\n",
      "True\n",
      "True\n",
      "True\n",
      "True\n",
      "True\n",
      "True\n"
     ]
    }
   ],
   "source": [
    "print(Cezar('Ala ma kota.',3)=='Cnc oc mqwc.')\n",
    "print(Cezar('Ala ma kota.',20)=='Óżó ąó źćió.')\n",
    "print(Cezar('Ala ma 2 koty.',5)=='Dod pd 2 ńsyą.')\n",
    "print(Cezar('Daremne żale, próżny trud,\\nBezsilne złorzeczenia!\\nPrzeżytych kształtów żaden cud\\nNie wróci do istnienia.',7)\n",
    "                  =='Jęxkrsk eępk, vxuesc źxżj,\\nGkćyńpsk ćqtxćkhćksńę!\\nVxćkecźchn óyćźęqźuą eęjks hżj\\nSńk ąxuhń jt ńyźsńksńę.')\n",
    "print(Cezar('Cnc oc mqwc.',-3)=='Ala ma kota.')\n",
    "print(Cezar('Óżó ąó źćió.',-20)=='Ala ma kota.')\n",
    "print(Cezar('Dod pd 2 ńsyą.',-5)=='Ala ma 2 koty.')\n",
    "print(Cezar('Jęxkrsk eępk, vxuesc źxżj,\\nGkćyńpsk ćqtxćkhćksńę!\\nVxćkecźchn óyćźęqźuą eęjks hżj\\nSńk ąxuhń jt ńyźsńksńę.',-7)\n",
    "                  =='Daremne żale, próżny trud,\\nBezsilne złorzeczenia!\\nPrzeżytych kształtów żaden cud\\nNie wróci do istnienia.')"
   ]
  },
  {
   "cell_type": "markdown",
   "metadata": {},
   "source": [
    "## Zadanie 2 (1 pkt.)"
   ]
  },
  {
   "cell_type": "markdown",
   "metadata": {},
   "source": [
    "Wiedząc, że poniższy tekst zaszyfrowano metodą Cezara, odszyfruj go metodą \"brute force\". Co to za cytat?"
   ]
  },
  {
   "cell_type": "code",
   "execution_count": 12,
   "metadata": {
    "ExecuteTime": {
     "end_time": "2024-10-04T08:18:36.873432Z",
     "start_time": "2024-10-04T08:18:36.837565Z"
    }
   },
   "outputs": [
    {
     "name": "stdout",
     "output_type": "stream",
     "text": [
      "0: Hćcrek okyź hćęy? Okzpń sńóź rsńk t źt sńk vcźę, ąńkr. Okzpń vcźęofhkrż żyńqżol ącźqżręhćci, sńk ąńkr.\n",
      "1: Idćsęl ólzż idfz? Ólźqo śopż sśol u żu śol wćżf, bols. Ólźqo wćżfógilsa azoraół bćżrasfidćj, śol bols.\n",
      "2: Jedśfł płźa jegź? Płżró tóqa śtół v av tół xdag, cółś. Płżró xdagphjłśą ąźósąpm cdasąśgjedk, tół cółś.\n",
      "3: Kęetgm qmżą kęhż? Qmasp uprą tupm w ąw upm yeąh, ćpmt. Qmasp yeąhqikmtb bżpśbqn ćeąśbthkęel, upm ćpmt.\n",
      "4: Lfęuhn rnab lfia? Rnąśq vqsb uvqn x bx vqn zębi, dqnu. Rnąśq zębirjlnuc caqtcrń dębtcuilfęł, vqn dqnu.\n",
      "5: Łgfviń sńąc łgją? Sńbtr wrśc vwrń y cy wrń źfcj, erńv. Sńbtr źfcjskłńvć ćąrućso efcućvjłgfm, wrń erńv.\n",
      "6: Mhgwjo śobć mhkb? Śocus xstć wxso z ćz xso żgćk, ęsow. Śocus żgćkślmowd dbsvdśó ęgćvdwkmhgn, xso ęsow.\n",
      "7: Nihxkó tócd nilc? Tóćvś yśud xyśó ź dź yśó ahdl, fśóx. Tóćvś ahdltłnóxe ecśwetp fhdwexlnihń, yśó fśóx.\n",
      "8: Ńjiylp upće ńjłć? Updwt ztve yztp ż eż ztp ąieł, gtpy. Updwt ąiełumńpyę ęćtxęuq giexęyłńjio, ztp gtpy.\n",
      "9: Okjzłq vqdę okmd? Vqexu źuwę zźuq a ęa źuq bjęm, huqz. Vqexu bjęmvnoqzf fduyfvr hjęyfzmokjó, źuq huqz.\n",
      "10: Ólkźmr wref ólne? Wręyv żvxf źżvr ą fą żvr ckfn, ivrź. Wręyv ckfnwńórźg gevzgws ikfzgźnólkp, żvr ivrź.\n",
      "11: Płlżns xsęg płńę? Xsfzw awyg żaws b gb aws ćlgń, jwsż. Xsfzw ćlgńxopsżh hęwźhxś jlgźhżńpłlq, aws jwsż.\n",
      "12: Qmłańś yśfh qmof? Yśgźx ąxzh aąxś c hc ąxś dłho, kxśa. Yśgźx dłhoyóqśai ifxżiyt kłhżiaoqmłr, ąxś kxśa.\n",
      "13: Rnmąot ztgi rnóg? Zthży byźi ąbyt ć ić byt emió, lytą. Zthży emiózprtąj jgyajzu lmiająórnms, byt lytą.\n",
      "14: Sńnbóu źuhj sńph? Źuiaz czżj bczu d jd czu ęnjp, łzub. Źuiaz ęnjpźqsubk khząkźv łnjąkbpsńnś, czu łzub.\n",
      "15: Śońcpv żvik śoqi? Żvjąź ćźak cćźv e ke ćźv fńkq, mźvc. Żvjąź fńkqżrśvcl liźblżw mńkblcqśońt, ćźv mźvc.\n",
      "16: Tóoćqw awjl tórj? Awkbż dżąl ćdżw ę lę dżw golr, nżwć. Awkbż golrastwćł łjżcłax nolcłćrtóou, dżw nżwć.\n",
      "17: Upódrx ąxkł upsk? Ąxlca eabł deax f łf eax hółs, ńaxd. Ąxlca hółsąśuxdm mkaćmąy ńółćmdsupóv, eax ńaxd.\n",
      "18: Vqpesy bylm vqśl? Byłćą ęącm eęąy g mg ęąy ipmś, oąye. Byłćą ipmśbtvyen nlądnbz opmdneśvqpw, ęąy oąye.\n",
      "19: Wrqęśz człn wrtł? Czmdb fbćn ęfbz h nh fbz jqnt, óbzę. Czmdb jqntcuwzęń ńłbeńcź óqneńętwrqx, fbz óbzę.\n",
      "20: Xsrftź ćźmń xsum? Ćźnec gcdń fgcź i ńi gcź krńu, pcźf. Ćźnec krńućvxźfo omcęoćż prńęofuxsry, gcź pcźf.\n",
      "21: Yśsguż dżno yśvn? Dżńęć hćeo ghćż j oj hćż lsov, qćżg. Dżńęć lsovdwyżgó ónćfóda qsofógvyśsz, hćż qćżg.\n",
      "22: Ztśhva eańó ztwń? Eaofd idęó hida k ók ida łśów, rdah. Eaofd łśówexzahp pńdgpeą rśógphwztśź, ida rdah.\n",
      "23: Źutiwą ęąop źuxo? Ęąóge jefp ijeą l pl jeą mtpx, seąi. Ęąóge mtpxęyźąiq qoehqęb stphqixźutż, jeą seąi.\n",
      "24: Żvujxb fbóq żvyó? Fbphę kęgq jkęb ł qł kęb nuqy, śębj. Fbphę nuqyfzżbjr róęirfc śuqirjyżvua, kęb śębj.\n",
      "25: Awvkyc gcpr awzp? Gcqif lfhr klfc m rm lfc ńvrz, tfck. Gcqif ńvrzgźacks spfjsgć tvrjskzawvą, lfc tfck.\n",
      "26: Ąxwlzć hćqs ąxźq? Hćrjg łgis lłgć n sn łgć owsź, ugćl. Hćrjg owsźhżąćlś śqgkśhd uwskślźąxwb, łgć ugćl.\n",
      "27: Byxłźd idrś byżr? Idskh mhjś łmhd ń śń mhd óxśż, vhdł. Idskh óxśżiabdłt trhltie vxśltłżbyxc, mhd vhdł.\n",
      "28: Czymże jest czas? Jeśli nikt mnie o to nie pyta, wiem. Jeśli pytającemu usiłuję wytłumaczyć, nie wiem.\n",
      "29: Ćźznaę kęśu ćźąś? Kętłj ńjlu nńję ó uó ńję qzuą, xjęn. Kętłj qzuąkbćęnv vśjmvkf xzumvnąćźzd, ńję xjęn.\n",
      "30: Dżźńąf lftv dżbt? Lfumk okłv ńokf p vp okf rźvb, ykfń. Lfumk rźvblcdfńw wtknwlg yźvnwńbdżźe, okf ykfń.\n",
      "31: Eażobg łguw eacu? Łgvnl ólmw oólg q wq ólg sżwc, zlgo. Łgvnl sżwcłćegox xulńxłh zżwńxoceażę, ólg zlgo.\n",
      "32: Ęąaóch mhvx ęąćv? Mhwńł płnx ópłh r xr płh śaxć, źłhó. Mhwńł śaxćmdęhóy yvłoymi źaxoyóćęąaf, płh źłhó.\n",
      "33: Fbąpći niwy fbdw? Nixom qmńy pqmi s ys qmi tąyd, żmip. Nixom tąydnefipz zwmóznj żąyózpdfbąg, qmi żmip.\n",
      "34: Gcbqdj ńjxz gcex? Ńjyón rnoz qrnj ś zś rnj ubze, anjq. Ńjyón ubzeńęgjqź źxnpźńk abzpźqegcbh, rnj anjq.\n"
     ]
    }
   ],
   "source": [
    "tekst = 'Hćcrek okyź hćęy? Okzpń sńóź rsńk t źt sńk vcźę, ąńkr. Okzpń vcźęofhkrż żyńqżol ącźqżręhćci, sńk ąńkr.'\n",
    "\n",
    "for number in range(len(alfabet)):\n",
    "    print(f'{number}: {Cezar(tekst, number)}')\n",
    "    \n",
    "# 28: Czymże jest czas? Jeśli nikt mnie o to nie pyta, wiem. Jeśli pytającemu usiłuję wytłumaczyć, nie wiem."
   ]
  },
  {
   "cell_type": "markdown",
   "metadata": {},
   "source": [
    "## Zadanie 3 (2 pkt.)"
   ]
  },
  {
   "cell_type": "markdown",
   "metadata": {},
   "source": [
    "Plik **'ksiazka1.txt'** zawiera tekst pewnej książki zaszyfrowany metodą Cezara. Dokonaj analizy statystycznej liter i na tej podstawie znajdź klucz oraz odszyfruj tekst. Jaka to książka?\n",
    "\n",
    "Do wczytania pliku możesz użyć poniższego kodu."
   ]
  },
  {
   "cell_type": "code",
   "execution_count": 13,
   "metadata": {
    "ExecuteTime": {
     "end_time": "2024-10-04T08:18:37.407965Z",
     "start_time": "2024-10-04T08:18:36.848154Z"
    }
   },
   "outputs": [
    {
     "name": "stdout",
     "output_type": "stream",
     "text": [
      "CHARACTERS FREQUENCY: {'x': 36716, 'r': 73315, 'ó': 32978, 'ł': 94080, 'ź': 43405, 'v': 45492, 'i': 17920, 'ś': 30232, 's': 10382, 'o': 29423, 'p': 52980, 'ę': 40683, 'l': 12306, 'g': 35196, 'n': 31701, 'd': 13539, 'h': 76056, 'ć': 92346, 'j': 3292, 'u': 42061, 'a': 40933, 'ń': 19690, 'c': 11265, 'k': 15736, 'm': 22710, 'ą': 59628, 'w': 9162, 'y': 21142, 'e': 17853, 'q': 1952, 'f': 5690, 'b': 774, 'ż': 172, 'z': 38, 't': 2}\n",
      "\n",
      "\n",
      "\n",
      "decrypting with most frequent letter: \"ł\"\n",
      "\n",
      "\n",
      "\n",
      "Łfd A\n",
      "\n",
      "\n",
      "\n",
      "Ńkłyh\n",
      "\n",
      "Ń hgćefuef-ńkużfwead bśuax Szjóba cxró Xźahł, fąupópes esąkłsjkpxą uóńacapsuąa ń lńaxuax. Hjpxw łjpxds, upłxjxds, s esńxł hayuafds łókaśusda csł, baxwó ń ljfwbfńxą Xmjfhax fwpasea ń kmjfńx kbgjó tsjtsjpóęuó bjóca kay hf ąskbaeasuż, Xźahł - ąmr hfkaswsć ńókfbś fjźseapsuąy khfćxupeś, jfceaułńf, jpxdafkćs a całxjsłmjy. Eswx ńkpókłbf psl ńóbfeóńsć fctjpódax hjsux aeróeaxjkbax a ńpefkać bfcfkscex tmwfńcx, błgjóuż kpupśłba tmwpś hfwpań ń łxużeabsuż efńfrółeóuż.\n",
      "\n",
      "Xźahł - ąxkł łf rópeó ńśńgp daywpó hmkłóeaś Cataąkbś a Sjstkbś. Źćytfbflv ąxźf ńóefka bacbskxł dxłjgń, wćmźflv kłf łjpówpaxlua dac, ljxweas kpxjfbflv pscxwńf dacy. Fw psużfwm - ćsźfwex, scx esźax ńpźgjps cataąkbax, fw ńkużfwm kłjfdx a hfhybsex kbsćó sjstkbax kś luasesda łxźf bfjółsjps, błgjxźf wexd hćóeax jpxbs - Eac.\n",
      "\n",
      "P taxźaxd jpxba, es hgćefu, luaseó ńśńfpm pearsąś kay, s ń fwcxźćflua wńmwpaxkłm hayuam dac fw Dfjps Ljgwpaxdexźf esźcx jfpużfwpś kay, a Eac, psdaskł hćóeśv uaskeód bfjółsjpxd, jfpcxńs kay bacbfds jsdaf\n",
      "\n",
      "\n",
      "\n",
      "decrypting with second most frequent letter: \"ć\"\n",
      "\n",
      "\n",
      "\n",
      "Tom I\n",
      "\n",
      "\n",
      "\n",
      "Wstęp\n",
      "\n",
      "W północno-wschodnim kącie Afryki leży Egipt, ojczyzna najstarszej cywilizacji w świecie. Przed trzema, czterema, a nawet pięcioma tysiącami lat, kiedy w środkowej Europie odziani w surowe skóry barbarzyńcy kryli się po jaskiniach, Egipt - już posiadał wysoką organizację społeczną, rolnictwo, rzemiosła i literaturę. Nade wszystko zaś wykonywał olbrzymie prace inżynierskie i wznosił kolosalne budowle, których szczątki budzą podziw w technikach nowożytnych.\n",
      "\n",
      "Egipt - jest to żyzny wąwóz między pustynią Libijską i Arabską. Głębokość jego wynosi kilkaset metrów, długość sto trzydzieści mil, średnia szerokość zaledwo milę. Od zachodu - łagodne, ale nagie wzgórza libijskie, od wschodu strome i popękane skały arabskie są ścianami tego korytarza, którego dnem płynie rzeka - Nil.\n",
      "\n",
      "Z biegiem rzeki, na północ, ściany wąwozu zniżają się, a w odległości dwudziestu pięciu mil od Morza Śródziemnego nagle rozchodzą się, i Nil, zamiast płynąć ciasnym korytarzem, rozlewa się kilkoma ramio\n"
     ]
    },
    {
     "data": {
      "text/plain": "<Figure size 640x480 with 1 Axes>",
      "image/png": "[encoded data removed]"
     },
     "metadata": {},
     "output_type": "display_data"
    }
   ],
   "source": [
    "plik=open('ksiazka1.txt', encoding='utf8')\n",
    "ksiazka=plik.read()\n",
    "characters_frequency = {}\n",
    "\n",
    "for char in ksiazka:\n",
    "    if not char.isalpha():\n",
    "        continue\n",
    "    characters_frequency[char.lower()] = characters_frequency.get(char.lower(), 0) + 1    \n",
    "\n",
    "plt.bar(characters_frequency.keys(), characters_frequency.values())\n",
    "\n",
    "max_frequency = 0\n",
    "most_frequent_char = ''\n",
    "for key, value in characters_frequency.items():\n",
    "    if value > max_frequency:\n",
    "        max_frequency = value\n",
    "        most_frequent_char = key\n",
    "print(f'CHARACTERS FREQUENCY: {characters_frequency}')\n",
    "\n",
    "\"\"\" decrypting with the most frequent letter: 'ł' \"\"\"\n",
    "\n",
    "shift = alfabet.index(most_frequent_char) - alfabet.index('a')\n",
    "print(f'\\n\\n\\ndecrypting with most frequent letter: \"{most_frequent_char}\"\\n\\n\\n')\n",
    "print(Cezar(ksiazka[0:1000], -shift))\n",
    "\n",
    "\n",
    "\"\"\" this didn't work, lets try second most frequent: 'ć' \"\"\"\n",
    "\n",
    "print(f'\\n\\n\\ndecrypting with second most frequent letter: \"ć\"\\n\\n\\n')\n",
    "shift = alfabet.index('ć') - alfabet.index('a')\n",
    "print(Cezar(ksiazka[0:1000], -shift))\n",
    "\n",
    "\n",
    "\n",
    "\"\"\" The book is: Bolesław Prus: Faraon\"\"\"\n",
    "plik.close()"
   ]
  },
  {
   "cell_type": "markdown",
   "metadata": {},
   "source": [
    "Słownik **czestoliwosc** zawiera częstotliwości występowania liter w języku polskim."
   ]
  },
  {
   "cell_type": "code",
   "execution_count": 14,
   "metadata": {
    "ExecuteTime": {
     "end_time": "2024-10-04T08:18:37.462016Z",
     "start_time": "2024-10-04T08:18:37.409682Z"
    }
   },
   "outputs": [],
   "source": [
    "czestotliwosc = {'a':0.0891,'ą':0.0099, 'b':0.0147, 'c':0.0396, 'ć':0.004, 'd':0.0325, 'e':0.0766, 'ę':0.0111, 'f':0.003, \n",
    "                 'g':0.0142, 'h':0.0108, 'i':0.0821, 'j':0.0228, 'k':0.0351, 'l':0.021, 'ł':0.0182,'m':0.028, 'n':0.0552, \n",
    "                 'ń':0.002, 'o':0.0775,'ó':0.0085, 'p':0.0313, 'q':0.0014, 'r':0.0469, 's':0.0432,'ś':0.0066, 't':0.0398,\n",
    "                 'u':0.025, 'v': 0.0004, 'w':0.0465 ,'x':0.0002,'y':0.0376, 'z':0.0564,'ź':0.0006,'ż':0.0083}"
   ]
  },
  {
   "cell_type": "code",
   "execution_count": 15,
   "metadata": {
    "ExecuteTime": {
     "end_time": "2024-10-04T08:18:37.558788Z",
     "start_time": "2024-10-04T08:18:37.428134Z"
    }
   },
   "outputs": [
    {
     "data": {
      "text/plain": "<BarContainer object of 35 artists>"
     },
     "execution_count": 15,
     "metadata": {},
     "output_type": "execute_result"
    },
    {
     "data": {
      "text/plain": "<Figure size 640x480 with 1 Axes>",
      "image/png": "[encoded data removed]"
     },
     "metadata": {},
     "output_type": "display_data"
    }
   ],
   "source": [
    "plt.bar(czestotliwosc.keys(),czestotliwosc.values())"
   ]
  },
  {
   "cell_type": "markdown",
   "metadata": {},
   "source": [
    "## Zadanie 4 (2 pkt.)"
   ]
  },
  {
   "cell_type": "markdown",
   "metadata": {},
   "source": [
    "Napisz dwie funkcje, szyfrującą i deszyfrującą, dla szyfru Vignere'a. Funkcja **Vignere_zaszyfruj(tekst, klucz)** przyjmuje jako argumenty tekst do zaszyfrowania oraz klucz w postaci słowa. Podobnie funkcja **Vignere_odszyfruj(tekst, klucz)** przyjmuje jako argumenty tekst zaszyfrowany oraz klucz w postaci słowa. Może być przydatne skorzystanie z zamiany liter na liczby (tzn. na liczby określające pozycję litery w alfabecie):"
   ]
  },
  {
   "cell_type": "code",
   "execution_count": 16,
   "metadata": {
    "ExecuteTime": {
     "end_time": "2024-10-04T08:18:37.559079Z",
     "start_time": "2024-10-04T08:18:37.542920Z"
    }
   },
   "outputs": [],
   "source": [
    "liczb_do_lit=dict()\n",
    "lit_do_liczb=dict()\n",
    "for i,l in enumerate(alfabet):\n",
    "    liczb_do_lit[i]=l\n",
    "    lit_do_liczb[l]=i"
   ]
  },
  {
   "cell_type": "code",
   "execution_count": 17,
   "metadata": {
    "ExecuteTime": {
     "end_time": "2024-10-04T08:18:37.559418Z",
     "start_time": "2024-10-04T08:18:37.545994Z"
    }
   },
   "outputs": [],
   "source": [
    "def Vignere_zaszyfruj(tekst,klucz):\n",
    "    encrypted_message = \"\"\n",
    "    char_from_key_counter = 0\n",
    "    upper = False\n",
    "    for char_to_encode in tekst:\n",
    "        if char_to_encode.isalpha():\n",
    "            if char_to_encode.isupper():\n",
    "                upper = True\n",
    "                \n",
    "            # choose what char to use for encryption:\n",
    "            key_char = klucz[char_from_key_counter % len(klucz)]\n",
    "            char_from_key_counter += 1\n",
    "            \n",
    "            # encrypt char\n",
    "            encrypted_char = alfabet[(lit_do_liczb[char_to_encode.lower()] + lit_do_liczb[key_char]) % len(alfabet)]\n",
    "            \n",
    "            # set encrypted char to upper if needed:\n",
    "            if upper:\n",
    "                encrypted_char = encrypted_char.upper()\n",
    "                upper = False\n",
    "            \n",
    "            # append encrypted char to whole message\n",
    "            encrypted_message += encrypted_char\n",
    "        else:\n",
    "            # if current char is not in alphabet, just append it\n",
    "            encrypted_message += char_to_encode\n",
    "            \n",
    "    return encrypted_message"
   ]
  },
  {
   "cell_type": "code",
   "execution_count": 24,
   "metadata": {
    "ExecuteTime": {
     "end_time": "2024-10-04T09:50:42.587740Z",
     "start_time": "2024-10-04T09:50:42.585751Z"
    }
   },
   "outputs": [],
   "source": [
    "def Vignere_odszyfruj(tekst,klucz):\n",
    "    decrypted_message = \"\"\n",
    "    char_from_key_counter = 0\n",
    "    upper = False\n",
    "    for char_to_decode in tekst:\n",
    "        if char_to_decode.isalpha():\n",
    "            if char_to_decode.isupper():\n",
    "                upper = True\n",
    "\n",
    "            # choose what char to use for decryption:\n",
    "            key_char = klucz[char_from_key_counter % len(klucz)]\n",
    "            char_from_key_counter += 1\n",
    "\n",
    "            # decrypt char\n",
    "            decrypted_char = alfabet[(lit_do_liczb[char_to_decode.lower()] - lit_do_liczb[key_char]) % len(alfabet)]\n",
    "\n",
    "            # set decrypted char to upper if needed:\n",
    "            if upper:\n",
    "                decrypted_char = decrypted_char.upper()\n",
    "                upper = False\n",
    "\n",
    "            # append decrypted char to whole message\n",
    "            decrypted_message += decrypted_char\n",
    "        else:\n",
    "            # if current char is not in alphabet, just append it\n",
    "            decrypted_message += char_to_decode\n",
    "\n",
    "    return decrypted_message  "
   ]
  },
  {
   "cell_type": "code",
   "execution_count": 25,
   "metadata": {
    "ExecuteTime": {
     "end_time": "2024-10-04T09:50:44.820941Z",
     "start_time": "2024-10-04T09:50:44.814145Z"
    }
   },
   "outputs": [
    {
     "name": "stdout",
     "output_type": "stream",
     "text": [
      "True\n",
      "True\n",
      "True\n",
      "True\n",
      "True\n",
      "True\n",
      "True\n",
      "True\n"
     ]
    }
   ],
   "source": [
    "print(Vignere_zaszyfruj('Ala ma kota.','ela')=='Eva ql kśda.')\n",
    "print(Vignere_zaszyfruj('Ala ma kota.','tygrys')=='Thg ćy bhqg.')\n",
    "print(Vignere_zaszyfruj('Ala ma 2 koty.','indywidualistyczny')=='Iyd jw 2 ssńy.')\n",
    "print(Vignere_zaszyfruj('Daremne żale, próżny trud,\\nBezsilne złorzeczenia!\\nPrzeżytych kształtów żaden cud\\nNie wróci do istnienia.','asnyk')\n",
    "                  =='Dsdbwnx myue, hdmjnó fodd,\\nTrvbicżb hłfdvocprksa!\\nHdvożófumh bevćaćfmę żsqbx cmq\\nKse ńdmmi wą ębtevbxis.')\n",
    "print(Vignere_odszyfruj('Eva ql kśda.','ela')=='Ala ma kota.')\n",
    "print(Vignere_odszyfruj('Thg ćy bhqg.','tygrys')=='Ala ma kota.')\n",
    "print(Vignere_odszyfruj('Iyd jw 2 ssńy.','indywidualistyczny')=='Ala ma 2 koty.')\n",
    "print(Vignere_odszyfruj('Dsdbwnx myue, hdmjnó fodd,\\nTrvbicżb hłfdvocprksa!\\nHdvożófumh bevćaćfmę żsqbx cmq\\nKse ńdmmi wą ębtevbxis.','asnyk')\n",
    "                  =='Daremne żale, próżny trud,\\nBezsilne złorzeczenia!\\nPrzeżytych kształtów żaden cud\\nNie wróci do istnienia.')"
   ]
  },
  {
   "cell_type": "markdown",
   "metadata": {},
   "source": [
    "## Zadanie 5 (3 pkt.)"
   ]
  },
  {
   "cell_type": "markdown",
   "metadata": {},
   "source": [
    "Plik **'ksiazka2.txt'** zawiera tekst pewnej książki zaszyfrowany metodą Vignere'a. Dokonaj analizy statystycznej liter i na tej podstawie znajdź klucz oraz odszyfruj tekst. Jaka to książka?\n",
    "\n",
    "Wskazówka I: Zauważ, że w metodzie Vignere'a co $n$-ta litera (gdzie $n$ to długość klucza) jest zaszyfrowana metodą Cezara.\n",
    "\n",
    "Wskazówka II: Najpierw ustal długość klucza $n$.\n",
    "\n",
    "Do wczytania pliku możesz użyć poniższego kodu."
   ]
  },
  {
   "cell_type": "code",
   "execution_count": 20,
   "metadata": {
    "ExecuteTime": {
     "end_time": "2024-10-04T08:18:37.560751Z",
     "start_time": "2024-10-04T08:18:37.555632Z"
    }
   },
   "outputs": [],
   "source": [
    "# KLUCZ MA MAKSYMALNĄ DŁUGOŚĆ 4\n",
    "\n",
    "\n",
    "plik=open('ksiazka2.txt', encoding='utf8')\n",
    "ksiazka=plik.read()\n",
    "plik.close()"
   ]
  }
 ],
 "metadata": {
  "kernelspec": {
   "display_name": "Python 3 (ipykernel)",
   "language": "python",
   "name": "python3"
  },
  "language_info": {
   "codemirror_mode": {
    "name": "ipython",
    "version": 3
   },
   "file_extension": ".py",
   "mimetype": "text/x-python",
   "name": "python",
   "nbconvert_exporter": "python",
   "pygments_lexer": "ipython3",
   "version": "3.9.18"
  },
  "vscode": {
   "interpreter": {
    "hash": "96ad6c7fd9d06889208fc918e485ee5403ac6f6c27ad3f857e9a26d0c3a3092d"
   }
  }
 },
 "nbformat": 4,
 "nbformat_minor": 4
}
